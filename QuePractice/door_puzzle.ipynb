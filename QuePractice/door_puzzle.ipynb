{
 "cells": [
  {
   "cell_type": "code",
   "execution_count": null,
   "id": "da3c8a10-9c27-44fe-af20-ef890b0398bc",
   "metadata": {
    "tags": []
   },
   "outputs": [],
   "source": [
    "print(\"hello\")"
   ]
  },
  {
   "cell_type": "code",
   "execution_count": null,
   "id": "27ec3197-6c4f-4db8-a401-c4b11403dad9",
   "metadata": {
    "tags": []
   },
   "outputs": [],
   "source": [
    "n=100\n",
    "l=[1]*n\n",
    "j=0\n",
    "for i in range(n):\n",
    "    while(j<n):\n",
    "        if l[j]==1:\n",
    "            l[j]=0\n",
    "        else:\n",
    "            l[j]=1\n",
    "        j+=1\n",
    "    i+=i\n",
    "\n",
    "print(l[8]"
   ]
  },
  {
   "cell_type": "code",
   "execution_count": null,
   "id": "e42a4182-6576-4701-96a0-58a060da05a7",
   "metadata": {},
   "outputs": [],
   "source": []
  }
 ],
 "metadata": {
  "kernelspec": {
   "display_name": "Python 3 (ipykernel)",
   "language": "python",
   "name": "python3"
  },
  "language_info": {
   "codemirror_mode": {
    "name": "ipython",
    "version": 3
   },
   "file_extension": ".py",
   "mimetype": "text/x-python",
   "name": "python",
   "nbconvert_exporter": "python",
   "pygments_lexer": "ipython3",
   "version": "3.11.5"
  }
 },
 "nbformat": 4,
 "nbformat_minor": 5
}
