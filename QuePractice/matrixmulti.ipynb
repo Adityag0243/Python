{
 "cells": [
  {
   "cell_type": "code",
   "execution_count": 19,
   "id": "a6dc6fae-4d97-4feb-9fbb-0be5e0c9697f",
   "metadata": {
    "tags": []
   },
   "outputs": [
    {
     "name": "stdout",
     "output_type": "stream",
     "text": [
      "[[0, 0], [0, 0]]\n",
      "22\n",
      "28\n",
      "62\n",
      "80\n",
      "[[62, 80], [62, 80]]\n"
     ]
    },
    {
     "data": {
      "text/plain": [
       "[[62, 5], [62, 5]]"
      ]
     },
     "execution_count": 19,
     "metadata": {},
     "output_type": "execute_result"
    }
   ],
   "source": [
    "l1=[[1,2,3],[3,4,5]]\n",
    "l2=[[1,2],[3,4],[5,6]]\n",
    "l=[([0]*2)]*2\n",
    "print(l)\n",
    "for i in range(2):\n",
    "    for j in range(2):\n",
    "        for k in range(3):\n",
    "            l[i][j]+=l1[i][k]*l2[k][j]             #############dhyaaaaaaaaaaaaaan de bhai\n",
    "        print(l[i][j])\n",
    "print(l)\n",
    "l[1][1]=5\n",
    "l            "
   ]
  },
  {
   "cell_type": "markdown",
   "id": "404d871e-a111-4e2f-87b1-589aae806854",
   "metadata": {},
   "source": [
    "i don't know kuchh to gadbad hai ???????????????"
   ]
  },
  {
   "cell_type": "code",
   "execution_count": null,
   "id": "cb546fd9-3d09-4fd5-990a-d9cded7b7f5c",
   "metadata": {},
   "outputs": [],
   "source": []
  }
 ],
 "metadata": {
  "kernelspec": {
   "display_name": "Python 3 (ipykernel)",
   "language": "python",
   "name": "python3"
  },
  "language_info": {
   "codemirror_mode": {
    "name": "ipython",
    "version": 3
   },
   "file_extension": ".py",
   "mimetype": "text/x-python",
   "name": "python",
   "nbconvert_exporter": "python",
   "pygments_lexer": "ipython3",
   "version": "3.11.5"
  }
 },
 "nbformat": 4,
 "nbformat_minor": 5
}
