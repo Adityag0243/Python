{
 "cells": [
  {
   "cell_type": "raw",
   "id": "877d07db-c1f5-486c-8a74-7b4c500ef7b6",
   "metadata": {
    "tags": []
   },
   "source": [
    "matrix given having only 0 and 1 \n",
    "in each row:\n",
    "matrix is in ascending order\n",
    "so  0 1 1 1  , 0 0 0 1 , 1 1 1 1 , 0 0 1 1 like this in ascending order:\n",
    "\n",
    "0,0,1,1,1      mai pichhe se chalunga untill zero mil jaye \n",
    "0,0,0,1,1      jaha zero mila phle wale wale me just usi ke niche row me aa jaung usi column me i.e. at 1,1\n",
    "0,1,1,1,1      waha pahuch ke dekha wapis 0 mil gaya niche kud jaunga 1 k talash me column-- aur row++ krke\n",
    "\n",
    "we need to find in which row maximum 1 are there in time complexity of n "
   ]
  },
  {
   "cell_type": "markdown",
   "id": "5364dc1b-5f82-4502-bf5e-bf20303a0dd5",
   "metadata": {},
   "source": [
    "*********************************************************************************"
   ]
  },
  {
   "cell_type": "code",
   "execution_count": 36,
   "id": "c6636700-827c-445c-bd78-ecdaa229bc38",
   "metadata": {
    "tags": []
   },
   "outputs": [
    {
     "name": "stdout",
     "output_type": "stream",
     "text": [
      "0 3 1\n",
      "0 2 1\n",
      "2 1 1\n",
      "4 0 1\n",
      "4\n"
     ]
    }
   ],
   "source": [
    "l=[[0,0,1,1],[0,0,1,1],[0,1,1,1],[0,1,1,1],[1,1,1,1]] #5X4 matrix\n",
    "m=5\n",
    "n=4-1\n",
    "j=n\n",
    "ans=0\n",
    "for i in range(m):\n",
    "    for j in range(j,-1,-1):   #range(j,-1,-1) why not range(n,-1,-1)?? bcz want to retain prervious j\n",
    "        if(l[i][j] == 1):\n",
    "            print(i,j,l[i][j])\n",
    "            j-=1\n",
    "            ans=i\n",
    "        else:\n",
    "            break\n",
    "print(ans)\n",
    "    "
   ]
  },
  {
   "cell_type": "code",
   "execution_count": null,
   "id": "5574dcd5-41af-4dd6-8da6-364dbb4a1599",
   "metadata": {},
   "outputs": [],
   "source": []
  }
 ],
 "metadata": {
  "kernelspec": {
   "display_name": "Python 3 (ipykernel)",
   "language": "python",
   "name": "python3"
  },
  "language_info": {
   "codemirror_mode": {
    "name": "ipython",
    "version": 3
   },
   "file_extension": ".py",
   "mimetype": "text/x-python",
   "name": "python",
   "nbconvert_exporter": "python",
   "pygments_lexer": "ipython3",
   "version": "3.11.5"
  }
 },
 "nbformat": 4,
 "nbformat_minor": 5
}
