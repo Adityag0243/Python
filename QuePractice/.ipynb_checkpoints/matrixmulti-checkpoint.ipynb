{
 "cells": [
  {
   "cell_type": "code",
   "execution_count": 44,
   "id": "a6dc6fae-4d97-4feb-9fbb-0be5e0c9697f",
   "metadata": {
    "tags": []
   },
   "outputs": [
    {
     "name": "stdout",
     "output_type": "stream",
     "text": [
      "[[22, 28], [40, 52]]\n"
     ]
    }
   ],
   "source": [
    "l1=[[1,2,3],[3,4,5]]\n",
    "l2=[[1,2],[3,4],[5,6]]\n",
    "l = [[0]*2 for _ in range(2)]\n",
    "\n",
    "\n",
    "for i in range(2):\n",
    "    for j in range(2):\n",
    "        for k in range(3):\n",
    "            l[i][j]+=l1[i][k]*l2[k][j]\n",
    "        \n",
    "print(l)\n",
    "        "
   ]
  },
  {
   "cell_type": "code",
   "execution_count": null,
   "id": "cb546fd9-3d09-4fd5-990a-d9cded7b7f5c",
   "metadata": {},
   "outputs": [],
   "source": []
  }
 ],
 "metadata": {
  "kernelspec": {
   "display_name": "Python 3 (ipykernel)",
   "language": "python",
   "name": "python3"
  },
  "language_info": {
   "codemirror_mode": {
    "name": "ipython",
    "version": 3
   },
   "file_extension": ".py",
   "mimetype": "text/x-python",
   "name": "python",
   "nbconvert_exporter": "python",
   "pygments_lexer": "ipython3",
   "version": "3.11.5"
  }
 },
 "nbformat": 4,
 "nbformat_minor": 5
}
