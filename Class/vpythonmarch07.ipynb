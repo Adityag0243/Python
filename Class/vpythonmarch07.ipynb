{
 "cells": [
  {
   "cell_type": "code",
   "execution_count": 4,
   "id": "946df954-bdad-4356-bf50-120841339acc",
   "metadata": {
    "tags": []
   },
   "outputs": [
    {
     "name": "stdout",
     "output_type": "stream",
     "text": [
      "Ferrari car is accelerating\n",
      "None\n",
      "Petrol\n",
      "<__main__.Car object at 0x0000020E4D48AA10>\n"
     ]
    }
   ],
   "source": [
    "class Car:\n",
    "    Fuel_type=\"Petrol\";\n",
    "    def __init__(self , brand, color):\n",
    "        self.brand=brand\n",
    "        self.color=color                 #object variable\n",
    "    def accelerate(self):\n",
    "        print(self.brand +\" car is accelerating\")\n",
    "        \n",
    "std1=Car(\"Ferrari\",\"Black\")\n",
    "\n",
    "\n",
    "print(std1.accelerate())\n",
    "print(std1.Fuel_type)\n",
    "print(std1)"
   ]
  },
  {
   "cell_type": "code",
   "execution_count": null,
   "id": "1370df6f-7603-4e73-b5d4-c64ad8956ed1",
   "metadata": {},
   "outputs": [],
   "source": []
  },
  {
   "cell_type": "code",
   "execution_count": null,
   "id": "df6f2e6e-f253-4963-8301-f9aa14428563",
   "metadata": {},
   "outputs": [],
   "source": []
  },
  {
   "cell_type": "raw",
   "id": "c1044f4a-3164-4e31-bccc-ed6d0bdca4a1",
   "metadata": {},
   "source": [
    "method are of 3 types:\n",
    "    class                (cls as the first parameter ,no information about class)\n",
    "    instance (most imp)    (self as the first parameter then others)\n",
    "    static"
   ]
  },
  {
   "cell_type": "code",
   "execution_count": null,
   "id": "ad534cf4-3b29-4574-9b4e-6e47052cc130",
   "metadata": {},
   "outputs": [],
   "source": []
  },
  {
   "cell_type": "code",
   "execution_count": null,
   "id": "1aff12d7-2ce2-4342-8eaf-b1b5c6c05248",
   "metadata": {},
   "outputs": [],
   "source": []
  },
  {
   "cell_type": "code",
   "execution_count": 9,
   "id": "78ccad9a-3c7a-4948-853a-c453149b8029",
   "metadata": {
    "tags": []
   },
   "outputs": [
    {
     "name": "stdout",
     "output_type": "stream",
     "text": [
      "Petrol\n",
      "Ye hai class method\n",
      "Petrol\n",
      "Ye hai class method\n"
     ]
    }
   ],
   "source": [
    "#class method\n",
    "\n",
    "\n",
    "class Car:\n",
    "    Fuel_type=\"Petrol\"\n",
    "    def __init__(self , brand, color):\n",
    "        self.brand=brand\n",
    "        self.color=color\n",
    "    @classmethod                         #aditional information\n",
    "    def fnct(cls):                      #every object will have the class method         #access to the class property\n",
    "        print(cls.Fuel_type)                #cls method\n",
    "        print(\"Ye hai class method\")       \n",
    "Car.fnct()\n",
    "car1=Car(\"Bugati\",\"Red\")\n",
    "car1.fnct()\n",
    "\n",
    "\n",
    "\n",
    "\n",
    "#it can call directly not necessary to be have an object\n",
    "#have access of class \n",
    "#every object have \n"
   ]
  },
  {
   "cell_type": "code",
   "execution_count": 13,
   "id": "8da8d64c-1154-4dd2-ad7c-bd2ff1ab4ad5",
   "metadata": {
    "tags": []
   },
   "outputs": [
    {
     "name": "stdout",
     "output_type": "stream",
     "text": [
      "Helllllllllloooooooooo\n",
      "Helllllllllloooooooooo\n"
     ]
    }
   ],
   "source": [
    "# static method\n",
    "\n",
    "\n",
    "class Car:\n",
    "    Fuel_type=\"Petrol\"\n",
    "    def __init__(self , brand, color):\n",
    "        self.brand=brand\n",
    "        self.color=color\n",
    "    @staticmethod         #no access of class state neither of object\n",
    "    def kyanaamdu():\n",
    "        print(\"Helllllllllloooooooooo\")\n",
    "         \n",
    "Car.kyanaamdu()\n",
    "car1=Car(\"Bugati\",\"Red\")\n",
    "car1.kyanaamdu()\n"
   ]
  },
  {
   "cell_type": "code",
   "execution_count": null,
   "id": "5866bed9-134f-48c7-96d7-03197c7beccd",
   "metadata": {},
   "outputs": [],
   "source": []
  },
  {
   "cell_type": "code",
   "execution_count": null,
   "id": "08966fce-c997-49ea-9d00-415095485587",
   "metadata": {},
   "outputs": [],
   "source": []
  },
  {
   "cell_type": "code",
   "execution_count": null,
   "id": "86793ef6-9daa-4664-9658-3a52f5abdb16",
   "metadata": {},
   "outputs": [],
   "source": [
    "\n"
   ]
  },
  {
   "cell_type": "code",
   "execution_count": null,
   "id": "9e03e053-34a1-4e3f-9b29-8d70deadbfa1",
   "metadata": {},
   "outputs": [],
   "source": []
  },
  {
   "cell_type": "code",
   "execution_count": null,
   "id": "cdf9df08-ef45-4403-b04b-9e712eb38683",
   "metadata": {},
   "outputs": [],
   "source": []
  },
  {
   "cell_type": "code",
   "execution_count": null,
   "id": "4e4a53cb-5e18-4097-bd4e-0dc0eb90bf58",
   "metadata": {},
   "outputs": [],
   "source": [
    "\n",
    "\n",
    "\n"
   ]
  },
  {
   "cell_type": "markdown",
   "id": "46cbaf71-97f8-4c5b-8037-8121cbeb10f0",
   "metadata": {
    "tags": []
   },
   "source": [
    "ACCess Modifier"
   ]
  },
  {
   "cell_type": "raw",
   "id": "735db879-8143-4d8d-b743-63119f264d28",
   "metadata": {},
   "source": [
    "1.public\n",
    "2.private"
   ]
  },
  {
   "cell_type": "markdown",
   "id": "fe6949aa-fc42-4893-9c5f-206f3f73f59e",
   "metadata": {},
   "source": [
    "."
   ]
  },
  {
   "cell_type": "code",
   "execution_count": 16,
   "id": "5f524b5d-2ae0-4f07-9749-81aab5c0eb99",
   "metadata": {
    "tags": []
   },
   "outputs": [
    {
     "name": "stdout",
     "output_type": "stream",
     "text": [
      "Ms\n",
      "I am copy cricket champion\n"
     ]
    }
   ],
   "source": [
    "class Cricket:\n",
    "    def __init__(self,player1,player2):\n",
    "        self.player1=player1\n",
    "        self.player2=player2\n",
    "    def play(self):\n",
    "        print(\"I am copy cricket champion\")\n",
    "        \n",
    "cric=Cricket(\"Ms\",\"Chiku\")\n",
    "print(cric.player1)\n",
    "cric.play()"
   ]
  },
  {
   "cell_type": "code",
   "execution_count": 17,
   "id": "ff3d8367-301c-4f3e-9feb-8773d1c4cba9",
   "metadata": {
    "tags": []
   },
   "outputs": [
    {
     "name": "stdout",
     "output_type": "stream",
     "text": [
      "Ms\n"
     ]
    },
    {
     "ename": "AttributeError",
     "evalue": "'Cricket' object has no attribute 'fight'",
     "output_type": "error",
     "traceback": [
      "\u001b[1;31m---------------------------------------------------------------------------\u001b[0m",
      "\u001b[1;31mAttributeError\u001b[0m                            Traceback (most recent call last)",
      "Cell \u001b[1;32mIn[17], line 11\u001b[0m\n\u001b[0;32m      9\u001b[0m cric\u001b[38;5;241m=\u001b[39mCricket(\u001b[38;5;124m\"\u001b[39m\u001b[38;5;124mMs\u001b[39m\u001b[38;5;124m\"\u001b[39m,\u001b[38;5;124m\"\u001b[39m\u001b[38;5;124mChiku\u001b[39m\u001b[38;5;124m\"\u001b[39m,\u001b[38;5;124m\"\u001b[39m\u001b[38;5;124mIPL is example of this\u001b[39m\u001b[38;5;124m\"\u001b[39m)\n\u001b[0;32m     10\u001b[0m \u001b[38;5;28mprint\u001b[39m(cric\u001b[38;5;241m.\u001b[39mplayer1)\n\u001b[1;32m---> 11\u001b[0m \u001b[38;5;28mprint\u001b[39m(cric\u001b[38;5;241m.\u001b[39mfight)\n\u001b[0;32m     13\u001b[0m cric\u001b[38;5;241m.\u001b[39mplay()\n",
      "\u001b[1;31mAttributeError\u001b[0m: 'Cricket' object has no attribute 'fight'"
     ]
    }
   ],
   "source": [
    "class Cricket:\n",
    "    def __init__(self,player1,player2,fight):\n",
    "        self.player1=player1\n",
    "        self.player2=player2\n",
    "        self.__fight=fight                  #-- for making \n",
    "    def play(self):\n",
    "        print(\"I am copy cricket champion\")\n",
    "        \n",
    "cric=Cricket(\"Ms\",\"Chiku\",\"IPL is example of this\")\n",
    "print(cric.player1)\n",
    "print(cric.fight)  #not access outside\n",
    "\n",
    "cric.play()"
   ]
  },
  {
   "cell_type": "code",
   "execution_count": 25,
   "id": "39f8bab3-8a36-4c2f-b421-d6f310841f9b",
   "metadata": {
    "tags": []
   },
   "outputs": [
    {
     "name": "stdout",
     "output_type": "stream",
     "text": [
      "Ms\n",
      "Thank god I didn't see IPL occassional fight\n",
      "I am copy cricket champion\n"
     ]
    }
   ],
   "source": [
    "class Cricket:\n",
    "    def __init__(self,player1,player2,fight):\n",
    "        self.player1=player1\n",
    "        self.player2=player2\n",
    "        self.__fight=fight\n",
    "    def play(self):\n",
    "        print(\"Thank god I didn't see\" ,self.__fight);\n",
    "        print(\"I am copy cricket champion\")\n",
    "        \n",
    "cric=Cricket(\"Ms\",\"Chiku\",\"IPL occassional fight\")\n",
    "print(cric.player1)\n",
    "# print(cric.fight)\n",
    "\n",
    "cric.play()"
   ]
  },
  {
   "cell_type": "code",
   "execution_count": 27,
   "id": "5864c02c-3956-4633-8c8b-7720d5b7c9ff",
   "metadata": {
    "tags": []
   },
   "outputs": [
    {
     "name": "stdout",
     "output_type": "stream",
     "text": [
      "Ms\n"
     ]
    },
    {
     "ename": "AttributeError",
     "evalue": "'Cricket' object has no attribute '__privateFunction'",
     "output_type": "error",
     "traceback": [
      "\u001b[1;31m---------------------------------------------------------------------------\u001b[0m",
      "\u001b[1;31mAttributeError\u001b[0m                            Traceback (most recent call last)",
      "Cell \u001b[1;32mIn[27], line 15\u001b[0m\n\u001b[0;32m     13\u001b[0m \u001b[38;5;28mprint\u001b[39m(cric\u001b[38;5;241m.\u001b[39mplayer1)\n\u001b[0;32m     14\u001b[0m \u001b[38;5;66;03m# print(cric.fight)\u001b[39;00m\n\u001b[1;32m---> 15\u001b[0m \u001b[38;5;28mprint\u001b[39m(cric\u001b[38;5;241m.\u001b[39m__privateFunction)\n\u001b[0;32m     18\u001b[0m cric\u001b[38;5;241m.\u001b[39mplay()\n",
      "\u001b[1;31mAttributeError\u001b[0m: 'Cricket' object has no attribute '__privateFunction'"
     ]
    }
   ],
   "source": [
    "class Cricket:\n",
    "    def __init__(self,player1,player2,fight):\n",
    "        self.player1=player1\n",
    "        self.player2=player2\n",
    "        self.__fight=fight\n",
    "    def play(self):\n",
    "        print(\"Thank god I didn't see\" ,self.__fight);\n",
    "        print(\"I am copy cricket champion\")\n",
    "    def __privateFunction(self):\n",
    "        print(\"Okay thik hai , samajh gaya\")\n",
    "        \n",
    "cric=Cricket(\"Ms\",\"Chiku\",\"IPL occassional fight\")\n",
    "print(cric.player1)\n",
    "# print(cric.fight)\n",
    "print(cric.__privateFunction)\n",
    "              \n",
    "\n",
    "cric.play()"
   ]
  },
  {
   "cell_type": "code",
   "execution_count": 28,
   "id": "79ec675f-e41e-4495-a14a-42328ea6fcda",
   "metadata": {
    "tags": []
   },
   "outputs": [
    {
     "name": "stdout",
     "output_type": "stream",
     "text": [
      "Ms\n"
     ]
    },
    {
     "ename": "AttributeError",
     "evalue": "'Cricket' object has no attribute 'privateFunction'",
     "output_type": "error",
     "traceback": [
      "\u001b[1;31m---------------------------------------------------------------------------\u001b[0m",
      "\u001b[1;31mAttributeError\u001b[0m                            Traceback (most recent call last)",
      "Cell \u001b[1;32mIn[28], line 15\u001b[0m\n\u001b[0;32m     13\u001b[0m \u001b[38;5;28mprint\u001b[39m(cric\u001b[38;5;241m.\u001b[39mplayer1)\n\u001b[0;32m     14\u001b[0m \u001b[38;5;66;03m# print(cric.fight)\u001b[39;00m\n\u001b[1;32m---> 15\u001b[0m \u001b[38;5;28mprint\u001b[39m(cric\u001b[38;5;241m.\u001b[39mprivateFunction)\n\u001b[0;32m     18\u001b[0m cric\u001b[38;5;241m.\u001b[39mplay()\n",
      "\u001b[1;31mAttributeError\u001b[0m: 'Cricket' object has no attribute 'privateFunction'"
     ]
    }
   ],
   "source": [
    "class Cricket:\n",
    "    def __init__(self,player1,player2,fight):\n",
    "        self.player1=player1\n",
    "        self.player2=player2\n",
    "        self.__fight=fight\n",
    "    def play(self):\n",
    "        print(\"Thank god I didn't see\" ,self.__fight);\n",
    "        print(\"I am copy cricket champion\")\n",
    "    def __privateFunction(self):\n",
    "        print(\"Okay thik hai , samajh gaya\")\n",
    "        \n",
    "cric=Cricket(\"Ms\",\"Chiku\",\"IPL occassional fight\")\n",
    "print(cric.player1)\n",
    "# print(cric.fight)\n",
    "print(cric.privateFunction)\n",
    "              \n",
    "\n",
    "cric.play()"
   ]
  },
  {
   "cell_type": "code",
   "execution_count": 39,
   "id": "8d2ed43f-568c-4dbb-a65e-198fddfb1b10",
   "metadata": {
    "tags": []
   },
   "outputs": [
    {
     "ename": "NameError",
     "evalue": "name 'self' is not defined",
     "output_type": "error",
     "traceback": [
      "\u001b[1;31m---------------------------------------------------------------------------\u001b[0m",
      "\u001b[1;31mNameError\u001b[0m                                 Traceback (most recent call last)",
      "Cell \u001b[1;32mIn[39], line 1\u001b[0m\n\u001b[1;32m----> 1\u001b[0m \u001b[38;5;28;01mclass\u001b[39;00m \u001b[38;5;21;01mCricket\u001b[39;00m:\n\u001b[0;32m      2\u001b[0m     \u001b[38;5;28;01mdef\u001b[39;00m \u001b[38;5;21m__init__\u001b[39m(\u001b[38;5;28mself\u001b[39m,player1,player2,fight):\n\u001b[0;32m      3\u001b[0m         \u001b[38;5;28mself\u001b[39m\u001b[38;5;241m.\u001b[39mplayer1\u001b[38;5;241m=\u001b[39mplayer1\n",
      "Cell \u001b[1;32mIn[39], line 11\u001b[0m, in \u001b[0;36mCricket\u001b[1;34m()\u001b[0m\n\u001b[0;32m      9\u001b[0m \u001b[38;5;28;01mdef\u001b[39;00m \u001b[38;5;21m__privateFunction\u001b[39m(\u001b[38;5;28mself\u001b[39m):\n\u001b[0;32m     10\u001b[0m     \u001b[38;5;28mprint\u001b[39m(\u001b[38;5;124m\"\u001b[39m\u001b[38;5;124mOkay thik hai , samajh gaya\u001b[39m\u001b[38;5;124m\"\u001b[39m)\n\u001b[1;32m---> 11\u001b[0m \u001b[38;5;28mself\u001b[39m\u001b[38;5;241m.\u001b[39m__privateFunction()\n",
      "\u001b[1;31mNameError\u001b[0m: name 'self' is not defined"
     ]
    }
   ],
   "source": [
    "class Cricket:\n",
    "    def __init__(self,player1,player2,fight):\n",
    "        self.player1=player1\n",
    "        self.player2=player2\n",
    "        self.__fight=fight\n",
    "    def play(self):\n",
    "        print(\"Thank god I didn't see\" ,self.__fight);\n",
    "        print(\"I am copy cricket champion\")\n",
    "    def __privateFunction(self):\n",
    "        print(\"Okay thik hai , samajh gaya\")\n",
    "    # self.__privateFunction()\n",
    "    # print(Cricket.__privateFunction())\n",
    "        \n",
    "cric=Cricket(\"Ms\",\"Chiku\",\"IPL occassional fight\")\n",
    "print(cric.player1)\n",
    "# print(cric.fight)\n",
    "# print(cric.privateFunction)\n",
    "              \n",
    "\n",
    "cric.play()"
   ]
  },
  {
   "cell_type": "raw",
   "id": "227118ff-2ffb-4062-a4db-ab243a30aaa9",
   "metadata": {},
   "source": [
    "\n",
    "\n",
    "\n",
    "encapsulation\n",
    "\n",
    "method and data ko join krna\n",
    "\n",
    "\n",
    "1.(make state/field ***private ) so that every one can't change\n",
    "2.but few thing have command or channel to expose to few person(make method public)\n"
   ]
  },
  {
   "cell_type": "markdown",
   "id": "8296be18-2f5e-4bab-9a77-700d76a227fe",
   "metadata": {},
   "source": [
    ".\n",
    ".\n",
    ".\n",
    "\n",
    ".\n",
    ".\n",
    "\n"
   ]
  },
  {
   "cell_type": "raw",
   "id": "9132d4d1-f1d0-49e9-8e86-5eae3ea4b23b",
   "metadata": {},
   "source": [
    "class Cricket:\n",
    "    def __init__(self,player1,player2,fight):\n",
    "        self.__player1=player1\n",
    "        self.__player2=player2\n",
    "    def getPlayer1(self):\n",
    "        return self.__player1\n",
    "    def setPlayer1(self,player1):\n",
    "        self.__player1=player1\n",
    "    def getPlayer2(self):\n",
    "        return self.__player2\n",
    "    def setPlayer2(self,player2):\n",
    "        self.__player2=player2\n",
    "    \n"
   ]
  },
  {
   "cell_type": "code",
   "execution_count": null,
   "id": "ab622c0d-8b08-4bf4-b65a-a268df470fb7",
   "metadata": {},
   "outputs": [],
   "source": []
  },
  {
   "cell_type": "code",
   "execution_count": null,
   "id": "d9f4e816-5590-4192-a000-967bbbd973be",
   "metadata": {},
   "outputs": [],
   "source": [
    "\n",
    "\n",
    "\n",
    "\n"
   ]
  },
  {
   "cell_type": "code",
   "execution_count": 40,
   "id": "5d5f4236-d6fe-4f28-98a1-b395fe6a32e9",
   "metadata": {
    "tags": []
   },
   "outputs": [],
   "source": [
    "#practice"
   ]
  },
  {
   "cell_type": "code",
   "execution_count": 43,
   "id": "e4158bb0-bd04-4b65-ae9b-903a07f5a601",
   "metadata": {
    "tags": []
   },
   "outputs": [],
   "source": [
    "class Rectangle:\n",
    "    def __init__(self,length,width):\n",
    "        self.__length=length\n",
    "        self.__width=width\n",
    "        \n",
    "    def getlength(self):\n",
    "        return self.__length\n",
    "    def setlength(self):\n",
    "        self.__length=length\n",
    "    def getwidth(self):\n",
    "        return self.__width\n",
    "    def setwidth(self):\n",
    "        self.__width=width\n",
    "    \n",
    "    def area(self):\n",
    "        return self.__length*self.__breadth\n",
    "    def perimeter(self,length,width):\n",
    "        return 2*(self.__length+self.__breadth)\n",
    "        \n",
    "    "
   ]
  },
  {
   "cell_type": "code",
   "execution_count": null,
   "id": "c85f716f-33a3-4a4e-b578-c9ccf41b31ce",
   "metadata": {},
   "outputs": [],
   "source": [
    "\n",
    "\n",
    "\n",
    "\n"
   ]
  },
  {
   "cell_type": "raw",
   "id": "3d9c3d76-a604-4d52-be0a-c4c371a44a26",
   "metadata": {
    "tags": []
   },
   "source": [
    "inheritance\n",
    "\n",
    "1.code reuse\n",
    "2. Relationship ---> Parent child --> hierorichal"
   ]
  },
  {
   "cell_type": "raw",
   "id": "446142ed-cfd2-4f0e-8c9b-f2a918a8c91f",
   "metadata": {},
   "source": [
    "C1 isA C2     yes then C1 can be the child of C2    can use inheritance\n",
    "\n",
    "Cat isA animal   true \n",
    "cat isA machine No\n"
   ]
  },
  {
   "cell_type": "raw",
   "id": "63ea87d2-5f73-4c11-9177-86109bc5a370",
   "metadata": {},
   "source": [
    "> public state/behaviour of parent goes to child"
   ]
  },
  {
   "cell_type": "markdown",
   "id": "74e21002-3a68-431d-9f5d-26c9d629eeef",
   "metadata": {},
   "source": [
    ".\n",
    ".\n",
    ".\n",
    ".\n",
    "\n",
    "\n",
    ".\n",
    "\n",
    "\n",
    ".\n",
    ".\n",
    "\n",
    "\n",
    ".\n",
    ".\n"
   ]
  },
  {
   "cell_type": "code",
   "execution_count": 51,
   "id": "96b63211-a9ee-42bf-bed7-ace6896f7503",
   "metadata": {
    "tags": []
   },
   "outputs": [
    {
     "name": "stdout",
     "output_type": "stream",
     "text": [
      "Animal is Eating\n",
      "None\n"
     ]
    }
   ],
   "source": [
    "class Animal:\n",
    "    def eat(self):\n",
    "        print(\"Animal is Eating\")\n",
    "class Dog(Animal):\n",
    "    pass\n",
    "\n",
    "d=Dog()\n",
    "print(d.eat())"
   ]
  }
 ],
 "metadata": {
  "kernelspec": {
   "display_name": "Python 3 (ipykernel)",
   "language": "python",
   "name": "python3"
  },
  "language_info": {
   "codemirror_mode": {
    "name": "ipython",
    "version": 3
   },
   "file_extension": ".py",
   "mimetype": "text/x-python",
   "name": "python",
   "nbconvert_exporter": "python",
   "pygments_lexer": "ipython3",
   "version": "3.11.5"
  }
 },
 "nbformat": 4,
 "nbformat_minor": 5
}
