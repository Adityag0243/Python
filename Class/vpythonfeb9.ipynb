{
 "cells": [
  {
   "cell_type": "code",
   "execution_count": 1,
   "id": "2d12ef4f-3f6f-49d3-a892-8472c7b16677",
   "metadata": {},
   "outputs": [
    {
     "data": {
      "text/plain": [
       "1"
      ]
     },
     "execution_count": 1,
     "metadata": {},
     "output_type": "execute_result"
    }
   ],
   "source": [
    "n=5\n",
    "m=3\n",
    "n&m"
   ]
  },
  {
   "cell_type": "code",
   "execution_count": 2,
   "id": "197fa001-c481-491c-8094-f102f3579626",
   "metadata": {
    "tags": []
   },
   "outputs": [
    {
     "data": {
      "text/plain": [
       "7"
      ]
     },
     "execution_count": 2,
     "metadata": {},
     "output_type": "execute_result"
    }
   ],
   "source": [
    "n|m"
   ]
  },
  {
   "cell_type": "code",
   "execution_count": 3,
   "id": "c3c5f819-5891-450b-9fd6-a6e0e149a5d6",
   "metadata": {
    "tags": []
   },
   "outputs": [
    {
     "data": {
      "text/plain": [
       "6"
      ]
     },
     "execution_count": 3,
     "metadata": {},
     "output_type": "execute_result"
    }
   ],
   "source": [
    "n^m"
   ]
  },
  {
   "cell_type": "code",
   "execution_count": 4,
   "id": "3815c453-9cae-4c78-904f-5ee25b2152ea",
   "metadata": {
    "tags": []
   },
   "outputs": [
    {
     "data": {
      "text/plain": [
       "False"
      ]
     },
     "execution_count": 4,
     "metadata": {},
     "output_type": "execute_result"
    }
   ],
   "source": [
    "n==m"
   ]
  },
  {
   "cell_type": "code",
   "execution_count": 5,
   "id": "96d9cee6-af59-4b4b-96dc-dfe5229ccded",
   "metadata": {
    "tags": []
   },
   "outputs": [
    {
     "data": {
      "text/plain": [
       "True"
      ]
     },
     "execution_count": 5,
     "metadata": {},
     "output_type": "execute_result"
    }
   ],
   "source": [
    "n!=m"
   ]
  },
  {
   "cell_type": "code",
   "execution_count": 6,
   "id": "d94b6b3a-bc4e-4483-860b-2939dcecc56e",
   "metadata": {
    "tags": []
   },
   "outputs": [
    {
     "data": {
      "text/plain": [
       "True"
      ]
     },
     "execution_count": 6,
     "metadata": {},
     "output_type": "execute_result"
    }
   ],
   "source": [
    "n>=m"
   ]
  },
  {
   "cell_type": "code",
   "execution_count": 7,
   "id": "78af4af0-22b5-45da-90bc-e021cd031635",
   "metadata": {
    "tags": []
   },
   "outputs": [
    {
     "data": {
      "text/plain": [
       "False"
      ]
     },
     "execution_count": 7,
     "metadata": {},
     "output_type": "execute_result"
    }
   ],
   "source": [
    "n<m"
   ]
  },
  {
   "cell_type": "markdown",
   "id": "93ca0c73-d18c-4ddd-b44f-eab68ca239a7",
   "metadata": {},
   "source": [
    "#############################################"
   ]
  },
  {
   "cell_type": "code",
   "execution_count": 23,
   "id": "29752c87-827d-4a08-8b67-b1dc50f991c1",
   "metadata": {
    "tags": []
   },
   "outputs": [],
   "source": [
    "num1=[1,2,3]\n",
    "num2=num1"
   ]
  },
  {
   "cell_type": "code",
   "execution_count": 24,
   "id": "7e12ee83-3c17-4217-bbb7-b74011827fb9",
   "metadata": {
    "tags": []
   },
   "outputs": [
    {
     "data": {
      "text/plain": [
       "True"
      ]
     },
     "execution_count": 24,
     "metadata": {},
     "output_type": "execute_result"
    }
   ],
   "source": [
    "num1 is num2"
   ]
  },
  {
   "cell_type": "code",
   "execution_count": 19,
   "id": "b7b10b9f-19ca-4fcb-a2f8-b5b6d8403563",
   "metadata": {
    "tags": []
   },
   "outputs": [
    {
     "name": "stdout",
     "output_type": "stream",
     "text": [
      "True\n",
      "False\n"
     ]
    }
   ],
   "source": [
    "num1=[1,2,3]\n",
    "num2=[1,2,3]\n",
    "print(num1==num2)\n",
    "print(num1 is num2)"
   ]
  },
  {
   "cell_type": "code",
   "execution_count": 20,
   "id": "0284dcd6-7c53-4463-9a49-7c67a97da88b",
   "metadata": {
    "tags": []
   },
   "outputs": [],
   "source": [
    "l=[1,5,3,11]"
   ]
  },
  {
   "cell_type": "code",
   "execution_count": 21,
   "id": "8b2cf174-8056-40f9-8f7d-9f5b4e674a48",
   "metadata": {
    "tags": []
   },
   "outputs": [
    {
     "data": {
      "text/plain": [
       "True"
      ]
     },
     "execution_count": 21,
     "metadata": {},
     "output_type": "execute_result"
    }
   ],
   "source": [
    "5 in l"
   ]
  },
  {
   "cell_type": "code",
   "execution_count": 22,
   "id": "6b1b373a-6c93-43d4-890c-8b76bb5cc858",
   "metadata": {
    "tags": []
   },
   "outputs": [
    {
     "data": {
      "text/plain": [
       "False"
      ]
     },
     "execution_count": 22,
     "metadata": {},
     "output_type": "execute_result"
    }
   ],
   "source": [
    "12 in l"
   ]
  },
  {
   "cell_type": "code",
   "execution_count": 25,
   "id": "beb4d156-123b-4535-a924-10a1b781b7c2",
   "metadata": {
    "tags": []
   },
   "outputs": [
    {
     "data": {
      "text/plain": [
       "False"
      ]
     },
     "execution_count": 25,
     "metadata": {},
     "output_type": "execute_result"
    }
   ],
   "source": [
    "3 not in l"
   ]
  },
  {
   "cell_type": "code",
   "execution_count": 26,
   "id": "16ecf138-9bd4-4937-ad89-af77307b6006",
   "metadata": {
    "tags": []
   },
   "outputs": [
    {
     "data": {
      "text/plain": [
       "True"
      ]
     },
     "execution_count": 26,
     "metadata": {},
     "output_type": "execute_result"
    }
   ],
   "source": [
    "12 not in l"
   ]
  },
  {
   "cell_type": "code",
   "execution_count": 27,
   "id": "cfb764c5-c010-4d45-b65d-4a69c2610a3b",
   "metadata": {
    "tags": []
   },
   "outputs": [],
   "source": [
    "str=\"Hello bhai\""
   ]
  },
  {
   "cell_type": "code",
   "execution_count": 28,
   "id": "56648ac0-7537-44cc-bda9-639934bd544f",
   "metadata": {
    "tags": []
   },
   "outputs": [
    {
     "data": {
      "text/plain": [
       "True"
      ]
     },
     "execution_count": 28,
     "metadata": {},
     "output_type": "execute_result"
    }
   ],
   "source": [
    "\"bhai\" in str"
   ]
  },
  {
   "cell_type": "code",
   "execution_count": 29,
   "id": "8fa5c14e-4229-4955-9d2c-fee19bc25eca",
   "metadata": {
    "tags": []
   },
   "outputs": [
    {
     "data": {
      "text/plain": [
       "False"
      ]
     },
     "execution_count": 29,
     "metadata": {},
     "output_type": "execute_result"
    }
   ],
   "source": [
    "\"Bhai\" in str"
   ]
  },
  {
   "cell_type": "code",
   "execution_count": 35,
   "id": "30a42814-e0d9-4f3d-9c34-ac1d6a136fbf",
   "metadata": {
    "tags": []
   },
   "outputs": [
    {
     "data": {
      "text/plain": [
       "1"
      ]
     },
     "execution_count": 35,
     "metadata": {},
     "output_type": "execute_result"
    }
   ],
   "source": [
    "-5%2"
   ]
  },
  {
   "cell_type": "code",
   "execution_count": 36,
   "id": "d089a948-941e-4ade-b7e4-9f604db800e7",
   "metadata": {
    "tags": []
   },
   "outputs": [
    {
     "data": {
      "text/plain": [
       "3"
      ]
     },
     "execution_count": 36,
     "metadata": {},
     "output_type": "execute_result"
    }
   ],
   "source": [
    "-7%5"
   ]
  },
  {
   "cell_type": "markdown",
   "id": "4a352fd2-91d3-486e-af7b-2d672b270849",
   "metadata": {},
   "source": [
    "0|\" \"|[]|00 are falsly value"
   ]
  },
  {
   "cell_type": "code",
   "execution_count": 37,
   "id": "4877bddc-67ac-4024-9846-40898d1a5d53",
   "metadata": {
    "tags": []
   },
   "outputs": [
    {
     "name": "stdout",
     "output_type": "stream",
     "text": [
      "10\n"
     ]
    }
   ],
   "source": [
    "x=10\n",
    "if x>5:\n",
    "    print(x)"
   ]
  },
  {
   "cell_type": "code",
   "execution_count": 38,
   "id": "7d81376d-7ddf-4386-8f22-e1f8824dae9d",
   "metadata": {
    "tags": []
   },
   "outputs": [
    {
     "name": "stdout",
     "output_type": "stream",
     "text": [
      "10\n"
     ]
    }
   ],
   "source": [
    "x=10\n",
    "if (x>5):\n",
    "    print(x)"
   ]
  },
  {
   "cell_type": "code",
   "execution_count": 39,
   "id": "80c8995e-fd10-462e-abba-c36a52611b7c",
   "metadata": {
    "tags": []
   },
   "outputs": [],
   "source": [
    "x=10\n",
    "if x<5:\n",
    "    print(x)"
   ]
  },
  {
   "cell_type": "code",
   "execution_count": 40,
   "id": "759f9022-c947-4570-878c-17f5fecfa623",
   "metadata": {
    "tags": []
   },
   "outputs": [],
   "source": [
    "if():\n",
    "    print(x)"
   ]
  },
  {
   "cell_type": "code",
   "execution_count": 41,
   "id": "32e7670b-275b-440c-b6f1-141b64ccbffa",
   "metadata": {
    "tags": []
   },
   "outputs": [
    {
     "ename": "NameError",
     "evalue": "name 'nan' is not defined",
     "output_type": "error",
     "traceback": [
      "\u001b[1;31m---------------------------------------------------------------------------\u001b[0m",
      "\u001b[1;31mNameError\u001b[0m                                 Traceback (most recent call last)",
      "Cell \u001b[1;32mIn[41], line 1\u001b[0m\n\u001b[1;32m----> 1\u001b[0m \u001b[38;5;28;01mif\u001b[39;00m (nan):\n\u001b[0;32m      2\u001b[0m     \u001b[38;5;28mprint\u001b[39m(x)\n",
      "\u001b[1;31mNameError\u001b[0m: name 'nan' is not defined"
     ]
    }
   ],
   "source": [
    "if (nan):\n",
    "    print(x)"
   ]
  },
  {
   "cell_type": "code",
   "execution_count": 43,
   "id": "1d0c0e38-765a-401b-9441-7f1849387e68",
   "metadata": {
    "tags": []
   },
   "outputs": [],
   "source": [
    "if 0:\n",
    "    print (x)"
   ]
  },
  {
   "cell_type": "code",
   "execution_count": 44,
   "id": "052e67d2-65cb-479c-b2dd-899e5c6ec3f1",
   "metadata": {
    "tags": []
   },
   "outputs": [
    {
     "name": "stdout",
     "output_type": "stream",
     "text": [
      "10\n"
     ]
    }
   ],
   "source": [
    "if not 0:\n",
    "    print(x)"
   ]
  },
  {
   "cell_type": "code",
   "execution_count": 46,
   "id": "ea81199c-40c8-4a56-a90b-cb8aba057200",
   "metadata": {
    "tags": []
   },
   "outputs": [
    {
     "name": "stdout",
     "output_type": "stream",
     "text": [
      "C\n"
     ]
    }
   ],
   "source": [
    "grade=56\n",
    "if grade>=70:\n",
    "    print(\"A\")\n",
    "elif grade>=60:\n",
    "    print(\"B\")\n",
    "elif grade>=50:\n",
    "    print(\"C\")\n",
    "else:\n",
    "    print(\"GO to pwIOI\")"
   ]
  },
  {
   "cell_type": "code",
   "execution_count": 47,
   "id": "4bffd91a-17e3-4357-9c0d-f29472c7d01f",
   "metadata": {
    "tags": []
   },
   "outputs": [
    {
     "ename": "ZeroDivisionError",
     "evalue": "division by zero",
     "output_type": "error",
     "traceback": [
      "\u001b[1;31m---------------------------------------------------------------------------\u001b[0m",
      "\u001b[1;31mZeroDivisionError\u001b[0m                         Traceback (most recent call last)",
      "Cell \u001b[1;32mIn[47], line 3\u001b[0m\n\u001b[0;32m      1\u001b[0m x\u001b[38;5;241m=\u001b[39m\u001b[38;5;241m7\u001b[39m\n\u001b[1;32m----> 3\u001b[0m \u001b[38;5;28;01mif\u001b[39;00m x\u001b[38;5;241m/\u001b[39m\u001b[38;5;241m0\u001b[39m \u001b[38;5;241m>\u001b[39m \u001b[38;5;241m6\u001b[39m:\n\u001b[0;32m      4\u001b[0m     \u001b[38;5;28mprint\u001b[39m(\u001b[38;5;124m\"\u001b[39m\u001b[38;5;124mAmazing\u001b[39m\u001b[38;5;124m\"\u001b[39m)\n",
      "\u001b[1;31mZeroDivisionError\u001b[0m: division by zero"
     ]
    }
   ],
   "source": [
    "x=7\n",
    "\n",
    "if x/0 > 6:\n",
    "    print(\"Amazing\")"
   ]
  },
  {
   "cell_type": "code",
   "execution_count": 48,
   "id": "71005183-2867-4b50-8ba7-ccb904d7f4fb",
   "metadata": {
    "tags": []
   },
   "outputs": [
    {
     "ename": "ZeroDivisionError",
     "evalue": "division by zero",
     "output_type": "error",
     "traceback": [
      "\u001b[1;31m---------------------------------------------------------------------------\u001b[0m",
      "\u001b[1;31mZeroDivisionError\u001b[0m                         Traceback (most recent call last)",
      "Cell \u001b[1;32mIn[48], line 3\u001b[0m\n\u001b[0;32m      1\u001b[0m x\u001b[38;5;241m=\u001b[39m\u001b[38;5;241m7\u001b[39m\n\u001b[1;32m----> 3\u001b[0m \u001b[38;5;28;01mif\u001b[39;00m x\u001b[38;5;241m>\u001b[39m\u001b[38;5;241m=\u001b[39m\u001b[38;5;241m7\u001b[39m \u001b[38;5;129;01mand\u001b[39;00m x\u001b[38;5;241m/\u001b[39m\u001b[38;5;241m0\u001b[39m \u001b[38;5;241m>\u001b[39m \u001b[38;5;241m6\u001b[39m:\n\u001b[0;32m      4\u001b[0m     \u001b[38;5;28mprint\u001b[39m(\u001b[38;5;124m\"\u001b[39m\u001b[38;5;124mAmazing\u001b[39m\u001b[38;5;124m\"\u001b[39m)\n",
      "\u001b[1;31mZeroDivisionError\u001b[0m: division by zero"
     ]
    }
   ],
   "source": [
    "x=7\n",
    "\n",
    "if x>=7 and x/0 > 6:\n",
    "    print(\"Amazing\")"
   ]
  },
  {
   "cell_type": "code",
   "execution_count": 49,
   "id": "382cade5-2c64-46a3-a6e4-24eb667def8f",
   "metadata": {
    "tags": []
   },
   "outputs": [
    {
     "name": "stdout",
     "output_type": "stream",
     "text": [
      "Amazing\n"
     ]
    }
   ],
   "source": [
    "x=7\n",
    "\n",
    "if x>=7 or x/0 > 6:\n",
    "    print(\"Amazing\")"
   ]
  },
  {
   "cell_type": "code",
   "execution_count": 51,
   "id": "f5e35e8e-933c-4021-a431-b1f45ae702f3",
   "metadata": {
    "tags": []
   },
   "outputs": [
    {
     "ename": "ZeroDivisionError",
     "evalue": "division by zero",
     "output_type": "error",
     "traceback": [
      "\u001b[1;31m---------------------------------------------------------------------------\u001b[0m",
      "\u001b[1;31mZeroDivisionError\u001b[0m                         Traceback (most recent call last)",
      "Cell \u001b[1;32mIn[51], line 3\u001b[0m\n\u001b[0;32m      1\u001b[0m x\u001b[38;5;241m=\u001b[39m\u001b[38;5;241m7\u001b[39m\n\u001b[1;32m----> 3\u001b[0m \u001b[38;5;28;01mif\u001b[39;00m x\u001b[38;5;241m/\u001b[39m\u001b[38;5;241m0\u001b[39m \u001b[38;5;241m>\u001b[39m \u001b[38;5;241m6\u001b[39m \u001b[38;5;129;01mor\u001b[39;00m x\u001b[38;5;241m>\u001b[39m\u001b[38;5;241m=\u001b[39m\u001b[38;5;241m7\u001b[39m:\n\u001b[0;32m      4\u001b[0m     \u001b[38;5;28mprint\u001b[39m(\u001b[38;5;124m\"\u001b[39m\u001b[38;5;124mAmazing\u001b[39m\u001b[38;5;124m\"\u001b[39m)\n",
      "\u001b[1;31mZeroDivisionError\u001b[0m: division by zero"
     ]
    }
   ],
   "source": [
    "x=7\n",
    "\n",
    "if x/0 > 6 or x>=7:\n",
    "    print(\"Amazing\")\n",
    "    "
   ]
  },
  {
   "cell_type": "code",
   "execution_count": 52,
   "id": "8a74cff7-458b-4ee0-9e77-96fd87b9a219",
   "metadata": {
    "tags": []
   },
   "outputs": [
    {
     "name": "stderr",
     "output_type": "stream",
     "text": [
      "<>:2: SyntaxWarning: \"is\" with a literal. Did you mean \"==\"?\n",
      "<>:2: SyntaxWarning: \"is\" with a literal. Did you mean \"==\"?\n",
      "C:\\Users\\mradi\\AppData\\Local\\Temp\\ipykernel_18468\\338151093.py:2: SyntaxWarning: \"is\" with a literal. Did you mean \"==\"?\n",
      "  x%2 is 0\n"
     ]
    },
    {
     "data": {
      "text/plain": [
       "True"
      ]
     },
     "execution_count": 52,
     "metadata": {},
     "output_type": "execute_result"
    }
   ],
   "source": [
    "x=4\n",
    "x%2 is 0"
   ]
  },
  {
   "cell_type": "code",
   "execution_count": 53,
   "id": "ad72c628-0b68-4f72-8c61-21617df1accb",
   "metadata": {
    "tags": []
   },
   "outputs": [],
   "source": [
    "#################is is  more for checking whether they are pointing at same address or not"
   ]
  },
  {
   "cell_type": "code",
   "execution_count": 55,
   "id": "25c0b940-382b-44e7-906e-a4b46b216b39",
   "metadata": {
    "tags": []
   },
   "outputs": [],
   "source": [
    "#match Expression                 menu driven program me use hota hai"
   ]
  },
  {
   "cell_type": "code",
   "execution_count": 58,
   "id": "c6b07ad9-db43-4336-bbf4-536fa95fbfab",
   "metadata": {
    "tags": []
   },
   "outputs": [
    {
     "name": "stdin",
     "output_type": "stream",
     "text": [
      " 2\n"
     ]
    },
    {
     "name": "stdout",
     "output_type": "stream",
     "text": [
      "Invalid\n"
     ]
    }
   ],
   "source": [
    "\n",
    "num_day=int(input())\n",
    "match num_day:\n",
    "    case 1:\n",
    "        print(\"Mon\")\n",
    "    case _:\n",
    "        print(\"Invalid\")"
   ]
  },
  {
   "cell_type": "markdown",
   "id": "86e22050-6d4a-418c-b009-bb7b7f2284f6",
   "metadata": {},
   "source": [
    "###############################################loooooooooooooooooop"
   ]
  },
  {
   "cell_type": "code",
   "execution_count": 64,
   "id": "19961eb8-1229-46a4-b4b7-10a82af9fe96",
   "metadata": {
    "tags": []
   },
   "outputs": [
    {
     "name": "stdout",
     "output_type": "stream",
     "text": [
      "Name is Adi .. Name is Ayu .. Name is Abhi .. "
     ]
    }
   ],
   "source": [
    "name=[\"Adi\",\"Ayu\",\"Abhi\"]\n",
    "\n",
    "for n in name:\n",
    "    print(\"Name is \"+n,end=' .. ')"
   ]
  },
  {
   "cell_type": "code",
   "execution_count": 67,
   "id": "de65ed28-f2eb-4093-90d8-eedc4e331e85",
   "metadata": {
    "tags": []
   },
   "outputs": [
    {
     "name": "stdout",
     "output_type": "stream",
     "text": [
      "10 9 8 7 6 5 4 3 2 "
     ]
    }
   ],
   "source": [
    "for i in range(10,1,-1):\n",
    "    print(i,end=\" \")"
   ]
  },
  {
   "cell_type": "code",
   "execution_count": 71,
   "id": "8f5237eb-1ce7-42ee-a816-f888169870b5",
   "metadata": {
    "tags": []
   },
   "outputs": [
    {
     "name": "stdout",
     "output_type": "stream",
     "text": [
      "* * * * * \n",
      "* * * * * \n",
      "* * * * * \n",
      "* * * * * \n",
      "* * * * * \n"
     ]
    }
   ],
   "source": [
    "for i in range(5):\n",
    "    for j in range(5):\n",
    "        print(\"*\",end=\" \")\n",
    "    print(end=\"\\n\")"
   ]
  },
  {
   "cell_type": "code",
   "execution_count": 72,
   "id": "d1f14e6b-26c9-43a1-b36a-e21f0f3d4881",
   "metadata": {
    "tags": []
   },
   "outputs": [
    {
     "name": "stdout",
     "output_type": "stream",
     "text": [
      "* \n",
      "* * \n",
      "* * * \n",
      "* * * * \n",
      "* * * * * \n"
     ]
    }
   ],
   "source": [
    "for i in range(1,6):\n",
    "    for j in range(i):\n",
    "        print(\"*\",end=\" \")\n",
    "    print(end=\"\\n\")"
   ]
  },
  {
   "cell_type": "code",
   "execution_count": 74,
   "id": "0d5aac25-47fe-4ab4-be98-e2d145aa0357",
   "metadata": {
    "tags": []
   },
   "outputs": [
    {
     "name": "stdout",
     "output_type": "stream",
     "text": [
      "* * * * * \n",
      "* * * * \n",
      "* * * \n",
      "* * \n",
      "* \n"
     ]
    }
   ],
   "source": [
    "for i in range(1,6):\n",
    "    for j in range(6-i):\n",
    "        print(\"*\",end=\" \")\n",
    "    print(end=\"\\n\")"
   ]
  },
  {
   "cell_type": "code",
   "execution_count": 81,
   "id": "28fa0495-2cfb-48a0-bac2-f33a520f1b4d",
   "metadata": {
    "tags": []
   },
   "outputs": [
    {
     "name": "stdout",
     "output_type": "stream",
     "text": [
      "          * \n",
      "        * * * \n",
      "      * * * * * \n",
      "    * * * * * * * \n",
      "  * * * * * * * * * \n"
     ]
    }
   ],
   "source": [
    "for i in range(1,6):\n",
    "    for k in range(6-i):\n",
    "        print(end=\"  \")\n",
    "    for j in range(2*i-1):\n",
    "        print(\"*\",end=\" \")\n",
    "    print(end=\"\\n\")"
   ]
  },
  {
   "cell_type": "code",
   "execution_count": 82,
   "id": "01c85818-434d-42fc-8af7-7fb51b10c591",
   "metadata": {
    "tags": []
   },
   "outputs": [
    {
     "name": "stdout",
     "output_type": "stream",
     "text": [
      "          \n",
      "        * \n",
      "      * * * \n",
      "    * * * * * \n",
      "  * * * * * * * \n",
      "* * * * * * * * * \n"
     ]
    }
   ],
   "source": [
    "for i in range(6):\n",
    "    for k in range(5-i):\n",
    "        print(end=\"  \")\n",
    "    for j in range(2*i-1):\n",
    "        print(\"*\",end=\" \")\n",
    "    print(end=\"\\n\")"
   ]
  },
  {
   "cell_type": "code",
   "execution_count": null,
   "id": "4d8bb2b9-01ff-4b58-9017-450f4c9d7793",
   "metadata": {},
   "outputs": [],
   "source": []
  }
 ],
 "metadata": {
  "kernelspec": {
   "display_name": "Python 3 (ipykernel)",
   "language": "python",
   "name": "python3"
  },
  "language_info": {
   "codemirror_mode": {
    "name": "ipython",
    "version": 3
   },
   "file_extension": ".py",
   "mimetype": "text/x-python",
   "name": "python",
   "nbconvert_exporter": "python",
   "pygments_lexer": "ipython3",
   "version": "3.11.5"
  }
 },
 "nbformat": 4,
 "nbformat_minor": 5
}
