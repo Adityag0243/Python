{
 "cells": [
  {
   "cell_type": "code",
   "execution_count": 1,
   "id": "dd0434f6-ff86-4af7-abdd-b6011bd4123a",
   "metadata": {
    "tags": []
   },
   "outputs": [
    {
     "data": {
      "text/plain": [
       "3.3333333333333335"
      ]
     },
     "execution_count": 1,
     "metadata": {},
     "output_type": "execute_result"
    }
   ],
   "source": [
    "a=10\n",
    "b=3\n",
    "a/b"
   ]
  },
  {
   "cell_type": "code",
   "execution_count": 2,
   "id": "b9962e2e-b61b-4b24-8858-f25b187c0d4c",
   "metadata": {
    "tags": []
   },
   "outputs": [
    {
     "data": {
      "text/plain": [
       "1"
      ]
     },
     "execution_count": 2,
     "metadata": {},
     "output_type": "execute_result"
    }
   ],
   "source": [
    "a%b"
   ]
  },
  {
   "cell_type": "code",
   "execution_count": 4,
   "id": "ef3d5f32-00cb-44cb-89ed-c8ae4a0978ac",
   "metadata": {
    "tags": []
   },
   "outputs": [
    {
     "data": {
      "text/plain": [
       "1"
      ]
     },
     "execution_count": 4,
     "metadata": {},
     "output_type": "execute_result"
    }
   ],
   "source": [
    "-1%2"
   ]
  },
  {
   "cell_type": "code",
   "execution_count": 5,
   "id": "1b4b81bb-cc05-4e61-a136-83447f7c8d07",
   "metadata": {
    "tags": []
   },
   "outputs": [
    {
     "data": {
      "text/plain": [
       "1"
      ]
     },
     "execution_count": 5,
     "metadata": {},
     "output_type": "execute_result"
    }
   ],
   "source": [
    "-5%2"
   ]
  },
  {
   "cell_type": "code",
   "execution_count": 6,
   "id": "520dae83-fc1f-4563-9fae-6951475437f5",
   "metadata": {
    "tags": []
   },
   "outputs": [
    {
     "data": {
      "text/plain": [
       "1"
      ]
     },
     "execution_count": 6,
     "metadata": {},
     "output_type": "execute_result"
    }
   ],
   "source": [
    "-5%3"
   ]
  },
  {
   "cell_type": "code",
   "execution_count": 8,
   "id": "8babe893-1cb9-4137-9dfb-d608b535f5e2",
   "metadata": {
    "tags": []
   },
   "outputs": [
    {
     "data": {
      "text/plain": [
       "1000"
      ]
     },
     "execution_count": 8,
     "metadata": {},
     "output_type": "execute_result"
    }
   ],
   "source": [
    "##############################################power\n",
    "10**3"
   ]
  },
  {
   "cell_type": "code",
   "execution_count": 10,
   "id": "2e594f93-d311-4337-98cd-fc75b0791856",
   "metadata": {
    "tags": []
   },
   "outputs": [
    {
     "data": {
      "text/plain": [
       "3"
      ]
     },
     "execution_count": 10,
     "metadata": {},
     "output_type": "execute_result"
    }
   ],
   "source": [
    "10//3 ######################################integral part of quotient"
   ]
  },
  {
   "cell_type": "code",
   "execution_count": 12,
   "id": "5d5443e8-55a8-40a2-a528-454e7d3f990f",
   "metadata": {
    "tags": []
   },
   "outputs": [
    {
     "name": "stdout",
     "output_type": "stream",
     "text": [
      "inf -inf <class 'float'>\n"
     ]
    }
   ],
   "source": [
    "pos_inf=float(\"inf\")\n",
    "neg_inf=float(\"-inf\")\n",
    "\n",
    "print(pos_inf , neg_inf , type(pos_inf))\n"
   ]
  },
  {
   "cell_type": "code",
   "execution_count": 3,
   "id": "68e43256-85b0-4a11-a85b-b3fc9a909013",
   "metadata": {
    "tags": []
   },
   "outputs": [
    {
     "name": "stdout",
     "output_type": "stream",
     "text": [
      "nan\n"
     ]
    }
   ],
   "source": [
    "#not a number nan\n",
    "a=float(\"nan\")\n",
    "print(a)\n",
    "\n",
    "#not equal to anything even not equal to itself can't compare with anything"
   ]
  },
  {
   "cell_type": "code",
   "execution_count": 18,
   "id": "1f307da9-9712-42bc-8295-d5f0cc937add",
   "metadata": {
    "tags": []
   },
   "outputs": [
    {
     "data": {
      "text/plain": [
       "False"
      ]
     },
     "execution_count": 18,
     "metadata": {},
     "output_type": "execute_result"
    }
   ],
   "source": [
    "a==a            #########################important"
   ]
  },
  {
   "cell_type": "code",
   "execution_count": 22,
   "id": "35952e80-7174-451c-ae9c-46f655dffd98",
   "metadata": {
    "tags": []
   },
   "outputs": [
    {
     "data": {
      "text/plain": [
       "False"
      ]
     },
     "execution_count": 22,
     "metadata": {},
     "output_type": "execute_result"
    }
   ],
   "source": [
    "pos_inf>a     #a is nan"
   ]
  },
  {
   "cell_type": "code",
   "execution_count": 23,
   "id": "9de896cb-2ff5-4bfb-8bdc-69479a6465aa",
   "metadata": {
    "tags": []
   },
   "outputs": [
    {
     "data": {
      "text/plain": [
       "False"
      ]
     },
     "execution_count": 23,
     "metadata": {},
     "output_type": "execute_result"
    }
   ],
   "source": [
    "pos_inf<a"
   ]
  },
  {
   "cell_type": "code",
   "execution_count": 24,
   "id": "0cb2e6bb-91b4-42c8-928d-b8182941c3d9",
   "metadata": {
    "tags": []
   },
   "outputs": [
    {
     "data": {
      "text/plain": [
       "True"
      ]
     },
     "execution_count": 24,
     "metadata": {},
     "output_type": "execute_result"
    }
   ],
   "source": [
    "pos_inf>neg_inf"
   ]
  },
  {
   "cell_type": "code",
   "execution_count": 5,
   "id": "c4b4b528-0d74-42ef-af6f-3e3ece2901b8",
   "metadata": {},
   "outputs": [
    {
     "data": {
      "text/plain": [
       "True"
      ]
     },
     "execution_count": 5,
     "metadata": {},
     "output_type": "execute_result"
    }
   ],
   "source": [
    "a!=0                         #important"
   ]
  },
  {
   "cell_type": "raw",
   "id": "a9680e9b-0e37-4268-b053-6fd99afcdfc7",
   "metadata": {
    "tags": []
   },
   "source": [
    "#########increment operator does't support x++ make error and x++ does't make error but not work"
   ]
  },
  {
   "cell_type": "code",
   "execution_count": 8,
   "id": "541d8256-b985-44c1-8cbe-9b314e0ec28b",
   "metadata": {
    "tags": []
   },
   "outputs": [
    {
     "data": {
      "text/plain": [
       "1"
      ]
     },
     "execution_count": 8,
     "metadata": {},
     "output_type": "execute_result"
    }
   ],
   "source": [
    "2^3"
   ]
  },
  {
   "cell_type": "code",
   "execution_count": 9,
   "id": "3475014d-0f75-4f9a-9cca-6e851678a88c",
   "metadata": {
    "tags": []
   },
   "outputs": [
    {
     "data": {
      "text/plain": [
       "False"
      ]
     },
     "execution_count": 9,
     "metadata": {},
     "output_type": "execute_result"
    }
   ],
   "source": [
    "True^True"
   ]
  },
  {
   "cell_type": "code",
   "execution_count": 10,
   "id": "533333a8-3023-4dca-a577-5694e33cd932",
   "metadata": {
    "tags": []
   },
   "outputs": [
    {
     "data": {
      "text/plain": [
       "1"
      ]
     },
     "execution_count": 10,
     "metadata": {},
     "output_type": "execute_result"
    }
   ],
   "source": [
    "0^1"
   ]
  },
  {
   "cell_type": "code",
   "execution_count": 11,
   "id": "25e08cf7-ff6e-428f-b74e-9a04a12d0b67",
   "metadata": {
    "tags": []
   },
   "outputs": [
    {
     "data": {
      "text/plain": [
       "0"
      ]
     },
     "execution_count": 11,
     "metadata": {},
     "output_type": "execute_result"
    }
   ],
   "source": [
    "0^0"
   ]
  },
  {
   "cell_type": "code",
   "execution_count": 12,
   "id": "2a5d21e4-d650-4875-b360-235a1ed9bb39",
   "metadata": {
    "tags": []
   },
   "outputs": [
    {
     "data": {
      "text/plain": [
       "0"
      ]
     },
     "execution_count": 12,
     "metadata": {},
     "output_type": "execute_result"
    }
   ],
   "source": [
    "1^1"
   ]
  },
  {
   "cell_type": "code",
   "execution_count": 13,
   "id": "ec1f7d36-94f4-4a9a-a1d5-aab0fe260fd5",
   "metadata": {
    "tags": []
   },
   "outputs": [
    {
     "data": {
      "text/plain": [
       "True"
      ]
     },
     "execution_count": 13,
     "metadata": {},
     "output_type": "execute_result"
    }
   ],
   "source": [
    "bool(2)"
   ]
  },
  {
   "cell_type": "code",
   "execution_count": 14,
   "id": "eb3ca41e-704e-4c3c-9e8c-35f0f05b2c72",
   "metadata": {
    "tags": []
   },
   "outputs": [
    {
     "data": {
      "text/plain": [
       "True"
      ]
     },
     "execution_count": 14,
     "metadata": {},
     "output_type": "execute_result"
    }
   ],
   "source": [
    "bool(3)"
   ]
  },
  {
   "cell_type": "code",
   "execution_count": null,
   "id": "35587d7b-6386-46e7-a1f5-052b882f8c40",
   "metadata": {},
   "outputs": [],
   "source": []
  }
 ],
 "metadata": {
  "kernelspec": {
   "display_name": "Python 3 (ipykernel)",
   "language": "python",
   "name": "python3"
  },
  "language_info": {
   "codemirror_mode": {
    "name": "ipython",
    "version": 3
   },
   "file_extension": ".py",
   "mimetype": "text/x-python",
   "name": "python",
   "nbconvert_exporter": "python",
   "pygments_lexer": "ipython3",
   "version": "3.11.5"
  }
 },
 "nbformat": 4,
 "nbformat_minor": 5
}
