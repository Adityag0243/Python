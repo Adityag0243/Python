{
 "cells": [
  {
   "cell_type": "code",
   "execution_count": 1,
   "id": "9e555db6-60a6-45fe-9b4c-9039f944cd72",
   "metadata": {
    "tags": []
   },
   "outputs": [],
   "source": [
    "l1=[1,2,3]"
   ]
  },
  {
   "cell_type": "code",
   "execution_count": 3,
   "id": "a578912b-6e2c-4780-8da7-95d1b9ae9d7b",
   "metadata": {
    "tags": []
   },
   "outputs": [
    {
     "data": {
      "text/plain": [
       "list"
      ]
     },
     "execution_count": 3,
     "metadata": {},
     "output_type": "execute_result"
    }
   ],
   "source": [
    "type(l1)"
   ]
  },
  {
   "cell_type": "code",
   "execution_count": 4,
   "id": "4a184cff-c79a-4ad6-9498-29154248d5f9",
   "metadata": {
    "tags": []
   },
   "outputs": [],
   "source": [
    "l2=list()"
   ]
  },
  {
   "cell_type": "code",
   "execution_count": 5,
   "id": "10947fa7-51a2-4df9-8c09-39b4f2e3bd01",
   "metadata": {
    "tags": []
   },
   "outputs": [
    {
     "name": "stdout",
     "output_type": "stream",
     "text": [
      "[]\n"
     ]
    }
   ],
   "source": [
    "print(l2)"
   ]
  },
  {
   "cell_type": "code",
   "execution_count": 6,
   "id": "a11d8ad5-76a0-4256-83a2-7ad9c5589a63",
   "metadata": {
    "jupyter": {
     "source_hidden": true
    },
    "tags": []
   },
   "outputs": [],
   "source": [
    "l3=list([1,2,3])"
   ]
  },
  {
   "cell_type": "code",
   "execution_count": 7,
   "id": "0e0c0eae-cbef-4c0b-8f16-16190750b051",
   "metadata": {
    "tags": []
   },
   "outputs": [
    {
     "name": "stdout",
     "output_type": "stream",
     "text": [
      "[1, 2, 3]\n"
     ]
    }
   ],
   "source": [
    "print(l3)"
   ]
  },
  {
   "cell_type": "code",
   "execution_count": 8,
   "id": "cf466e70-c628-40e9-9cab-f0f85fada42e",
   "metadata": {
    "tags": []
   },
   "outputs": [],
   "source": [
    "l4=list(\"Aditya gupta\")"
   ]
  },
  {
   "cell_type": "code",
   "execution_count": 9,
   "id": "d3f75cc0-95e8-4ba3-8c87-4ef445aa1b83",
   "metadata": {
    "tags": []
   },
   "outputs": [
    {
     "data": {
      "text/plain": [
       "['A', 'd', 'i', 't', 'y', 'a', ' ', 'g', 'u', 'p', 't', 'a']"
      ]
     },
     "execution_count": 9,
     "metadata": {},
     "output_type": "execute_result"
    }
   ],
   "source": [
    "l4"
   ]
  },
  {
   "cell_type": "code",
   "execution_count": 10,
   "id": "2d70b175-75b1-432e-8b21-326b31a541d4",
   "metadata": {
    "tags": []
   },
   "outputs": [
    {
     "data": {
      "text/plain": [
       "2521041328896"
      ]
     },
     "execution_count": 10,
     "metadata": {},
     "output_type": "execute_result"
    }
   ],
   "source": [
    "id(l3)"
   ]
  },
  {
   "cell_type": "code",
   "execution_count": 12,
   "id": "526507be-eda9-4b45-9fa6-e40a2c7c6923",
   "metadata": {
    "tags": []
   },
   "outputs": [
    {
     "data": {
      "text/plain": [
       "2521041641280"
      ]
     },
     "execution_count": 12,
     "metadata": {},
     "output_type": "execute_result"
    }
   ],
   "source": [
    "id(l2)"
   ]
  },
  {
   "cell_type": "raw",
   "id": "95991dc8-04fc-4bee-9161-c53c27d242ad",
   "metadata": {},
   "source": [
    "# locatio alag alag rhega do same jaise dikhane wale list ke"
   ]
  },
  {
   "cell_type": "code",
   "execution_count": 15,
   "id": "14bac504-8d05-49ba-824a-576ffda82655",
   "metadata": {
    "tags": []
   },
   "outputs": [
    {
     "name": "stdout",
     "output_type": "stream",
     "text": [
      "False\n",
      "True\n"
     ]
    }
   ],
   "source": [
    "a=1;\n",
    "arr=[1,2,3]\n",
    "arr1=[1,2,3]\n",
    "print(id(arr)==id(arr1))\n",
    "print(id(a)==id(arr[0]))"
   ]
  },
  {
   "cell_type": "code",
   "execution_count": 17,
   "id": "443a3444-4899-401c-8f15-90fd8b48967b",
   "metadata": {
    "tags": []
   },
   "outputs": [],
   "source": [
    "import sys   #inbuilt python library"
   ]
  },
  {
   "cell_type": "code",
   "execution_count": 21,
   "id": "6ddc9e1d-88fd-4571-94a9-dfba04325308",
   "metadata": {
    "tags": []
   },
   "outputs": [
    {
     "name": "stdout",
     "output_type": "stream",
     "text": [
      "56\n",
      "[7, 9, 17]\n",
      "88\n"
     ]
    }
   ],
   "source": [
    "import sys\n",
    "\n",
    "arr=[1,2,3]\n",
    "arr = list()\n",
    "print(sys.getsizeof(arr))\n",
    "arr.append(7)\n",
    "arr.append(9)\n",
    "arr.append(17)\n",
    "print(arr)\n",
    "print(sys.getsizeof(arr))\n"
   ]
  },
  {
   "cell_type": "raw",
   "id": "e0aa93a7-8673-4198-9a0c-f1afc88d106a",
   "metadata": {},
   "source": [
    "****************value ek hi jagah pe hoga 3 1 2 7 8 19 inka location fix hoga \n",
    "arr arr1 arr2 ye kahi aur honge alag alag jagah \n",
    "aur waha se vo point out kr rhe honge un values ko***********"
   ]
  },
  {
   "cell_type": "code",
   "execution_count": 23,
   "id": "166365e5-bcd9-440d-b699-1a5ddc885633",
   "metadata": {
    "tags": []
   },
   "outputs": [
    {
     "name": "stdout",
     "output_type": "stream",
     "text": [
      "140719990936584\n",
      "140719990936584\n",
      "140719990936584\n",
      "2521042092928\n",
      "2521042093568\n"
     ]
    }
   ],
   "source": [
    "a=8\n",
    "arr=[1,5,8]\n",
    "arr1=[3,8,4]\n",
    "\n",
    "print(id(a))\n",
    "print(id(arr[2]))\n",
    "print(id(arr1[1]))\n",
    "print(id(arr))\n",
    "print(id(arr1))"
   ]
  },
  {
   "cell_type": "code",
   "execution_count": 51,
   "id": "e4059881-be7e-421d-b4cb-e2e76389ba12",
   "metadata": {
    "tags": []
   },
   "outputs": [
    {
     "name": "stdout",
     "output_type": "stream",
     "text": [
      "[]\n"
     ]
    }
   ],
   "source": [
    "l1=[1,2,3,4,5,6,7]\n",
    "print(l1[0:-3:-1])"
   ]
  },
  {
   "cell_type": "code",
   "execution_count": 52,
   "id": "cb0343f3-e758-40c6-9ff0-1b627258bb95",
   "metadata": {
    "tags": []
   },
   "outputs": [],
   "source": [
    "l1.append(5)     #last me add krna ho"
   ]
  },
  {
   "cell_type": "code",
   "execution_count": 53,
   "id": "29ddcd6d-f699-4afb-90d9-39e0fe473780",
   "metadata": {
    "tags": []
   },
   "outputs": [
    {
     "data": {
      "text/plain": [
       "[1, 2, 3, 4, 5, 6, 7, 5]"
      ]
     },
     "execution_count": 53,
     "metadata": {},
     "output_type": "execute_result"
    }
   ],
   "source": [
    "l1"
   ]
  },
  {
   "cell_type": "code",
   "execution_count": 54,
   "id": "49719955-687d-42ef-a0c3-e4ab2c169479",
   "metadata": {
    "tags": []
   },
   "outputs": [
    {
     "data": {
      "text/plain": [
       "5"
      ]
     },
     "execution_count": 54,
     "metadata": {},
     "output_type": "execute_result"
    }
   ],
   "source": [
    "l1[7]"
   ]
  },
  {
   "cell_type": "code",
   "execution_count": 55,
   "id": "ccafd9a5-a4c1-40f6-93c4-7df755b9948c",
   "metadata": {
    "tags": []
   },
   "outputs": [
    {
     "ename": "IndexError",
     "evalue": "list assignment index out of range",
     "output_type": "error",
     "traceback": [
      "\u001b[1;31m---------------------------------------------------------------------------\u001b[0m",
      "\u001b[1;31mIndexError\u001b[0m                                Traceback (most recent call last)",
      "Cell \u001b[1;32mIn[55], line 1\u001b[0m\n\u001b[1;32m----> 1\u001b[0m l1[\u001b[38;5;241m15\u001b[39m]\u001b[38;5;241m=\u001b[39m\u001b[38;5;241m9\u001b[39m\n",
      "\u001b[1;31mIndexError\u001b[0m: list assignment index out of range"
     ]
    }
   ],
   "source": [
    "l1[15]=9"
   ]
  },
  {
   "cell_type": "code",
   "execution_count": 56,
   "id": "7d7c3329-464a-4df6-8f9a-9a49a2eb5dcb",
   "metadata": {
    "tags": []
   },
   "outputs": [
    {
     "data": {
      "text/plain": [
       "[1, 2, 3, 4, 5, 6, 7, 5]"
      ]
     },
     "execution_count": 56,
     "metadata": {},
     "output_type": "execute_result"
    }
   ],
   "source": [
    "l1"
   ]
  },
  {
   "cell_type": "code",
   "execution_count": 59,
   "id": "18f62d69-0e06-4860-8406-453e6830ab95",
   "metadata": {
    "tags": []
   },
   "outputs": [],
   "source": [
    "l1.insert(0,7)              #at any given index"
   ]
  },
  {
   "cell_type": "code",
   "execution_count": 60,
   "id": "ce86432e-0642-4aa4-899b-16db4e1367a4",
   "metadata": {
    "tags": []
   },
   "outputs": [
    {
     "data": {
      "text/plain": [
       "[7, 7, 1, 2, 3, 4, 5, 6, 7, 5]"
      ]
     },
     "execution_count": 60,
     "metadata": {},
     "output_type": "execute_result"
    }
   ],
   "source": [
    "l1"
   ]
  },
  {
   "cell_type": "code",
   "execution_count": 62,
   "id": "2a54d57c-e264-498f-9d04-4c4f3d062b05",
   "metadata": {
    "tags": []
   },
   "outputs": [
    {
     "name": "stdout",
     "output_type": "stream",
     "text": [
      "[7, 7, 1, 2, 3, 4, 5, 6, 7, 5, 9, 9, 9]\n"
     ]
    }
   ],
   "source": [
    "l2=[9,9,9]\n",
    "l1.extend(l2)\n",
    "print(l1)"
   ]
  },
  {
   "cell_type": "code",
   "execution_count": 78,
   "id": "c324d678-a903-42d1-93fd-1d416f6e2bbb",
   "metadata": {
    "tags": []
   },
   "outputs": [],
   "source": [
    "arr1=[1,4,17,9,4,17,4]"
   ]
  },
  {
   "cell_type": "code",
   "execution_count": 79,
   "id": "656f796f-c1cc-4d0a-a812-cbd82847b890",
   "metadata": {
    "tags": []
   },
   "outputs": [
    {
     "name": "stdout",
     "output_type": "stream",
     "text": [
      "None\n",
      "[1, 4, 9, 4, 17, 4]\n"
     ]
    }
   ],
   "source": [
    "print(arr1.remove(17))   #it return nothing just remove first 17\n",
    "print(arr1)"
   ]
  },
  {
   "cell_type": "code",
   "execution_count": 80,
   "id": "738d576e-41b5-41cd-9612-526a3d224b9e",
   "metadata": {
    "tags": []
   },
   "outputs": [
    {
     "ename": "ValueError",
     "evalue": "list.remove(x): x not in list",
     "output_type": "error",
     "traceback": [
      "\u001b[1;31m---------------------------------------------------------------------------\u001b[0m",
      "\u001b[1;31mValueError\u001b[0m                                Traceback (most recent call last)",
      "Cell \u001b[1;32mIn[80], line 1\u001b[0m\n\u001b[1;32m----> 1\u001b[0m \u001b[38;5;28mprint\u001b[39m(arr1\u001b[38;5;241m.\u001b[39mremove(\u001b[38;5;241m10\u001b[39m))\n\u001b[0;32m      2\u001b[0m \u001b[38;5;28mprint\u001b[39m(arr1)\n",
      "\u001b[1;31mValueError\u001b[0m: list.remove(x): x not in list"
     ]
    }
   ],
   "source": [
    "print(arr1.remove(10))\n",
    "print(arr1)"
   ]
  },
  {
   "cell_type": "code",
   "execution_count": 81,
   "id": "35e59907-edaa-4bdb-9e71-d53f17cb36fd",
   "metadata": {
    "tags": []
   },
   "outputs": [
    {
     "name": "stdout",
     "output_type": "stream",
     "text": [
      "4\n",
      "[1, 4, 9, 4, 17]\n"
     ]
    }
   ],
   "source": [
    "print(arr1.pop())          #give last element and remove it\n",
    "print(arr1)\n"
   ]
  },
  {
   "cell_type": "code",
   "execution_count": 82,
   "id": "3b09afa9-ddd4-42de-9e5f-a2e9de6bba27",
   "metadata": {
    "tags": []
   },
   "outputs": [
    {
     "data": {
      "text/plain": [
       "8"
      ]
     },
     "execution_count": 82,
     "metadata": {},
     "output_type": "execute_result"
    }
   ],
   "source": [
    "arr.pop(2)"
   ]
  },
  {
   "cell_type": "code",
   "execution_count": 85,
   "id": "f0591d69-3a9f-405c-9ccb-0dd20059ef22",
   "metadata": {
    "tags": []
   },
   "outputs": [],
   "source": [
    "arr=[1,2,3,4,5,6]\n",
    "arr.reverse()"
   ]
  },
  {
   "cell_type": "code",
   "execution_count": 88,
   "id": "57b931f7-9087-4ded-ae1b-1325e62f2290",
   "metadata": {
    "tags": []
   },
   "outputs": [
    {
     "data": {
      "text/plain": [
       "[6, 5, 4, 3, 2, 1]"
      ]
     },
     "execution_count": 88,
     "metadata": {},
     "output_type": "execute_result"
    }
   ],
   "source": [
    "arr"
   ]
  },
  {
   "cell_type": "code",
   "execution_count": 89,
   "id": "5a41a301-588a-4cc7-885c-132a72d2424e",
   "metadata": {
    "tags": []
   },
   "outputs": [
    {
     "name": "stdout",
     "output_type": "stream",
     "text": [
      "[6, 5, 4, 3, 2, 1]\n",
      "[6, 5, 4, 3, 2, 1]\n",
      "2521056004096\n",
      "2521042206592\n"
     ]
    }
   ],
   "source": [
    "arr2=[5,6,7,8,9]\n",
    "arr2=arr.copy()\n",
    "print(arr2)\n",
    "print(arr)\n",
    "print(id(arr))\n",
    "print(id(arr2))"
   ]
  },
  {
   "cell_type": "code",
   "execution_count": 90,
   "id": "b01db357-47fb-40e6-8afd-1e726902e684",
   "metadata": {
    "tags": []
   },
   "outputs": [
    {
     "name": "stdout",
     "output_type": "stream",
     "text": [
      "[1, 3, 3, 6, 6, 8, 9]\n"
     ]
    }
   ],
   "source": [
    "arr=[1,6,3,8,9,3,6]\n",
    "arr.sort()\n",
    "print(arr)"
   ]
  },
  {
   "cell_type": "markdown",
   "id": "220348cc-8f3b-4ab4-bf0d-ef58a7b8a664",
   "metadata": {},
   "source": [
    "tuple********************************************************************"
   ]
  },
  {
   "cell_type": "code",
   "execution_count": 91,
   "id": "1511567a-d9ec-4624-8ce9-cc6397db88f0",
   "metadata": {
    "tags": []
   },
   "outputs": [
    {
     "data": {
      "text/plain": [
       "False"
      ]
     },
     "execution_count": 91,
     "metadata": {},
     "output_type": "execute_result"
    }
   ],
   "source": [
    "t1=(1,2,3,4)\n",
    "t2=(1,2,3,4)\n",
    "id(t1)==id(t2)"
   ]
  },
  {
   "cell_type": "code",
   "execution_count": 92,
   "id": "e341f918-2abf-4a74-b3e4-f1cdedc67a9d",
   "metadata": {
    "tags": []
   },
   "outputs": [
    {
     "name": "stdout",
     "output_type": "stream",
     "text": [
      "2521055305360\n"
     ]
    }
   ],
   "source": [
    "print(id(t1))"
   ]
  },
  {
   "cell_type": "code",
   "execution_count": 93,
   "id": "487ed5c7-39f4-40a6-bb6e-def34007212b",
   "metadata": {
    "tags": []
   },
   "outputs": [
    {
     "name": "stdout",
     "output_type": "stream",
     "text": [
      "2521055307280\n"
     ]
    }
   ],
   "source": [
    "print(id(t2))"
   ]
  },
  {
   "cell_type": "code",
   "execution_count": 94,
   "id": "dfb5edb7-4d9a-4bee-a9e2-f7fb4cb913b3",
   "metadata": {
    "tags": []
   },
   "outputs": [
    {
     "data": {
      "text/plain": [
       "tuple"
      ]
     },
     "execution_count": 94,
     "metadata": {},
     "output_type": "execute_result"
    }
   ],
   "source": [
    "type(t1)"
   ]
  },
  {
   "cell_type": "code",
   "execution_count": 95,
   "id": "dba3a123-c231-45b7-8a20-c8359a2552a9",
   "metadata": {
    "tags": []
   },
   "outputs": [
    {
     "data": {
      "text/plain": [
       "tuple"
      ]
     },
     "execution_count": 95,
     "metadata": {},
     "output_type": "execute_result"
    }
   ],
   "source": [
    "type(t2)"
   ]
  },
  {
   "cell_type": "code",
   "execution_count": 96,
   "id": "0f0f499b-3715-463e-997a-e0910b44ee42",
   "metadata": {
    "tags": []
   },
   "outputs": [
    {
     "name": "stdout",
     "output_type": "stream",
     "text": [
      "(1, 2, 3, 4) (1, 2, 3, 4)\n"
     ]
    }
   ],
   "source": [
    "print(t1, t2)"
   ]
  },
  {
   "cell_type": "code",
   "execution_count": 98,
   "id": "126afa72-af65-42fa-88ac-ff71a3ada671",
   "metadata": {
    "tags": []
   },
   "outputs": [
    {
     "data": {
      "text/plain": [
       "()"
      ]
     },
     "execution_count": 98,
     "metadata": {},
     "output_type": "execute_result"
    }
   ],
   "source": [
    "t3=tuple()\n",
    "t3"
   ]
  },
  {
   "cell_type": "code",
   "execution_count": 99,
   "id": "9b0d56c4-d72a-490a-baff-92288a6c5715",
   "metadata": {
    "tags": []
   },
   "outputs": [],
   "source": [
    "t4=tuple((1,2,3,4,5,6))"
   ]
  },
  {
   "cell_type": "code",
   "execution_count": 100,
   "id": "596c7c14-7c54-4df7-aa84-219d5468b403",
   "metadata": {
    "tags": []
   },
   "outputs": [
    {
     "data": {
      "text/plain": [
       "(1, 2, 3, 4, 5, 6)"
      ]
     },
     "execution_count": 100,
     "metadata": {},
     "output_type": "execute_result"
    }
   ],
   "source": [
    "t4"
   ]
  },
  {
   "cell_type": "code",
   "execution_count": 101,
   "id": "15afb071-884d-4333-a9fc-b3a567e06bd0",
   "metadata": {
    "tags": []
   },
   "outputs": [],
   "source": [
    "t5=tuple(\"Adi G\")"
   ]
  },
  {
   "cell_type": "code",
   "execution_count": 102,
   "id": "9143fec4-7157-4f56-9430-d5c6ebd9a4f7",
   "metadata": {
    "tags": []
   },
   "outputs": [
    {
     "data": {
      "text/plain": [
       "('A', 'd', 'i', ' ', 'G')"
      ]
     },
     "execution_count": 102,
     "metadata": {},
     "output_type": "execute_result"
    }
   ],
   "source": [
    "t5"
   ]
  },
  {
   "cell_type": "code",
   "execution_count": 103,
   "id": "ed93c2c6-31de-4de2-bcee-e42b75f62588",
   "metadata": {
    "tags": []
   },
   "outputs": [
    {
     "data": {
      "text/plain": [
       "int"
      ]
     },
     "execution_count": 103,
     "metadata": {},
     "output_type": "execute_result"
    }
   ],
   "source": [
    "t7=(1)\n",
    "type(t7)"
   ]
  },
  {
   "cell_type": "code",
   "execution_count": 104,
   "id": "f3c64de1-15cf-4e93-a1aa-d8125c0a476a",
   "metadata": {
    "tags": []
   },
   "outputs": [
    {
     "data": {
      "text/plain": [
       "tuple"
      ]
     },
     "execution_count": 104,
     "metadata": {},
     "output_type": "execute_result"
    }
   ],
   "source": [
    "t8=(1,)\n",
    "type(t8)"
   ]
  },
  {
   "cell_type": "code",
   "execution_count": 106,
   "id": "8042bbc8-5e16-410b-92c3-35788cedbc7a",
   "metadata": {
    "tags": []
   },
   "outputs": [],
   "source": [
    "t9=tuple((1,))"
   ]
  },
  {
   "cell_type": "code",
   "execution_count": 108,
   "id": "5daf1f2a-2c60-4a7e-9eca-170a733c3896",
   "metadata": {
    "tags": []
   },
   "outputs": [
    {
     "data": {
      "text/plain": [
       "tuple"
      ]
     },
     "execution_count": 108,
     "metadata": {},
     "output_type": "execute_result"
    }
   ],
   "source": [
    "type(t9)"
   ]
  },
  {
   "cell_type": "code",
   "execution_count": 114,
   "id": "eaaddc8e-ed26-4490-97b5-d323962bb4d3",
   "metadata": {
    "tags": []
   },
   "outputs": [
    {
     "name": "stdout",
     "output_type": "stream",
     "text": [
      "3\n",
      "4\n",
      "0\n",
      "9\n"
     ]
    }
   ],
   "source": [
    "arr=[1,2,3,4,1,5,1,4,1]\n",
    "t=(1,2,3,4,1,5,1,7,3)\n",
    "print(t.count(1))\n",
    "print(arr.count(1))\n",
    "print(t.index(1))\n",
    "print(len(t))"
   ]
  },
  {
   "cell_type": "code",
   "execution_count": 118,
   "id": "2a7a37b8-bc38-4bf5-ae77-bc53d439386b",
   "metadata": {
    "tags": []
   },
   "outputs": [
    {
     "name": "stdout",
     "output_type": "stream",
     "text": [
      "3\n",
      "1\n"
     ]
    }
   ],
   "source": [
    "t=(1,4,2,5,5,4,3,4,8,3)\n",
    "print(t.count(4))\n",
    "print(t.index(4))\n"
   ]
  },
  {
   "cell_type": "markdown",
   "id": "0746c171-ff45-49aa-bc0a-caf80b1153c2",
   "metadata": {},
   "source": [
    "dictionary************************************************ (key,value) key is immutable data type not foe mutable data type like set"
   ]
  },
  {
   "cell_type": "code",
   "execution_count": 120,
   "id": "de40ec91-48a3-4fc0-87fd-b7c13b12f415",
   "metadata": {
    "tags": []
   },
   "outputs": [],
   "source": [
    "d1={\"name\":\"Aditya\" , \"age\":20}"
   ]
  },
  {
   "cell_type": "code",
   "execution_count": 121,
   "id": "e7254bf2-0ef2-486e-b336-2220fde258f6",
   "metadata": {
    "tags": []
   },
   "outputs": [
    {
     "name": "stdout",
     "output_type": "stream",
     "text": [
      "<class 'dict'>\n"
     ]
    }
   ],
   "source": [
    "print(type(d1))"
   ]
  },
  {
   "cell_type": "code",
   "execution_count": 122,
   "id": "a5b24499-3f85-47a7-bdfc-0148a3d1a637",
   "metadata": {
    "tags": []
   },
   "outputs": [
    {
     "name": "stdout",
     "output_type": "stream",
     "text": [
      "{'name': 'Aditya', 'age': 20}\n"
     ]
    }
   ],
   "source": [
    "print(d1)"
   ]
  },
  {
   "cell_type": "code",
   "execution_count": 128,
   "id": "08e53d15-738a-44bb-97c5-cd805988dc60",
   "metadata": {
    "tags": []
   },
   "outputs": [],
   "source": [
    "d2=dict(man=\"Adi\" , umar= 20 )         #yaha man \"\" nhi rhega"
   ]
  },
  {
   "cell_type": "code",
   "execution_count": 129,
   "id": "3d0c6cdf-5041-4488-bbbe-ea1a2f0ec5dc",
   "metadata": {
    "tags": []
   },
   "outputs": [
    {
     "name": "stdout",
     "output_type": "stream",
     "text": [
      "{'man': 'Adi', 'umar': 20}\n"
     ]
    }
   ],
   "source": [
    "print(d2)"
   ]
  },
  {
   "cell_type": "code",
   "execution_count": null,
   "id": "76ee4d5f-87c0-413b-8f6f-9e37fd2dc026",
   "metadata": {},
   "outputs": [],
   "source": []
  }
 ],
 "metadata": {
  "kernelspec": {
   "display_name": "Python 3 (ipykernel)",
   "language": "python",
   "name": "python3"
  },
  "language_info": {
   "codemirror_mode": {
    "name": "ipython",
    "version": 3
   },
   "file_extension": ".py",
   "mimetype": "text/x-python",
   "name": "python",
   "nbconvert_exporter": "python",
   "pygments_lexer": "ipython3",
   "version": "3.11.5"
  }
 },
 "nbformat": 4,
 "nbformat_minor": 5
}
