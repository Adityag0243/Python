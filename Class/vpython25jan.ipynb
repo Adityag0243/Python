{
 "cells": [
  {
   "cell_type": "code",
   "execution_count": 1,
   "id": "6cc1b4e8-5efb-4127-9dd8-b7ab70dfff37",
   "metadata": {
    "tags": []
   },
   "outputs": [
    {
     "data": {
      "text/plain": [
       "''"
      ]
     },
     "execution_count": 1,
     "metadata": {},
     "output_type": "execute_result"
    }
   ],
   "source": [
    "name='Aditya Gupta'\n",
    "name[2:5:-1]"
   ]
  },
  {
   "cell_type": "code",
   "execution_count": null,
   "id": "2a07fed9-dbc7-4b7e-a368-259cdd12f87d",
   "metadata": {},
   "outputs": [],
   "source": []
  }
 ],
 "metadata": {
  "kernelspec": {
   "display_name": "Python 3 (ipykernel)",
   "language": "python",
   "name": "python3"
  },
  "language_info": {
   "codemirror_mode": {
    "name": "ipython",
    "version": 3
   },
   "file_extension": ".py",
   "mimetype": "text/x-python",
   "name": "python",
   "nbconvert_exporter": "python",
   "pygments_lexer": "ipython3",
   "version": "3.11.5"
  }
 },
 "nbformat": 4,
 "nbformat_minor": 5
}
