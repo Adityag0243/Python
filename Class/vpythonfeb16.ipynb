{
 "cells": [
  {
   "cell_type": "code",
   "execution_count": 10,
   "id": "fe3a491f-8fa6-4e59-94b5-14d331ae5d83",
   "metadata": {
    "tags": []
   },
   "outputs": [
    {
     "ename": "IndexError",
     "evalue": "list index out of range",
     "output_type": "error",
     "traceback": [
      "\u001b[1;31m---------------------------------------------------------------------------\u001b[0m",
      "\u001b[1;31mIndexError\u001b[0m                                Traceback (most recent call last)",
      "Cell \u001b[1;32mIn[10], line 26\u001b[0m\n\u001b[0;32m     24\u001b[0m     \u001b[38;5;28;01mfor\u001b[39;00m j \u001b[38;5;129;01min\u001b[39;00m \u001b[38;5;28mrange\u001b[39m(p):\n\u001b[0;32m     25\u001b[0m         \u001b[38;5;28;01mfor\u001b[39;00m k \u001b[38;5;129;01min\u001b[39;00m \u001b[38;5;28mrange\u001b[39m(n):\n\u001b[1;32m---> 26\u001b[0m             l[i][j]\u001b[38;5;241m+\u001b[39m\u001b[38;5;241m=\u001b[39m(li[i][k]\u001b[38;5;241m*\u001b[39mlii[k][j])\n\u001b[0;32m     28\u001b[0m \u001b[38;5;28mprint\u001b[39m(l)\n",
      "\u001b[1;31mIndexError\u001b[0m: list index out of range"
     ]
    }
   ],
   "source": [
    "m=2\n",
    "n=3\n",
    "o=3\n",
    "p=2\n",
    "# li=list(list())\n",
    "# lii=list(list())\n",
    "li=[[1,2],[3,4],[5,6]]\n",
    "# li[0][0]=1\n",
    "# li[0][1]=2\n",
    "# li[1][0]=3\n",
    "# li[1][1]=4\n",
    "# li[2][0]=5\n",
    "# li[2][1]=6\n",
    "lii=[[1,2],[3,4],[5,6]]\n",
    "# lii[0][0]=1\n",
    "# lii[0][1]=2\n",
    "# lii[1][0]=3\n",
    "# lii[1][1]=4\n",
    "# lii[2][0]=5\n",
    "# lii[2][1]=6\n",
    "\n",
    "l=[[0,0],[0,0]]\n",
    "for i in range(m):\n",
    "    for j in range(p):\n",
    "        for k in range(n):\n",
    "            l[i][j]+=(li[i][k]*lii[k][j])\n",
    "\n",
    "print(l)"
   ]
  },
  {
   "cell_type": "code",
   "execution_count": 14,
   "id": "e4b5c01a-276b-4108-b372-00ea7a11c5a0",
   "metadata": {
    "tags": []
   },
   "outputs": [
    {
     "name": "stdout",
     "output_type": "stream",
     "text": [
      "1\n"
     ]
    }
   ],
   "source": [
    "li=[[0,0,1,1],[1,1,1,1],[0,1,1,1]]\n",
    "ans=0\n",
    "sump=0\n",
    "sum=0\n",
    "for i in range(3):\n",
    "    sum=0\n",
    "    for j in range(4):\n",
    "        sum+=li[i][j]\n",
    "    if(sum>sump):\n",
    "        sump=sum\n",
    "        ans=i\n",
    "\n",
    "print(ans)"
   ]
  },
  {
   "cell_type": "code",
   "execution_count": 21,
   "id": "fb4c96b9-f435-486a-8591-bbf498e465d4",
   "metadata": {
    "tags": []
   },
   "outputs": [
    {
     "name": "stdout",
     "output_type": "stream",
     "text": [
      "0 1\n",
      "0\n"
     ]
    }
   ],
   "source": []
  },
  {
   "cell_type": "code",
   "execution_count": null,
   "id": "3197735f-e500-45a4-964a-614a621b0b49",
   "metadata": {},
   "outputs": [],
   "source": []
  }
 ],
 "metadata": {
  "kernelspec": {
   "display_name": "Python 3 (ipykernel)",
   "language": "python",
   "name": "python3"
  },
  "language_info": {
   "codemirror_mode": {
    "name": "ipython",
    "version": 3
   },
   "file_extension": ".py",
   "mimetype": "text/x-python",
   "name": "python",
   "nbconvert_exporter": "python",
   "pygments_lexer": "ipython3",
   "version": "3.11.5"
  }
 },
 "nbformat": 4,
 "nbformat_minor": 5
}
