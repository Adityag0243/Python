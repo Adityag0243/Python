{
 "cells": [
  {
   "cell_type": "code",
   "execution_count": 2,
   "id": "41e42b1f-6646-40c5-9e88-7ae840077fbe",
   "metadata": {
    "tags": []
   },
   "outputs": [],
   "source": [
    "s=\"Aditya gupta\""
   ]
  },
  {
   "cell_type": "code",
   "execution_count": 4,
   "id": "3f9c1110-9589-4334-9d2e-27e99cf80771",
   "metadata": {
    "tags": []
   },
   "outputs": [
    {
     "data": {
      "text/plain": [
       "str"
      ]
     },
     "execution_count": 4,
     "metadata": {},
     "output_type": "execute_result"
    }
   ],
   "source": [
    "type(s)"
   ]
  },
  {
   "cell_type": "code",
   "execution_count": 6,
   "id": "7d728e04-cb1a-49bf-a632-9c027e4f1540",
   "metadata": {
    "tags": []
   },
   "outputs": [
    {
     "data": {
      "text/plain": [
       "'i'"
      ]
     },
     "execution_count": 6,
     "metadata": {},
     "output_type": "execute_result"
    }
   ],
   "source": [
    "s[2]"
   ]
  },
  {
   "cell_type": "code",
   "execution_count": 8,
   "id": "ad4820a7-2b75-4ed2-949c-be8b05ba54c4",
   "metadata": {
    "tags": []
   },
   "outputs": [
    {
     "data": {
      "text/plain": [
       "'u'"
      ]
     },
     "execution_count": 8,
     "metadata": {},
     "output_type": "execute_result"
    }
   ],
   "source": [
    "s[-4]"
   ]
  },
  {
   "cell_type": "code",
   "execution_count": 11,
   "id": "1e1bc813-ff59-4965-9068-194cea3fdb46",
   "metadata": {
    "tags": []
   },
   "outputs": [],
   "source": [
    "a=\"hello sir , how are you\""
   ]
  },
  {
   "cell_type": "code",
   "execution_count": 13,
   "id": "d2b1a522-0c0b-487e-89db-a17ce1cd25dd",
   "metadata": {
    "tags": []
   },
   "outputs": [
    {
     "data": {
      "text/plain": [
       "''"
      ]
     },
     "execution_count": 13,
     "metadata": {},
     "output_type": "execute_result"
    }
   ],
   "source": [
    "a[5:2]"
   ]
  },
  {
   "cell_type": "code",
   "execution_count": 15,
   "id": "066212b2-d607-4b5c-affd-f4e25221d10b",
   "metadata": {
    "tags": []
   },
   "outputs": [
    {
     "data": {
      "text/plain": [
       "' si'"
      ]
     },
     "execution_count": 15,
     "metadata": {},
     "output_type": "execute_result"
    }
   ],
   "source": [
    "a[5:8]"
   ]
  },
  {
   "cell_type": "code",
   "execution_count": 20,
   "id": "74cfe3cc-7ebe-4e2e-8e9a-85dee77fe509",
   "metadata": {
    "tags": []
   },
   "outputs": [
    {
     "ename": "IndexError",
     "evalue": "string index out of range",
     "output_type": "error",
     "traceback": [
      "\u001b[1;31m---------------------------------------------------------------------------\u001b[0m",
      "\u001b[1;31mIndexError\u001b[0m                                Traceback (most recent call last)",
      "Cell \u001b[1;32mIn[20], line 1\u001b[0m\n\u001b[1;32m----> 1\u001b[0m a[\u001b[38;5;241m600\u001b[39m]\n",
      "\u001b[1;31mIndexError\u001b[0m: string index out of range"
     ]
    }
   ],
   "source": [
    "a[600]"
   ]
  },
  {
   "cell_type": "code",
   "execution_count": 21,
   "id": "6f65afcc-482e-45c1-93d7-a4e7194fddfc",
   "metadata": {
    "tags": []
   },
   "outputs": [
    {
     "data": {
      "text/plain": [
       "''"
      ]
     },
     "execution_count": 21,
     "metadata": {},
     "output_type": "execute_result"
    }
   ],
   "source": [
    "a[-1:-4]     #by default jump is one "
   ]
  },
  {
   "cell_type": "code",
   "execution_count": 19,
   "id": "be5a31ed-cb47-424b-85a1-e12bc505b116",
   "metadata": {
    "tags": []
   },
   "outputs": [
    {
     "data": {
      "text/plain": [
       "'uoy'"
      ]
     },
     "execution_count": 19,
     "metadata": {},
     "output_type": "execute_result"
    }
   ],
   "source": [
    "a[-1:-4:-1]"
   ]
  },
  {
   "cell_type": "code",
   "execution_count": 23,
   "id": "988f4d9a-982e-4a46-8558-655fea980503",
   "metadata": {
    "tags": []
   },
   "outputs": [
    {
     "data": {
      "text/plain": [
       "'hello sir , how are you'"
      ]
     },
     "execution_count": 23,
     "metadata": {},
     "output_type": "execute_result"
    }
   ],
   "source": [
    "a[::]"
   ]
  },
  {
   "cell_type": "code",
   "execution_count": 25,
   "id": "19db3084-c3a3-4c51-a2d9-40ea6d024e6b",
   "metadata": {
    "tags": []
   },
   "outputs": [
    {
     "ename": "SyntaxError",
     "evalue": "invalid syntax (918160011.py, line 1)",
     "output_type": "error",
     "traceback": [
      "\u001b[1;36m  Cell \u001b[1;32mIn[25], line 1\u001b[1;36m\u001b[0m\n\u001b[1;33m    a=[-1::-1]\u001b[0m\n\u001b[1;37m         ^\u001b[0m\n\u001b[1;31mSyntaxError\u001b[0m\u001b[1;31m:\u001b[0m invalid syntax\n"
     ]
    }
   ],
   "source": [
    "a=[-1::-1]"
   ]
  },
  {
   "cell_type": "code",
   "execution_count": 27,
   "id": "2a0e8480-3d9b-4bc1-9a2d-c66146818fe4",
   "metadata": {
    "tags": []
   },
   "outputs": [
    {
     "data": {
      "text/plain": [
       "'uoy era woh , ris olleh'"
      ]
     },
     "execution_count": 27,
     "metadata": {},
     "output_type": "execute_result"
    }
   ],
   "source": [
    "a[::-1]"
   ]
  },
  {
   "cell_type": "code",
   "execution_count": 29,
   "id": "73578a29-8bea-44d0-bd6a-1e9e804d3c42",
   "metadata": {
    "tags": []
   },
   "outputs": [
    {
     "data": {
      "text/plain": [
       "'uoy era woh , ris olleh'"
      ]
     },
     "execution_count": 29,
     "metadata": {},
     "output_type": "execute_result"
    }
   ],
   "source": [
    "a[-1::-1]"
   ]
  },
  {
   "cell_type": "code",
   "execution_count": 31,
   "id": "aaf942ba-11b7-4dc2-8e04-353cc8150b86",
   "metadata": {
    "tags": []
   },
   "outputs": [
    {
     "ename": "NameError",
     "evalue": "name 'b' is not defined",
     "output_type": "error",
     "traceback": [
      "\u001b[1;31m---------------------------------------------------------------------------\u001b[0m",
      "\u001b[1;31mNameError\u001b[0m                                 Traceback (most recent call last)",
      "Cell \u001b[1;32mIn[31], line 1\u001b[0m\n\u001b[1;32m----> 1\u001b[0m b[\u001b[38;5;241m-\u001b[39m\u001b[38;5;241m1\u001b[39m:\u001b[38;5;241m2\u001b[39m:\u001b[38;5;241m-\u001b[39m\u001b[38;5;241m1\u001b[39m]\n",
      "\u001b[1;31mNameError\u001b[0m: name 'b' is not defined"
     ]
    }
   ],
   "source": [
    "b[-1:2:-1]"
   ]
  },
  {
   "cell_type": "code",
   "execution_count": 32,
   "id": "f30d9845-82b4-49b0-b2bc-181bea454ab4",
   "metadata": {
    "tags": []
   },
   "outputs": [],
   "source": [
    "b=\"Aditya \"+\"gupta\""
   ]
  },
  {
   "cell_type": "code",
   "execution_count": 33,
   "id": "d517792b-16a8-4f41-b594-7950d71af0fb",
   "metadata": {
    "tags": []
   },
   "outputs": [
    {
     "data": {
      "text/plain": [
       "'Aditya gupta'"
      ]
     },
     "execution_count": 33,
     "metadata": {},
     "output_type": "execute_result"
    }
   ],
   "source": [
    "b"
   ]
  },
  {
   "cell_type": "code",
   "execution_count": 35,
   "id": "09fbac87-4a7d-4fe4-abe9-c67d12e3e62c",
   "metadata": {
    "tags": []
   },
   "outputs": [
    {
     "data": {
      "text/plain": [
       "4"
      ]
     },
     "execution_count": 35,
     "metadata": {},
     "output_type": "execute_result"
    }
   ],
   "source": [
    "b.find('y')"
   ]
  },
  {
   "cell_type": "code",
   "execution_count": 64,
   "id": "b4e01c87-6ca6-474b-b394-18feae8ce40e",
   "metadata": {
    "tags": []
   },
   "outputs": [
    {
     "data": {
      "text/plain": [
       "'tpug ayt'"
      ]
     },
     "execution_count": 64,
     "metadata": {},
     "output_type": "execute_result"
    }
   ],
   "source": [
    "b[-2:2:-1]                               #this is very good questionS"
   ]
  },
  {
   "cell_type": "code",
   "execution_count": 39,
   "id": "ba1261ab-9154-4d3c-81d0-cc07fe1df3fb",
   "metadata": {
    "tags": []
   },
   "outputs": [
    {
     "data": {
      "text/plain": [
       "4"
      ]
     },
     "execution_count": 39,
     "metadata": {},
     "output_type": "execute_result"
    }
   ],
   "source": [
    "b.find('ya')"
   ]
  },
  {
   "cell_type": "code",
   "execution_count": 41,
   "id": "db17c570-49d9-4505-931f-0890b250a2d9",
   "metadata": {
    "tags": []
   },
   "outputs": [
    {
     "data": {
      "text/plain": [
       "-1"
      ]
     },
     "execution_count": 41,
     "metadata": {},
     "output_type": "execute_result"
    }
   ],
   "source": [
    "b.find('yg')"
   ]
  },
  {
   "cell_type": "code",
   "execution_count": 43,
   "id": "72de2ef4-99b0-400c-8908-a7205d309ae1",
   "metadata": {
    "tags": []
   },
   "outputs": [
    {
     "data": {
      "text/plain": [
       "2"
      ]
     },
     "execution_count": 43,
     "metadata": {},
     "output_type": "execute_result"
    }
   ],
   "source": [
    "b.count('a')"
   ]
  },
  {
   "cell_type": "code",
   "execution_count": 45,
   "id": "339520f1-20ea-4a48-8b73-853252b9b949",
   "metadata": {
    "tags": []
   },
   "outputs": [
    {
     "data": {
      "text/plain": [
       "2"
      ]
     },
     "execution_count": 45,
     "metadata": {},
     "output_type": "execute_result"
    }
   ],
   "source": [
    "b.count('t')"
   ]
  },
  {
   "cell_type": "code",
   "execution_count": 47,
   "id": "e10e816e-7074-49ce-a46e-c1c4bb2d351b",
   "metadata": {
    "tags": []
   },
   "outputs": [
    {
     "data": {
      "text/plain": [
       "-1"
      ]
     },
     "execution_count": 47,
     "metadata": {},
     "output_type": "execute_result"
    }
   ],
   "source": [
    "b.find('x')"
   ]
  },
  {
   "cell_type": "code",
   "execution_count": 63,
   "id": "e6bcc8c2-9d96-46b6-bf6b-ec0a3b56ec01",
   "metadata": {
    "tags": []
   },
   "outputs": [],
   "source": [
    "c=b.split()                                           #split"
   ]
  },
  {
   "cell_type": "code",
   "execution_count": 50,
   "id": "9e9923ae-1409-48d2-a10c-94c4aa8cdebd",
   "metadata": {
    "tags": []
   },
   "outputs": [
    {
     "data": {
      "text/plain": [
       "['Aditya', 'gupta']"
      ]
     },
     "execution_count": 50,
     "metadata": {},
     "output_type": "execute_result"
    }
   ],
   "source": [
    "c"
   ]
  },
  {
   "cell_type": "code",
   "execution_count": 52,
   "id": "7936b2ca-f89e-45be-b133-cde6dbb2e6e1",
   "metadata": {
    "tags": []
   },
   "outputs": [
    {
     "data": {
      "text/plain": [
       "list"
      ]
     },
     "execution_count": 52,
     "metadata": {},
     "output_type": "execute_result"
    }
   ],
   "source": [
    "type(c)"
   ]
  },
  {
   "cell_type": "code",
   "execution_count": 54,
   "id": "e2c3d98e-1a1b-418d-bdbe-84dace8306e9",
   "metadata": {
    "tags": []
   },
   "outputs": [],
   "source": [
    "d='Aditya'"
   ]
  },
  {
   "cell_type": "code",
   "execution_count": 55,
   "id": "d6c7a346-9ba5-498c-83be-dbfe640bd3b7",
   "metadata": {
    "tags": []
   },
   "outputs": [
    {
     "data": {
      "text/plain": [
       "'Aditya'"
      ]
     },
     "execution_count": 55,
     "metadata": {},
     "output_type": "execute_result"
    }
   ],
   "source": [
    "d"
   ]
  },
  {
   "cell_type": "code",
   "execution_count": 58,
   "id": "0a13beb7-c21c-4799-bb50-3500943b03e8",
   "metadata": {
    "tags": []
   },
   "outputs": [],
   "source": [
    "d=\"aditya\\\"gupta\""
   ]
  },
  {
   "cell_type": "code",
   "execution_count": 59,
   "id": "10f8340a-549a-489d-9e07-d68f6951ba5e",
   "metadata": {
    "tags": []
   },
   "outputs": [
    {
     "data": {
      "text/plain": [
       "'aditya\"gupta'"
      ]
     },
     "execution_count": 59,
     "metadata": {},
     "output_type": "execute_result"
    }
   ],
   "source": [
    "d"
   ]
  },
  {
   "cell_type": "code",
   "execution_count": 60,
   "id": "9c51ba2c-5154-463e-bce5-b295a49421d0",
   "metadata": {
    "tags": []
   },
   "outputs": [
    {
     "data": {
      "text/plain": [
       "'gupta'"
      ]
     },
     "execution_count": 60,
     "metadata": {},
     "output_type": "execute_result"
    }
   ],
   "source": [
    "c[1]"
   ]
  },
  {
   "cell_type": "code",
   "execution_count": 62,
   "id": "3126a19a-546c-4949-ad56-9c1498afe7bc",
   "metadata": {
    "tags": []
   },
   "outputs": [
    {
     "data": {
      "text/plain": [
       "'t'"
      ]
     },
     "execution_count": 62,
     "metadata": {},
     "output_type": "execute_result"
    }
   ],
   "source": [
    "c[1][3]"
   ]
  },
  {
   "cell_type": "code",
   "execution_count": 150,
   "id": "66a691d6-9cc4-455e-85d5-43f3ae63b76a",
   "metadata": {
    "tags": []
   },
   "outputs": [],
   "source": [
    "e=b.split('ty')                                   #dhyaaaaaaan se               #split important jhai string ko list me convert kr dega"
   ]
  },
  {
   "cell_type": "code",
   "execution_count": 68,
   "id": "c1868ed2-2998-444e-a988-3c470e689325",
   "metadata": {
    "tags": []
   },
   "outputs": [
    {
     "data": {
      "text/plain": [
       "['Adi', 'a gupta']"
      ]
     },
     "execution_count": 68,
     "metadata": {},
     "output_type": "execute_result"
    }
   ],
   "source": [
    "e"
   ]
  },
  {
   "cell_type": "code",
   "execution_count": 69,
   "id": "e5dfdd16-9268-4a58-a8d3-15c69d190665",
   "metadata": {
    "tags": []
   },
   "outputs": [
    {
     "data": {
      "text/plain": [
       "'a gupta'"
      ]
     },
     "execution_count": 69,
     "metadata": {},
     "output_type": "execute_result"
    }
   ],
   "source": [
    "e[1]"
   ]
  },
  {
   "cell_type": "code",
   "execution_count": 70,
   "id": "67c6caa4-c1bf-460e-9d7c-8ac8d822e11a",
   "metadata": {
    "tags": []
   },
   "outputs": [
    {
     "data": {
      "text/plain": [
       "'p'"
      ]
     },
     "execution_count": 70,
     "metadata": {},
     "output_type": "execute_result"
    }
   ],
   "source": [
    "e[1][4]"
   ]
  },
  {
   "cell_type": "code",
   "execution_count": 71,
   "id": "7da9b027-323d-4d86-8b37-9faa8c76d431",
   "metadata": {
    "tags": []
   },
   "outputs": [
    {
     "data": {
      "text/plain": [
       "'a guptahello'"
      ]
     },
     "execution_count": 71,
     "metadata": {},
     "output_type": "execute_result"
    }
   ],
   "source": [
    "e[1]+\"hello\""
   ]
  },
  {
   "cell_type": "code",
   "execution_count": 72,
   "id": "5cbe1edf-62ba-4ade-a813-e82c804e6672",
   "metadata": {
    "tags": []
   },
   "outputs": [
    {
     "data": {
      "text/plain": [
       "'a gupta'"
      ]
     },
     "execution_count": 72,
     "metadata": {},
     "output_type": "execute_result"
    }
   ],
   "source": [
    "e[1]"
   ]
  },
  {
   "cell_type": "code",
   "execution_count": 73,
   "id": "43f49caa-dbe3-40b3-bedd-1a526da8cd87",
   "metadata": {
    "tags": []
   },
   "outputs": [
    {
     "data": {
      "text/plain": [
       "'Aditya gupta'"
      ]
     },
     "execution_count": 73,
     "metadata": {},
     "output_type": "execute_result"
    }
   ],
   "source": [
    "b"
   ]
  },
  {
   "cell_type": "code",
   "execution_count": 74,
   "id": "ba4f660c-c855-40f9-9298-2cc9cbd2492f",
   "metadata": {
    "tags": []
   },
   "outputs": [
    {
     "data": {
      "text/plain": [
       "'Aditya guptaAditya guptaAditya gupta'"
      ]
     },
     "execution_count": 74,
     "metadata": {},
     "output_type": "execute_result"
    }
   ],
   "source": [
    "b*3"
   ]
  },
  {
   "cell_type": "code",
   "execution_count": 75,
   "id": "098f8d2f-d991-4836-b59c-79661a9e2acf",
   "metadata": {
    "tags": []
   },
   "outputs": [
    {
     "data": {
      "text/plain": [
       "'ADITYA GUPTA'"
      ]
     },
     "execution_count": 75,
     "metadata": {},
     "output_type": "execute_result"
    }
   ],
   "source": [
    "b.upper()"
   ]
  },
  {
   "cell_type": "code",
   "execution_count": 76,
   "id": "baf79dd0-e9fa-4d98-8dd8-5b11721162e4",
   "metadata": {
    "tags": []
   },
   "outputs": [
    {
     "data": {
      "text/plain": [
       "'Aditya gupta'"
      ]
     },
     "execution_count": 76,
     "metadata": {},
     "output_type": "execute_result"
    }
   ],
   "source": [
    "b"
   ]
  },
  {
   "cell_type": "code",
   "execution_count": 79,
   "id": "df89a60d-feee-4c39-ae46-5e575be56f10",
   "metadata": {
    "tags": []
   },
   "outputs": [
    {
     "data": {
      "text/plain": [
       "'Aditya gupta'"
      ]
     },
     "execution_count": 79,
     "metadata": {},
     "output_type": "execute_result"
    }
   ],
   "source": [
    "b.capitalize()                            #() ye lagana bhulana nhi hai"
   ]
  },
  {
   "cell_type": "code",
   "execution_count": 87,
   "id": "e4bed1a7-5fc8-435a-87cf-f506a4f15f20",
   "metadata": {
    "tags": []
   },
   "outputs": [],
   "source": [
    "b=\"My name is Aditya\""
   ]
  },
  {
   "cell_type": "code",
   "execution_count": 85,
   "id": "537cbfc0-711a-4a8d-9adb-74d7eb36a0d5",
   "metadata": {
    "tags": []
   },
   "outputs": [
    {
     "data": {
      "text/plain": [
       "['my n', 'me is ', 'dity', '']"
      ]
     },
     "execution_count": 85,
     "metadata": {},
     "output_type": "execute_result"
    }
   ],
   "source": [
    "b.split('a')"
   ]
  },
  {
   "cell_type": "code",
   "execution_count": 88,
   "id": "fcc3e0ea-e82d-45ea-a1a3-4e7409df25ce",
   "metadata": {
    "tags": []
   },
   "outputs": [
    {
     "data": {
      "text/plain": [
       "'mY NAME IS aDITYA'"
      ]
     },
     "execution_count": 88,
     "metadata": {},
     "output_type": "execute_result"
    }
   ],
   "source": [
    "b.swapcase()"
   ]
  },
  {
   "cell_type": "code",
   "execution_count": 92,
   "id": "7a5c4dfd-af7c-43e9-9e6b-e6a3100730c1",
   "metadata": {
    "tags": []
   },
   "outputs": [
    {
     "data": {
      "text/plain": [
       "'My Name Is Aditya'"
      ]
     },
     "execution_count": 92,
     "metadata": {},
     "output_type": "execute_result"
    }
   ],
   "source": [
    "b.title()                       #capitalize first word of each word and capatilize do this with first word only"
   ]
  },
  {
   "cell_type": "code",
   "execution_count": 94,
   "id": "8db69ca2-a591-4e3a-9b5b-a1eb6492f3d6",
   "metadata": {
    "tags": []
   },
   "outputs": [
    {
     "data": {
      "text/plain": [
       "'OadityaKadityaEadityaY'"
      ]
     },
     "execution_count": 94,
     "metadata": {},
     "output_type": "execute_result"
    }
   ],
   "source": [
    "p=\"aditya\"                      \n",
    "q=\"OKEY\"\n",
    "p.join(q)                          #q ka ek ek word leke p dalta ja rha hai\n"
   ]
  },
  {
   "cell_type": "code",
   "execution_count": 95,
   "id": "34da830e-2111-4fcd-9597-9e9436957004",
   "metadata": {
    "tags": []
   },
   "outputs": [
    {
     "data": {
      "text/plain": [
       "'o y e'"
      ]
     },
     "execution_count": 95,
     "metadata": {},
     "output_type": "execute_result"
    }
   ],
   "source": [
    "\" \".join(\"oye\")"
   ]
  },
  {
   "cell_type": "code",
   "execution_count": 101,
   "id": "6fb40ccb-a641-4932-b1d5-f0f067811a5e",
   "metadata": {
    "tags": []
   },
   "outputs": [],
   "source": [
    "a=\"    ad  itya gupta   ,   \""
   ]
  },
  {
   "cell_type": "code",
   "execution_count": 102,
   "id": "fe7a9e76-698d-4795-af07-efe3aa328baf",
   "metadata": {
    "tags": []
   },
   "outputs": [
    {
     "data": {
      "text/plain": [
       "'ad  itya gupta   ,   '"
      ]
     },
     "execution_count": 102,
     "metadata": {},
     "output_type": "execute_result"
    }
   ],
   "source": [
    "a.lstrip()"
   ]
  },
  {
   "cell_type": "code",
   "execution_count": 103,
   "id": "619c75d3-f0ae-48b3-9146-05f9308ecc8c",
   "metadata": {
    "tags": []
   },
   "outputs": [
    {
     "data": {
      "text/plain": [
       "'    ad  itya gupta   ,'"
      ]
     },
     "execution_count": 103,
     "metadata": {},
     "output_type": "execute_result"
    }
   ],
   "source": [
    "a.rstrip()"
   ]
  },
  {
   "cell_type": "code",
   "execution_count": 129,
   "id": "b96d0afd-7695-4337-882a-70f9d62203da",
   "metadata": {
    "tags": []
   },
   "outputs": [
    {
     "data": {
      "text/plain": [
       "'    aditya     gupta '"
      ]
     },
     "execution_count": 129,
     "metadata": {},
     "output_type": "execute_result"
    }
   ],
   "source": [
    "b=a.strip(\"i\")\n",
    "b"
   ]
  },
  {
   "cell_type": "code",
   "execution_count": 111,
   "id": "de0c3c5c-7560-44fe-be06-842de8b83761",
   "metadata": {
    "tags": []
   },
   "outputs": [],
   "source": [
    "a=\"Aditya gupta\""
   ]
  },
  {
   "cell_type": "code",
   "execution_count": 112,
   "id": "cfb5d15d-a0eb-4622-82f6-eafc83aa67b8",
   "metadata": {
    "tags": []
   },
   "outputs": [
    {
     "data": {
      "text/plain": [
       "'Aditya aapta'"
      ]
     },
     "execution_count": 112,
     "metadata": {},
     "output_type": "execute_result"
    }
   ],
   "source": [
    "a.replace(\"gu\",\"aa\")"
   ]
  },
  {
   "cell_type": "code",
   "execution_count": 113,
   "id": "d0d4119d-b9c8-48fb-97ed-ba4900439034",
   "metadata": {
    "tags": []
   },
   "outputs": [
    {
     "ename": "AttributeError",
     "evalue": "'str' object has no attribute 'expands'",
     "output_type": "error",
     "traceback": [
      "\u001b[1;31m---------------------------------------------------------------------------\u001b[0m",
      "\u001b[1;31mAttributeError\u001b[0m                            Traceback (most recent call last)",
      "Cell \u001b[1;32mIn[113], line 1\u001b[0m\n\u001b[1;32m----> 1\u001b[0m \u001b[38;5;124m\"\u001b[39m\u001b[38;5;124mAditya\u001b[39m\u001b[38;5;130;01m\\n\u001b[39;00m\u001b[38;5;124mGupta\u001b[39m\u001b[38;5;124m\"\u001b[39m\u001b[38;5;241m.\u001b[39mexpands()\n",
      "\u001b[1;31mAttributeError\u001b[0m: 'str' object has no attribute 'expands'"
     ]
    }
   ],
   "source": [
    "\"Aditya\\nGupta\".expands()"
   ]
  },
  {
   "cell_type": "code",
   "execution_count": 115,
   "id": "dde927d5-85df-4081-9d0e-dbaec475ad3a",
   "metadata": {
    "tags": []
   },
   "outputs": [
    {
     "data": {
      "text/plain": [
       "'Adi     gupta'"
      ]
     },
     "execution_count": 115,
     "metadata": {},
     "output_type": "execute_result"
    }
   ],
   "source": [
    "\"Adi\\tgupta\".expandtabs()"
   ]
  },
  {
   "cell_type": "code",
   "execution_count": 116,
   "id": "ec03e54a-f54a-44db-8e27-7a762b008b33",
   "metadata": {
    "tags": []
   },
   "outputs": [],
   "source": [
    "a=\"    aditya     gupta \""
   ]
  },
  {
   "cell_type": "code",
   "execution_count": 120,
   "id": "becda0eb-7e5c-401f-9f7f-15944c971336",
   "metadata": {
    "tags": []
   },
   "outputs": [],
   "source": [
    "b=a.strip(\" \")                                      #agar dono side se hatana ho space tab"
   ]
  },
  {
   "cell_type": "code",
   "execution_count": 121,
   "id": "60ec7f1c-e0fa-48b2-83ac-470b259ee946",
   "metadata": {
    "tags": []
   },
   "outputs": [
    {
     "data": {
      "text/plain": [
       "'aditya     gupta'"
      ]
     },
     "execution_count": 121,
     "metadata": {},
     "output_type": "execute_result"
    }
   ],
   "source": [
    "b"
   ]
  },
  {
   "cell_type": "code",
   "execution_count": 147,
   "id": "8521d9bb-fe60-44d5-9503-47995a4d3abd",
   "metadata": {
    "tags": []
   },
   "outputs": [],
   "source": [
    "a=\"skcbjdshcb  cvjknhf kvnhbkh......csng        dcndknu,dcmmmmmmdncndbcg  Aditya  \""
   ]
  },
  {
   "cell_type": "code",
   "execution_count": 148,
   "id": "6d2455a0-8e4d-451a-bee9-8c22f0fb5efd",
   "metadata": {
    "tags": []
   },
   "outputs": [],
   "source": [
    "b=a.strip(\"m.skv,cbjdfkh\")                                                             #confusing"
   ]
  },
  {
   "cell_type": "code",
   "execution_count": 149,
   "id": "32ffd724-eab3-4245-b293-920c74c30e56",
   "metadata": {
    "tags": []
   },
   "outputs": [
    {
     "data": {
      "text/plain": [
       "'  cvjknhf kvnhbkh......csng        dcndknu,dcmmmmmmdncndbcg  Aditya  '"
      ]
     },
     "execution_count": 149,
     "metadata": {},
     "output_type": "execute_result"
    }
   ],
   "source": [
    "b"
   ]
  },
  {
   "cell_type": "code",
   "execution_count": 151,
   "id": "63d379dd-8142-4de1-9f12-2259ec921ab9",
   "metadata": {
    "tags": []
   },
   "outputs": [],
   "source": [
    "a=\"Adi\""
   ]
  },
  {
   "cell_type": "code",
   "execution_count": 159,
   "id": "e7613953-8483-41a4-96b2-d7e841ea9b97",
   "metadata": {
    "tags": []
   },
   "outputs": [
    {
     "data": {
      "text/plain": [
       "'****Adi****'"
      ]
     },
     "execution_count": 159,
     "metadata": {},
     "output_type": "execute_result"
    }
   ],
   "source": [
    "a.center(11,'*')"
   ]
  },
  {
   "cell_type": "code",
   "execution_count": 160,
   "id": "d5134197-fd81-4d49-8292-4ed80a73683e",
   "metadata": {
    "tags": []
   },
   "outputs": [
    {
     "data": {
      "text/plain": [
       "False"
      ]
     },
     "execution_count": 160,
     "metadata": {},
     "output_type": "execute_result"
    }
   ],
   "source": [
    "\"Aditya\".isupper()"
   ]
  },
  {
   "cell_type": "code",
   "execution_count": 161,
   "id": "2f995933-df82-4493-a5f2-e4c2cc5a32fc",
   "metadata": {
    "tags": []
   },
   "outputs": [
    {
     "data": {
      "text/plain": [
       "True"
      ]
     },
     "execution_count": 161,
     "metadata": {},
     "output_type": "execute_result"
    }
   ],
   "source": [
    "\"ADITYA\".isupper()"
   ]
  },
  {
   "cell_type": "code",
   "execution_count": 164,
   "id": "fa6cc1df-9c7d-443a-9b75-638e5fe2c835",
   "metadata": {
    "tags": []
   },
   "outputs": [
    {
     "data": {
      "text/plain": [
       "True"
      ]
     },
     "execution_count": 164,
     "metadata": {},
     "output_type": "execute_result"
    }
   ],
   "source": [
    "\"  \".isspace()"
   ]
  },
  {
   "cell_type": "code",
   "execution_count": 165,
   "id": "6b6334c3-5626-4e39-9dbe-6ed59bc36490",
   "metadata": {
    "tags": []
   },
   "outputs": [
    {
     "data": {
      "text/plain": [
       "False"
      ]
     },
     "execution_count": 165,
     "metadata": {},
     "output_type": "execute_result"
    }
   ],
   "source": [
    "\" Ad k\".isspace()"
   ]
  },
  {
   "cell_type": "code",
   "execution_count": 166,
   "id": "39c89d5a-de43-4fa1-b4c3-bcd5415dc2df",
   "metadata": {
    "tags": []
   },
   "outputs": [],
   "source": [
    "s=\"123\""
   ]
  },
  {
   "cell_type": "code",
   "execution_count": 167,
   "id": "4527afea-0c77-4328-97d4-0d5ca59a95c8",
   "metadata": {
    "tags": []
   },
   "outputs": [
    {
     "data": {
      "text/plain": [
       "True"
      ]
     },
     "execution_count": 167,
     "metadata": {},
     "output_type": "execute_result"
    }
   ],
   "source": [
    "s.isdigit()"
   ]
  },
  {
   "cell_type": "code",
   "execution_count": 168,
   "id": "5543c703-3c07-4407-ac40-34b506b692ed",
   "metadata": {
    "tags": []
   },
   "outputs": [
    {
     "data": {
      "text/plain": [
       "True"
      ]
     },
     "execution_count": 168,
     "metadata": {},
     "output_type": "execute_result"
    }
   ],
   "source": [
    "s.isalnum()"
   ]
  },
  {
   "cell_type": "code",
   "execution_count": 169,
   "id": "c2e9b6f4-168f-4a1c-b072-faa9a7f989bb",
   "metadata": {
    "tags": []
   },
   "outputs": [],
   "source": [
    "s=\"Aditya1gupta\""
   ]
  },
  {
   "cell_type": "code",
   "execution_count": 170,
   "id": "fd2b8197-9bae-4d44-86b0-c24580ede405",
   "metadata": {
    "tags": []
   },
   "outputs": [
    {
     "data": {
      "text/plain": [
       "True"
      ]
     },
     "execution_count": 170,
     "metadata": {},
     "output_type": "execute_result"
    }
   ],
   "source": [
    "s.startswith(\"A\")"
   ]
  },
  {
   "cell_type": "code",
   "execution_count": 172,
   "id": "91bc46ed-c4ca-48d4-9740-bde1e82211b6",
   "metadata": {
    "tags": []
   },
   "outputs": [
    {
     "data": {
      "text/plain": [
       "b'Aditya1gupta'"
      ]
     },
     "execution_count": 172,
     "metadata": {},
     "output_type": "execute_result"
    }
   ],
   "source": [
    "s.encode()               #binary me converted hai internally aisa kuchh shayad"
   ]
  },
  {
   "cell_type": "code",
   "execution_count": 173,
   "id": "c4586879-50a5-40dd-adac-14240d809102",
   "metadata": {
    "tags": []
   },
   "outputs": [],
   "source": [
    "a=2+3j"
   ]
  },
  {
   "cell_type": "code",
   "execution_count": 174,
   "id": "64884325-1358-42a9-a7a0-53c0be144a78",
   "metadata": {
    "tags": []
   },
   "outputs": [
    {
     "ename": "TypeError",
     "evalue": "'float' object is not callable",
     "output_type": "error",
     "traceback": [
      "\u001b[1;31m---------------------------------------------------------------------------\u001b[0m",
      "\u001b[1;31mTypeError\u001b[0m                                 Traceback (most recent call last)",
      "Cell \u001b[1;32mIn[174], line 1\u001b[0m\n\u001b[1;32m----> 1\u001b[0m a\u001b[38;5;241m.\u001b[39mimag()\n",
      "\u001b[1;31mTypeError\u001b[0m: 'float' object is not callable"
     ]
    }
   ],
   "source": [
    "a.imag()"
   ]
  },
  {
   "cell_type": "code",
   "execution_count": 175,
   "id": "9fcbc7c6-ad86-4e3f-a024-5a2c7a0e60d5",
   "metadata": {
    "tags": []
   },
   "outputs": [
    {
     "ename": "AttributeError",
     "evalue": "'complex' object has no attribute 'img'",
     "output_type": "error",
     "traceback": [
      "\u001b[1;31m---------------------------------------------------------------------------\u001b[0m",
      "\u001b[1;31mAttributeError\u001b[0m                            Traceback (most recent call last)",
      "Cell \u001b[1;32mIn[175], line 1\u001b[0m\n\u001b[1;32m----> 1\u001b[0m a\u001b[38;5;241m.\u001b[39mimg()\n",
      "\u001b[1;31mAttributeError\u001b[0m: 'complex' object has no attribute 'img'"
     ]
    }
   ],
   "source": [
    "a.img()"
   ]
  },
  {
   "cell_type": "code",
   "execution_count": 176,
   "id": "e50f7b87-6697-48d8-89f6-a12baafa1441",
   "metadata": {
    "tags": []
   },
   "outputs": [
    {
     "data": {
      "text/plain": [
       "3.0"
      ]
     },
     "execution_count": 176,
     "metadata": {},
     "output_type": "execute_result"
    }
   ],
   "source": [
    "a.imag"
   ]
  },
  {
   "cell_type": "code",
   "execution_count": 177,
   "id": "6e2ef850-4c5d-464b-90f5-9075e7e9d65b",
   "metadata": {
    "tags": []
   },
   "outputs": [
    {
     "data": {
      "text/plain": [
       "2.0"
      ]
     },
     "execution_count": 177,
     "metadata": {},
     "output_type": "execute_result"
    }
   ],
   "source": [
    "a.real"
   ]
  },
  {
   "cell_type": "code",
   "execution_count": 178,
   "id": "cb63eef2-8ae8-41dd-88d9-5781c4697895",
   "metadata": {
    "tags": []
   },
   "outputs": [],
   "source": [
    "l=[\"Afdfxs\",\"jsh\",\"aaaaaa\"]"
   ]
  },
  {
   "cell_type": "code",
   "execution_count": 180,
   "id": "2a66a5cc-6d10-4c49-8480-443508ff91db",
   "metadata": {
    "tags": []
   },
   "outputs": [],
   "source": [
    "l.reverse()"
   ]
  },
  {
   "cell_type": "code",
   "execution_count": 181,
   "id": "dba99a78-4735-46cf-b388-9d2c6d2db980",
   "metadata": {
    "tags": []
   },
   "outputs": [
    {
     "data": {
      "text/plain": [
       "['aaaaaa', 'jsh', 'Afdfxs']"
      ]
     },
     "execution_count": 181,
     "metadata": {},
     "output_type": "execute_result"
    }
   ],
   "source": [
    "l"
   ]
  },
  {
   "cell_type": "code",
   "execution_count": 182,
   "id": "343cf125-9d74-4323-8802-1ef453b9c69f",
   "metadata": {
    "tags": []
   },
   "outputs": [
    {
     "data": {
      "text/plain": [
       "'Afdfxs'"
      ]
     },
     "execution_count": 182,
     "metadata": {},
     "output_type": "execute_result"
    }
   ],
   "source": [
    "l[2]"
   ]
  },
  {
   "cell_type": "code",
   "execution_count": 183,
   "id": "62b7d647-3261-485a-8f54-78b4d07fd297",
   "metadata": {
    "tags": []
   },
   "outputs": [],
   "source": [
    "l[2]=5"
   ]
  },
  {
   "cell_type": "code",
   "execution_count": 184,
   "id": "0ead6b7f-7004-4a37-8c66-a649b4f3d1dd",
   "metadata": {
    "tags": []
   },
   "outputs": [
    {
     "data": {
      "text/plain": [
       "['aaaaaa', 'jsh', 5]"
      ]
     },
     "execution_count": 184,
     "metadata": {},
     "output_type": "execute_result"
    }
   ],
   "source": [
    "l"
   ]
  },
  {
   "cell_type": "code",
   "execution_count": 189,
   "id": "96d1451b-5dba-473b-a7d9-e574f9f0dd4a",
   "metadata": {
    "tags": []
   },
   "outputs": [
    {
     "data": {
      "text/plain": [
       "True"
      ]
     },
     "execution_count": 189,
     "metadata": {},
     "output_type": "execute_result"
    }
   ],
   "source": [
    "5 in l                                #important   #membership operation"
   ]
  },
  {
   "cell_type": "code",
   "execution_count": 190,
   "id": "4e3ed682-56e7-494e-8575-ead4a7796094",
   "metadata": {
    "tags": []
   },
   "outputs": [
    {
     "data": {
      "text/plain": [
       "5"
      ]
     },
     "execution_count": 190,
     "metadata": {},
     "output_type": "execute_result"
    }
   ],
   "source": [
    "l[2]"
   ]
  },
  {
   "cell_type": "code",
   "execution_count": 191,
   "id": "9d663b94-39c2-4713-8831-b8700ff85694",
   "metadata": {
    "tags": []
   },
   "outputs": [
    {
     "data": {
      "text/plain": [
       "int"
      ]
     },
     "execution_count": 191,
     "metadata": {},
     "output_type": "execute_result"
    }
   ],
   "source": [
    "type(l[2])"
   ]
  },
  {
   "cell_type": "code",
   "execution_count": 197,
   "id": "8de9ff55-4bf0-4db8-8618-2e16bb62f8bc",
   "metadata": {
    "tags": []
   },
   "outputs": [],
   "source": [
    "l.append(\"Adi\")                #append, pop"
   ]
  },
  {
   "cell_type": "code",
   "execution_count": 194,
   "id": "4b7f0a82-4312-4619-b888-53787e894aa5",
   "metadata": {
    "tags": []
   },
   "outputs": [
    {
     "data": {
      "text/plain": [
       "['aaaaaa', 'jsh', 5, 'Adi']"
      ]
     },
     "execution_count": 194,
     "metadata": {},
     "output_type": "execute_result"
    }
   ],
   "source": [
    "l"
   ]
  },
  {
   "cell_type": "code",
   "execution_count": 195,
   "id": "cebdfeb3-5bf8-4852-895f-def00c761c51",
   "metadata": {
    "tags": []
   },
   "outputs": [
    {
     "data": {
      "text/plain": [
       "'Adi'"
      ]
     },
     "execution_count": 195,
     "metadata": {},
     "output_type": "execute_result"
    }
   ],
   "source": [
    "l.pop()"
   ]
  },
  {
   "cell_type": "code",
   "execution_count": 196,
   "id": "95b036f4-01c1-43c2-9ecd-14cdef825cb0",
   "metadata": {
    "tags": []
   },
   "outputs": [
    {
     "data": {
      "text/plain": [
       "['aaaaaa', 'jsh', 5]"
      ]
     },
     "execution_count": 196,
     "metadata": {},
     "output_type": "execute_result"
    }
   ],
   "source": [
    "l"
   ]
  },
  {
   "cell_type": "code",
   "execution_count": 198,
   "id": "ba17f34e-d38e-4171-9d2d-48beed277c94",
   "metadata": {
    "tags": []
   },
   "outputs": [
    {
     "data": {
      "text/plain": [
       "'jsh'"
      ]
     },
     "execution_count": 198,
     "metadata": {},
     "output_type": "execute_result"
    }
   ],
   "source": [
    "l.pop(1)"
   ]
  },
  {
   "cell_type": "code",
   "execution_count": 199,
   "id": "983b58bb-970a-4f5d-9671-d260c5e8e723",
   "metadata": {
    "tags": []
   },
   "outputs": [
    {
     "data": {
      "text/plain": [
       "['aaaaaa', 5, 'Adi']"
      ]
     },
     "execution_count": 199,
     "metadata": {},
     "output_type": "execute_result"
    }
   ],
   "source": [
    "l"
   ]
  },
  {
   "cell_type": "code",
   "execution_count": 201,
   "id": "b8d4a386-d264-4ff2-834a-f80a26d9b181",
   "metadata": {
    "tags": []
   },
   "outputs": [],
   "source": [
    "l=[\"Adi\" ,\"Gupta\" , \"A\" , 123 , 5+8j ,\"Adi\" , \"Gupta\",34,24]"
   ]
  },
  {
   "cell_type": "code",
   "execution_count": 202,
   "id": "fc770ca2-2167-4a78-8e39-45758da77f86",
   "metadata": {
    "tags": []
   },
   "outputs": [
    {
     "data": {
      "text/plain": [
       "24"
      ]
     },
     "execution_count": 202,
     "metadata": {},
     "output_type": "execute_result"
    }
   ],
   "source": [
    "l.pop()"
   ]
  },
  {
   "cell_type": "code",
   "execution_count": 203,
   "id": "4fbf2cbd-d99d-4379-bef4-1475c4dbb945",
   "metadata": {
    "tags": []
   },
   "outputs": [
    {
     "data": {
      "text/plain": [
       "['Adi', 'Gupta', 'A', 123, (5+8j), 'Adi', 'Gupta', 34]"
      ]
     },
     "execution_count": 203,
     "metadata": {},
     "output_type": "execute_result"
    }
   ],
   "source": [
    "l"
   ]
  },
  {
   "cell_type": "code",
   "execution_count": 204,
   "id": "4aa7f81d-5772-48df-9592-3a889477fd4b",
   "metadata": {
    "tags": []
   },
   "outputs": [
    {
     "data": {
      "text/plain": [
       "34"
      ]
     },
     "execution_count": 204,
     "metadata": {},
     "output_type": "execute_result"
    }
   ],
   "source": [
    "l.pop()"
   ]
  },
  {
   "cell_type": "code",
   "execution_count": 205,
   "id": "31a89905-ca9f-466a-9e96-2ed610aa631d",
   "metadata": {
    "tags": []
   },
   "outputs": [
    {
     "data": {
      "text/plain": [
       "['Adi', 'Gupta', 'A', 123, (5+8j), 'Adi', 'Gupta']"
      ]
     },
     "execution_count": 205,
     "metadata": {},
     "output_type": "execute_result"
    }
   ],
   "source": [
    "l"
   ]
  },
  {
   "cell_type": "code",
   "execution_count": 206,
   "id": "df9530d3-802c-42f3-abf2-97833e2207de",
   "metadata": {
    "tags": []
   },
   "outputs": [
    {
     "data": {
      "text/plain": [
       "'A'"
      ]
     },
     "execution_count": 206,
     "metadata": {},
     "output_type": "execute_result"
    }
   ],
   "source": [
    "l.pop(2)"
   ]
  },
  {
   "cell_type": "code",
   "execution_count": 207,
   "id": "ecf2dcc6-79e8-4248-b575-677cf751cf08",
   "metadata": {
    "tags": []
   },
   "outputs": [
    {
     "data": {
      "text/plain": [
       "['Adi', 'Gupta', 123, (5+8j), 'Adi', 'Gupta']"
      ]
     },
     "execution_count": 207,
     "metadata": {},
     "output_type": "execute_result"
    }
   ],
   "source": [
    "l"
   ]
  },
  {
   "cell_type": "code",
   "execution_count": 208,
   "id": "47bdfc43-5f0b-419e-a3af-80707cf241a0",
   "metadata": {
    "tags": []
   },
   "outputs": [],
   "source": [
    "l.remove(123)"
   ]
  },
  {
   "cell_type": "code",
   "execution_count": 209,
   "id": "d931a147-c12d-4e7e-b164-db6c2a07b63a",
   "metadata": {
    "tags": []
   },
   "outputs": [
    {
     "data": {
      "text/plain": [
       "['Adi', 'Gupta', (5+8j), 'Adi', 'Gupta']"
      ]
     },
     "execution_count": 209,
     "metadata": {},
     "output_type": "execute_result"
    }
   ],
   "source": [
    "l"
   ]
  },
  {
   "cell_type": "code",
   "execution_count": 210,
   "id": "0b0c81b7-507d-408c-bba8-70820f06eb9c",
   "metadata": {
    "tags": []
   },
   "outputs": [
    {
     "data": {
      "text/plain": [
       "1"
      ]
     },
     "execution_count": 210,
     "metadata": {},
     "output_type": "execute_result"
    }
   ],
   "source": [
    "l.index(\"Gupta\")"
   ]
  },
  {
   "cell_type": "code",
   "execution_count": 211,
   "id": "3ff9c04a-f281-491e-85a5-c82a31bd3ae4",
   "metadata": {
    "tags": []
   },
   "outputs": [],
   "source": [
    "l=[1,5,2,8,9,6,8,5,3,2]"
   ]
  },
  {
   "cell_type": "code",
   "execution_count": 212,
   "id": "93dfbb40-9897-49b1-a6b8-f04b58e6486b",
   "metadata": {
    "tags": []
   },
   "outputs": [],
   "source": [
    "l.sort()"
   ]
  },
  {
   "cell_type": "code",
   "execution_count": 213,
   "id": "b3e31ee4-bb18-4fd4-8128-a5018df93b05",
   "metadata": {
    "tags": []
   },
   "outputs": [
    {
     "data": {
      "text/plain": [
       "[1, 2, 2, 3, 5, 5, 6, 8, 8, 9]"
      ]
     },
     "execution_count": 213,
     "metadata": {},
     "output_type": "execute_result"
    }
   ],
   "source": [
    "l"
   ]
  },
  {
   "cell_type": "code",
   "execution_count": 214,
   "id": "94673477-f055-439c-879b-5ccc2c534452",
   "metadata": {
    "tags": []
   },
   "outputs": [],
   "source": [
    "l.clear()"
   ]
  },
  {
   "cell_type": "code",
   "execution_count": 215,
   "id": "bd2371c1-cebf-43da-9ea0-5512aaaa3b89",
   "metadata": {
    "tags": []
   },
   "outputs": [
    {
     "data": {
      "text/plain": [
       "[]"
      ]
     },
     "execution_count": 215,
     "metadata": {},
     "output_type": "execute_result"
    }
   ],
   "source": [
    "l"
   ]
  },
  {
   "cell_type": "code",
   "execution_count": 216,
   "id": "d9cce15a-367f-4667-a92a-c88197e6e4fb",
   "metadata": {
    "tags": []
   },
   "outputs": [],
   "source": [
    "l=[1,5,2,8,9,6,8,5,3,2]"
   ]
  },
  {
   "cell_type": "code",
   "execution_count": 217,
   "id": "b30ee728-e9c2-4952-b535-4a47552e03d3",
   "metadata": {
    "tags": []
   },
   "outputs": [],
   "source": [
    "l.reverse()"
   ]
  },
  {
   "cell_type": "code",
   "execution_count": 218,
   "id": "9e6458fd-c470-4b99-b576-120569547c15",
   "metadata": {
    "tags": []
   },
   "outputs": [
    {
     "data": {
      "text/plain": [
       "[2, 3, 5, 8, 6, 9, 8, 2, 5, 1]"
      ]
     },
     "execution_count": 218,
     "metadata": {},
     "output_type": "execute_result"
    }
   ],
   "source": [
    "l"
   ]
  },
  {
   "cell_type": "code",
   "execution_count": 219,
   "id": "4cfb8ee3-f7e5-47fd-aae0-e74e91579755",
   "metadata": {
    "tags": []
   },
   "outputs": [
    {
     "data": {
      "text/plain": [
       "1"
      ]
     },
     "execution_count": 219,
     "metadata": {},
     "output_type": "execute_result"
    }
   ],
   "source": [
    "l.index(3)"
   ]
  },
  {
   "cell_type": "code",
   "execution_count": 220,
   "id": "e82abfd7-c89b-4e65-bc13-cb91ef054505",
   "metadata": {
    "tags": []
   },
   "outputs": [],
   "source": [
    "list=\"Aditya\""
   ]
  },
  {
   "cell_type": "code",
   "execution_count": 221,
   "id": "aec3bc91-a84f-47e1-b81f-7a2afc9db777",
   "metadata": {
    "tags": []
   },
   "outputs": [
    {
     "data": {
      "text/plain": [
       "'Aditya'"
      ]
     },
     "execution_count": 221,
     "metadata": {},
     "output_type": "execute_result"
    }
   ],
   "source": [
    "list"
   ]
  },
  {
   "cell_type": "code",
   "execution_count": 237,
   "id": "f8b1deb9-5a3f-4309-89f5-a327e693dee4",
   "metadata": {
    "tags": []
   },
   "outputs": [
    {
     "ename": "TypeError",
     "evalue": "'str' object is not callable",
     "output_type": "error",
     "traceback": [
      "\u001b[1;31m---------------------------------------------------------------------------\u001b[0m",
      "\u001b[1;31mTypeError\u001b[0m                                 Traceback (most recent call last)",
      "Cell \u001b[1;32mIn[237], line 1\u001b[0m\n\u001b[1;32m----> 1\u001b[0m \u001b[38;5;28mlist\u001b[39m(\u001b[38;5;124m\"\u001b[39m\u001b[38;5;124mAdityag\u001b[39m\u001b[38;5;124m\"\u001b[39m)\n",
      "\u001b[1;31mTypeError\u001b[0m: 'str' object is not callable"
     ]
    }
   ],
   "source": [
    "list(\"Adityag\")"
   ]
  },
  {
   "cell_type": "code",
   "execution_count": 224,
   "id": "67158bf9-c7ec-46c7-992d-2e0704c90d2f",
   "metadata": {
    "tags": []
   },
   "outputs": [
    {
     "ename": "TypeError",
     "evalue": "'str' object is not callable",
     "output_type": "error",
     "traceback": [
      "\u001b[1;31m---------------------------------------------------------------------------\u001b[0m",
      "\u001b[1;31mTypeError\u001b[0m                                 Traceback (most recent call last)",
      "Cell \u001b[1;32mIn[224], line 1\u001b[0m\n\u001b[1;32m----> 1\u001b[0m \u001b[38;5;28mlist\u001b[39m(\u001b[38;5;124m\"\u001b[39m\u001b[38;5;124msudh\u001b[39m\u001b[38;5;124m\"\u001b[39m)\n",
      "\u001b[1;31mTypeError\u001b[0m: 'str' object is not callable"
     ]
    }
   ],
   "source": [
    "list(\"sudh\")"
   ]
  },
  {
   "cell_type": "code",
   "execution_count": 225,
   "id": "7905dd37-7701-4227-86f0-6d535fc315cd",
   "metadata": {
    "tags": []
   },
   "outputs": [
    {
     "ename": "TypeError",
     "evalue": "can only concatenate list (not \"str\") to list",
     "output_type": "error",
     "traceback": [
      "\u001b[1;31m---------------------------------------------------------------------------\u001b[0m",
      "\u001b[1;31mTypeError\u001b[0m                                 Traceback (most recent call last)",
      "Cell \u001b[1;32mIn[225], line 1\u001b[0m\n\u001b[1;32m----> 1\u001b[0m l\u001b[38;5;241m+\u001b[39m\u001b[38;5;124m\"\u001b[39m\u001b[38;5;124mAd\u001b[39m\u001b[38;5;124m\"\u001b[39m\n",
      "\u001b[1;31mTypeError\u001b[0m: can only concatenate list (not \"str\") to list"
     ]
    }
   ],
   "source": [
    "l+\"Ad\""
   ]
  },
  {
   "cell_type": "code",
   "execution_count": 226,
   "id": "88036ffe-19c6-4aab-a97a-488be48d9136",
   "metadata": {
    "tags": []
   },
   "outputs": [
    {
     "data": {
      "text/plain": [
       "[2, 3, 5, 8, 6, 9, 8, 2, 5, 1, 'Adi']"
      ]
     },
     "execution_count": 226,
     "metadata": {},
     "output_type": "execute_result"
    }
   ],
   "source": [
    "l+[\"Adi\"]"
   ]
  },
  {
   "cell_type": "code",
   "execution_count": 227,
   "id": "164f2e02-04ca-48a2-a2d5-5613619cb09c",
   "metadata": {
    "tags": []
   },
   "outputs": [],
   "source": [
    "l=[4,5,6,6]"
   ]
  },
  {
   "cell_type": "code",
   "execution_count": 228,
   "id": "2b83c187-8947-4407-95b6-d064886135fd",
   "metadata": {
    "tags": []
   },
   "outputs": [
    {
     "data": {
      "text/plain": [
       "[4, 5, 6, 6, 'ad']"
      ]
     },
     "execution_count": 228,
     "metadata": {},
     "output_type": "execute_result"
    }
   ],
   "source": [
    "l+[\"ad\"]"
   ]
  },
  {
   "cell_type": "code",
   "execution_count": 229,
   "id": "91d5d8e7-2465-43cd-a6ac-488b50125ef1",
   "metadata": {
    "tags": []
   },
   "outputs": [
    {
     "ename": "TypeError",
     "evalue": "insert expected 2 arguments, got 1",
     "output_type": "error",
     "traceback": [
      "\u001b[1;31m---------------------------------------------------------------------------\u001b[0m",
      "\u001b[1;31mTypeError\u001b[0m                                 Traceback (most recent call last)",
      "Cell \u001b[1;32mIn[229], line 1\u001b[0m\n\u001b[1;32m----> 1\u001b[0m l\u001b[38;5;241m.\u001b[39minsert(\u001b[38;5;124m\"\u001b[39m\u001b[38;5;124mAdddd\u001b[39m\u001b[38;5;124m\"\u001b[39m)\n",
      "\u001b[1;31mTypeError\u001b[0m: insert expected 2 arguments, got 1"
     ]
    }
   ],
   "source": [
    "l.insert(\"Adddd\")"
   ]
  },
  {
   "cell_type": "code",
   "execution_count": 230,
   "id": "3c889e31-a43a-4e1e-b2c3-3679a1e93e09",
   "metadata": {
    "tags": []
   },
   "outputs": [],
   "source": [
    "l.insert(-2,\"Adddd\")"
   ]
  },
  {
   "cell_type": "code",
   "execution_count": 231,
   "id": "52f4e0f9-a46a-46b7-ae45-930e99ae9dc9",
   "metadata": {
    "tags": []
   },
   "outputs": [
    {
     "data": {
      "text/plain": [
       "[4, 5, 'Adddd', 6, 6]"
      ]
     },
     "execution_count": 231,
     "metadata": {},
     "output_type": "execute_result"
    }
   ],
   "source": [
    "l"
   ]
  },
  {
   "cell_type": "code",
   "execution_count": 232,
   "id": "96d8cbab-eb7c-4428-b3d2-c2702ff4b29c",
   "metadata": {
    "tags": []
   },
   "outputs": [],
   "source": [
    "l.insert(0,\"Adddd\")"
   ]
  },
  {
   "cell_type": "code",
   "execution_count": 233,
   "id": "bd43d8f7-abc2-4960-b264-83127e3a6fb6",
   "metadata": {
    "tags": []
   },
   "outputs": [
    {
     "data": {
      "text/plain": [
       "['Adddd', 4, 5, 'Adddd', 6, 6]"
      ]
     },
     "execution_count": 233,
     "metadata": {},
     "output_type": "execute_result"
    }
   ],
   "source": [
    "l"
   ]
  },
  {
   "cell_type": "code",
   "execution_count": 235,
   "id": "bafd17ec-27ea-4b8b-aa2b-04c23a7ae36d",
   "metadata": {
    "tags": []
   },
   "outputs": [],
   "source": [
    "l=[\"xyz\",\"sdhgy\",\"pqr\",[34,45,56,578,67],243334]"
   ]
  },
  {
   "cell_type": "code",
   "execution_count": 236,
   "id": "42e8c009-4098-4d7b-8a5f-84599c9f3567",
   "metadata": {
    "tags": []
   },
   "outputs": [
    {
     "data": {
      "text/plain": [
       "67"
      ]
     },
     "execution_count": 236,
     "metadata": {},
     "output_type": "execute_result"
    }
   ],
   "source": [
    "l[3][4]"
   ]
  },
  {
   "cell_type": "code",
   "execution_count": null,
   "id": "2f18f826-301d-43eb-8856-8928b293b5fe",
   "metadata": {},
   "outputs": [],
   "source": []
  }
 ],
 "metadata": {
  "kernelspec": {
   "display_name": "Python 3 (ipykernel)",
   "language": "python",
   "name": "python3"
  },
  "language_info": {
   "codemirror_mode": {
    "name": "ipython",
    "version": 3
   },
   "file_extension": ".py",
   "mimetype": "text/x-python",
   "name": "python",
   "nbconvert_exporter": "python",
   "pygments_lexer": "ipython3",
   "version": "3.11.5"
  }
 },
 "nbformat": 4,
 "nbformat_minor": 5
}
