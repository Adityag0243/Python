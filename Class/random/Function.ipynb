{
 "cells": [
  {
   "cell_type": "code",
   "execution_count": 1,
   "id": "5ed301fa-f07b-4078-b130-6b4a09ab84c9",
   "metadata": {
    "tags": []
   },
   "outputs": [],
   "source": [
    "def add():\n",
    "    a=10\n",
    "    b=12\n",
    "    print(a+b)"
   ]
  },
  {
   "cell_type": "code",
   "execution_count": 2,
   "id": "6ff53692-98cc-48af-b0b4-1e02eff6e675",
   "metadata": {
    "tags": []
   },
   "outputs": [
    {
     "name": "stdout",
     "output_type": "stream",
     "text": [
      "22\n"
     ]
    }
   ],
   "source": [
    "add()"
   ]
  },
  {
   "cell_type": "code",
   "execution_count": 4,
   "id": "8347fa7a-7a6a-43c3-9f46-ed1c6fbf2ce6",
   "metadata": {
    "tags": []
   },
   "outputs": [],
   "source": [
    "def add(a,b):\n",
    "    num1=a\n",
    "    num2=b\n",
    "    print(num1+num2)"
   ]
  },
  {
   "cell_type": "code",
   "execution_count": 5,
   "id": "8542d809-f368-4123-88d3-d823e2bf0cfd",
   "metadata": {
    "tags": []
   },
   "outputs": [
    {
     "ename": "TypeError",
     "evalue": "add() missing 2 required positional arguments: 'a' and 'b'",
     "output_type": "error",
     "traceback": [
      "\u001b[1;31m---------------------------------------------------------------------------\u001b[0m",
      "\u001b[1;31mTypeError\u001b[0m                                 Traceback (most recent call last)",
      "Cell \u001b[1;32mIn[5], line 1\u001b[0m\n\u001b[1;32m----> 1\u001b[0m add()\n",
      "\u001b[1;31mTypeError\u001b[0m: add() missing 2 required positional arguments: 'a' and 'b'"
     ]
    }
   ],
   "source": [
    "add()"
   ]
  },
  {
   "cell_type": "code",
   "execution_count": 6,
   "id": "5893e27a-4ee3-48ca-94b2-8f047a3959fe",
   "metadata": {
    "tags": []
   },
   "outputs": [
    {
     "name": "stdout",
     "output_type": "stream",
     "text": [
      "7\n"
     ]
    }
   ],
   "source": [
    "add(3,4)"
   ]
  },
  {
   "cell_type": "code",
   "execution_count": 10,
   "id": "aef899b9-5c7c-40a6-ae90-b1c18d866ccd",
   "metadata": {
    "tags": []
   },
   "outputs": [],
   "source": [
    "def Area_of_circle(r):\n",
    "    radius=r\n",
    "    print(\"Area of circle is : \", 3.14*radius*radius)"
   ]
  },
  {
   "cell_type": "code",
   "execution_count": 11,
   "id": "c16d334e-84ea-4cdf-986a-1b70c0e32e43",
   "metadata": {
    "tags": []
   },
   "outputs": [
    {
     "name": "stdout",
     "output_type": "stream",
     "text": [
      "Area of circle is :  78.5\n"
     ]
    }
   ],
   "source": [
    "Area_of_circle(5)"
   ]
  },
  {
   "cell_type": "code",
   "execution_count": 12,
   "id": "b3059a7f-c44b-4976-8440-06ca7e63cf92",
   "metadata": {
    "tags": []
   },
   "outputs": [],
   "source": [
    "def add(a,b):\n",
    "    print(a+b)"
   ]
  },
  {
   "cell_type": "code",
   "execution_count": 13,
   "id": "e61dcaa7-ffc4-4710-9e64-2e246e05e703",
   "metadata": {
    "tags": []
   },
   "outputs": [
    {
     "name": "stdout",
     "output_type": "stream",
     "text": [
      "9\n"
     ]
    }
   ],
   "source": [
    "add(4,5)"
   ]
  },
  {
   "cell_type": "code",
   "execution_count": 20,
   "id": "a6f3fa66-ed55-49e2-be51-e4a189843aab",
   "metadata": {
    "tags": []
   },
   "outputs": [],
   "source": [
    "def call():\n",
    "    print(\"Enter \")\n",
    "\n",
    "\n",
    "def calc(s,a,b):\n",
    "    if(s==\"Add\" or s==\"add\"):\n",
    "        print(\"Addition is: \",a+b)\n",
    "    if(s==\"Sub\" or s==\"sub\"):\n",
    "        print(\"Subtraction is: \",a-b)\n",
    "    if(s==\"Multiply\" or s==\"multiply\"):\n",
    "        print(\"Multiplication is : \",a*b)\n",
    "    if(s==\"Divide\" or s==\"divide\"):\n",
    "        print(\"Division is: \",a/b)\n",
    "        \n"
   ]
  },
  {
   "cell_type": "code",
   "execution_count": 18,
   "id": "10af2c10-16eb-46e6-af05-b55fc68cb2fd",
   "metadata": {
    "tags": []
   },
   "outputs": [
    {
     "name": "stdout",
     "output_type": "stream",
     "text": [
      "Addition is:  9\n"
     ]
    }
   ],
   "source": [
    "calc(\"add\",4,5)"
   ]
  },
  {
   "cell_type": "code",
   "execution_count": 26,
   "id": "3776009a-b77a-4b57-9e28-a9dbfaa9f742",
   "metadata": {
    "tags": []
   },
   "outputs": [],
   "source": [
    "def functn(a,b):\n",
    "    res1=a+b\n",
    "    res2=a*b\n",
    "    return res1,res2"
   ]
  },
  {
   "cell_type": "code",
   "execution_count": 27,
   "id": "1b6a1c0f-a582-4f23-8525-c792d9ca6cab",
   "metadata": {
    "tags": []
   },
   "outputs": [
    {
     "data": {
      "text/plain": [
       "(11, 28)"
      ]
     },
     "execution_count": 27,
     "metadata": {},
     "output_type": "execute_result"
    }
   ],
   "source": [
    "functn(4,7)"
   ]
  },
  {
   "cell_type": "code",
   "execution_count": 28,
   "id": "2febe266-2e36-4d80-932c-2c85e6db90d7",
   "metadata": {
    "tags": []
   },
   "outputs": [
    {
     "name": "stdout",
     "output_type": "stream",
     "text": [
      "11 28\n"
     ]
    }
   ],
   "source": [
    "m,n=functn(4,7)\n",
    "print(m , n)"
   ]
  },
  {
   "cell_type": "code",
   "execution_count": 29,
   "id": "e4f4bff0-4440-486b-acfe-6c11a4222f02",
   "metadata": {
    "tags": []
   },
   "outputs": [],
   "source": [
    "def functn(a,b):\n",
    "    res1=a+b\n",
    "    res2=a*b\n",
    "    print( res1,res2)"
   ]
  },
  {
   "cell_type": "code",
   "execution_count": 30,
   "id": "7cf9f80d-dbb6-4bc1-976b-5cbd754eea4d",
   "metadata": {
    "tags": []
   },
   "outputs": [
    {
     "name": "stdout",
     "output_type": "stream",
     "text": [
      "11 28\n"
     ]
    }
   ],
   "source": [
    "functn(4,7)"
   ]
  },
  {
   "cell_type": "code",
   "execution_count": 35,
   "id": "f6270751-eae9-4a1a-9f61-33a267ff8e52",
   "metadata": {
    "tags": []
   },
   "outputs": [
    {
     "name": "stdout",
     "output_type": "stream",
     "text": [
      "11 28\n"
     ]
    },
    {
     "ename": "TypeError",
     "evalue": "cannot unpack non-iterable NoneType object",
     "output_type": "error",
     "traceback": [
      "\u001b[1;31m---------------------------------------------------------------------------\u001b[0m",
      "\u001b[1;31mTypeError\u001b[0m                                 Traceback (most recent call last)",
      "Cell \u001b[1;32mIn[35], line 1\u001b[0m\n\u001b[1;32m----> 1\u001b[0m p,q\u001b[38;5;241m=\u001b[39mfunctn(\u001b[38;5;241m4\u001b[39m,\u001b[38;5;241m7\u001b[39m)\n",
      "\u001b[1;31mTypeError\u001b[0m: cannot unpack non-iterable NoneType object"
     ]
    }
   ],
   "source": [
    "p,q=functn(4,7)\n"
   ]
  },
  {
   "cell_type": "code",
   "execution_count": 36,
   "id": "967b079c-caaa-4744-ada6-27f4e5300f44",
   "metadata": {
    "tags": []
   },
   "outputs": [
    {
     "ename": "NameError",
     "evalue": "name 'p' is not defined",
     "output_type": "error",
     "traceback": [
      "\u001b[1;31m---------------------------------------------------------------------------\u001b[0m",
      "\u001b[1;31mNameError\u001b[0m                                 Traceback (most recent call last)",
      "Cell \u001b[1;32mIn[36], line 1\u001b[0m\n\u001b[1;32m----> 1\u001b[0m \u001b[38;5;28mprint\u001b[39m(p,q)\n",
      "\u001b[1;31mNameError\u001b[0m: name 'p' is not defined"
     ]
    }
   ],
   "source": [
    "print(p,q)"
   ]
  },
  {
   "cell_type": "code",
   "execution_count": 40,
   "id": "a40aa402-3912-4074-9739-3ad29cc38993",
   "metadata": {
    "tags": []
   },
   "outputs": [
    {
     "data": {
      "text/plain": [
       "int"
      ]
     },
     "execution_count": 40,
     "metadata": {},
     "output_type": "execute_result"
    }
   ],
   "source": [
    "type(m)"
   ]
  },
  {
   "cell_type": "code",
   "execution_count": 41,
   "id": "e9eb893d-0ad5-4fae-ab09-57c48b83d973",
   "metadata": {
    "tags": []
   },
   "outputs": [
    {
     "ename": "NameError",
     "evalue": "name 'p' is not defined",
     "output_type": "error",
     "traceback": [
      "\u001b[1;31m---------------------------------------------------------------------------\u001b[0m",
      "\u001b[1;31mNameError\u001b[0m                                 Traceback (most recent call last)",
      "Cell \u001b[1;32mIn[41], line 1\u001b[0m\n\u001b[1;32m----> 1\u001b[0m \u001b[38;5;28mtype\u001b[39m(p)\n",
      "\u001b[1;31mNameError\u001b[0m: name 'p' is not defined"
     ]
    }
   ],
   "source": [
    "type(p)"
   ]
  },
  {
   "cell_type": "code",
   "execution_count": 21,
   "id": "1462344f-52bc-4309-a0c6-2d1b3ff0cb72",
   "metadata": {
    "tags": []
   },
   "outputs": [],
   "source": [
    "def fact(n):\n",
    "    if n==1:\n",
    "        return 1\n",
    "    return n*fact(n-1)\n"
   ]
  },
  {
   "cell_type": "code",
   "execution_count": 22,
   "id": "f106221f-bd6c-40ae-9237-51395a4774d9",
   "metadata": {
    "tags": []
   },
   "outputs": [
    {
     "data": {
      "text/plain": [
       "120"
      ]
     },
     "execution_count": 22,
     "metadata": {},
     "output_type": "execute_result"
    }
   ],
   "source": [
    "fact(5)"
   ]
  },
  {
   "cell_type": "code",
   "execution_count": null,
   "id": "563fa647-0e4c-41de-b097-61fb0b3f1223",
   "metadata": {},
   "outputs": [],
   "source": []
  },
  {
   "cell_type": "code",
   "execution_count": 38,
   "id": "d68277c4-93ec-4fae-8dae-7ccaf80427c9",
   "metadata": {
    "tags": []
   },
   "outputs": [
    {
     "name": "stdout",
     "output_type": "stream",
     "text": [
      "my name is Aditya \n"
     ]
    }
   ],
   "source": [
    "x=\"Aditya\"\n",
    "print(f\"my name is {x} \")"
   ]
  },
  {
   "cell_type": "code",
   "execution_count": 42,
   "id": "c7db5a82-409f-4e5d-aefa-c4f316997423",
   "metadata": {
    "tags": []
   },
   "outputs": [
    {
     "name": "stdout",
     "output_type": "stream",
     "text": [
      "addition of 5 and 7 is 12\n"
     ]
    }
   ],
   "source": [
    "a=5\n",
    "b=7\n",
    "print(f\"addition of {a} and {b} is {a+b}\")"
   ]
  },
  {
   "cell_type": "code",
   "execution_count": 45,
   "id": "59197df7-c721-46de-b25f-9559b2a31ee6",
   "metadata": {
    "tags": []
   },
   "outputs": [
    {
     "name": "stdout",
     "output_type": "stream",
     "text": [
      "Addition of 20,10,30 is 60\n"
     ]
    }
   ],
   "source": [
    "print(\"Addition of {1},{0},{2} is 60\".format(10,20,30))"
   ]
  },
  {
   "cell_type": "code",
   "execution_count": null,
   "id": "76d47630-ef1f-4b64-b2aa-05b534bbb5ca",
   "metadata": {},
   "outputs": [],
   "source": []
  }
 ],
 "metadata": {
  "kernelspec": {
   "display_name": "Python 3 (ipykernel)",
   "language": "python",
   "name": "python3"
  },
  "language_info": {
   "codemirror_mode": {
    "name": "ipython",
    "version": 3
   },
   "file_extension": ".py",
   "mimetype": "text/x-python",
   "name": "python",
   "nbconvert_exporter": "python",
   "pygments_lexer": "ipython3",
   "version": "3.11.5"
  }
 },
 "nbformat": 4,
 "nbformat_minor": 5
}
