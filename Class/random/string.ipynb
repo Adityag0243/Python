{
 "cells": [
  {
   "cell_type": "code",
   "execution_count": 3,
   "id": "1d9f7e25-a675-48f9-a804-adb4e2dfd212",
   "metadata": {
    "tags": []
   },
   "outputs": [
    {
     "name": "stdout",
     "output_type": "stream",
     "text": [
      "\n",
      "hii\n",
      "\n",
      "hello\n",
      "\n"
     ]
    }
   ],
   "source": [
    "print('''\n",
    "hii\n",
    "\n",
    "hello\n",
    "''')"
   ]
  },
  {
   "cell_type": "code",
   "execution_count": 5,
   "id": "105ab89f-d84e-435a-918c-a068532c837c",
   "metadata": {
    "tags": []
   },
   "outputs": [
    {
     "name": "stdout",
     "output_type": "stream",
     "text": [
      "hello 'world'\n"
     ]
    }
   ],
   "source": [
    "print(\"hello 'world'\")"
   ]
  },
  {
   "cell_type": "code",
   "execution_count": 7,
   "id": "3322240a-d76f-4d72-9a19-312cabcc1984",
   "metadata": {
    "tags": []
   },
   "outputs": [
    {
     "name": "stdout",
     "output_type": "stream",
     "text": [
      "hello \"world\"\n"
     ]
    }
   ],
   "source": [
    "print('hello \"world\"')"
   ]
  },
  {
   "cell_type": "code",
   "execution_count": 9,
   "id": "2620d898-b0a1-491e-9710-f811a6cc3181",
   "metadata": {
    "tags": []
   },
   "outputs": [
    {
     "name": "stdout",
     "output_type": "stream",
     "text": [
      "hello world\n"
     ]
    }
   ],
   "source": [
    "print( \"hello world\")"
   ]
  },
  {
   "cell_type": "code",
   "execution_count": 15,
   "id": "a72f5746-dc82-4bf2-a0eb-bb5f600cce3e",
   "metadata": {
    "tags": []
   },
   "outputs": [],
   "source": [
    "x=\"Hello\"\n",
    "y='hello'\n",
    "z='''h\n",
    "hiiii\n",
    "'''"
   ]
  },
  {
   "cell_type": "code",
   "execution_count": 12,
   "id": "d4336d64-cb24-4164-a6eb-b7546cfe2468",
   "metadata": {
    "tags": []
   },
   "outputs": [
    {
     "ename": "SyntaxError",
     "evalue": "invalid syntax (1038844207.py, line 1)",
     "output_type": "error",
     "traceback": [
      "\u001b[1;36m  Cell \u001b[1;32mIn[12], line 1\u001b[1;36m\u001b[0m\n\u001b[1;33m    x y z\u001b[0m\n\u001b[1;37m      ^\u001b[0m\n\u001b[1;31mSyntaxError\u001b[0m\u001b[1;31m:\u001b[0m invalid syntax\n"
     ]
    }
   ],
   "source": [
    "x y z"
   ]
  },
  {
   "cell_type": "code",
   "execution_count": 22,
   "id": "710e0299-e0d8-470d-9081-02a70a925d54",
   "metadata": {
    "tags": []
   },
   "outputs": [
    {
     "name": "stdout",
     "output_type": "stream",
     "text": [
      "Hello hello h\n",
      "hiiii\n",
      "\n"
     ]
    }
   ],
   "source": [
    "print(x , y ,z)"
   ]
  },
  {
   "cell_type": "code",
   "execution_count": 20,
   "id": "6a8728be-ff28-4cd4-92eb-4caf200516a4",
   "metadata": {
    "tags": []
   },
   "outputs": [
    {
     "name": "stdout",
     "output_type": "stream",
     "text": [
      "Let's learn \"Python\"\n"
     ]
    }
   ],
   "source": [
    "print('''Let's learn \"Python\"''')"
   ]
  },
  {
   "cell_type": "markdown",
   "id": "e5021aeb-2d41-4133-8e76-5a235e5fad84",
   "metadata": {},
   "source": [
    "above question is good one          try to print Let's without using double quote\n",
    "\n"
   ]
  },
  {
   "cell_type": "code",
   "execution_count": 24,
   "id": "422f977f-c493-4e36-8720-838cba385e57",
   "metadata": {
    "tags": []
   },
   "outputs": [
    {
     "name": "stdout",
     "output_type": "stream",
     "text": [
      "Let's\n"
     ]
    }
   ],
   "source": [
    "print('Let\\'s')"
   ]
  },
  {
   "cell_type": "code",
   "execution_count": 25,
   "id": "f0dcbe62-5c81-49e9-bcfd-754334a14bf3",
   "metadata": {
    "tags": []
   },
   "outputs": [],
   "source": [
    "x=\"ADitya\""
   ]
  },
  {
   "cell_type": "raw",
   "id": "edaaaf97-ed5a-4c81-b815-fadbbd67b7de",
   "metadata": {
    "tags": []
   },
   "source": [
    "x[2]"
   ]
  },
  {
   "cell_type": "code",
   "execution_count": 28,
   "id": "357b7c25-b548-4ba9-8a88-34f736fe1b65",
   "metadata": {
    "tags": []
   },
   "outputs": [
    {
     "name": "stdout",
     "output_type": "stream",
     "text": [
      "i\n"
     ]
    }
   ],
   "source": [
    "print(x[2])"
   ]
  },
  {
   "cell_type": "code",
   "execution_count": 30,
   "id": "a438eb1f-f840-436d-809a-76bc62ff757e",
   "metadata": {
    "tags": []
   },
   "outputs": [
    {
     "data": {
      "text/plain": [
       "'t'"
      ]
     },
     "execution_count": 30,
     "metadata": {},
     "output_type": "execute_result"
    }
   ],
   "source": [
    "x[3]"
   ]
  },
  {
   "cell_type": "markdown",
   "id": "907e1458-d716-493a-89e2-e28dd9b97e06",
   "metadata": {
    "tags": []
   },
   "source": [
    "slicing\n"
   ]
  },
  {
   "cell_type": "code",
   "execution_count": 34,
   "id": "b13780f8-7939-42aa-aaf9-38fc7a34fb88",
   "metadata": {
    "tags": []
   },
   "outputs": [
    {
     "data": {
      "text/plain": [
       "'Dit'"
      ]
     },
     "execution_count": 34,
     "metadata": {},
     "output_type": "execute_result"
    }
   ],
   "source": [
    "x[1:4]"
   ]
  },
  {
   "cell_type": "code",
   "execution_count": 38,
   "id": "8f69a501-0aa3-4512-bae7-d5a53897e9fc",
   "metadata": {
    "tags": []
   },
   "outputs": [
    {
     "data": {
      "text/plain": [
       "'Aiy'"
      ]
     },
     "execution_count": 38,
     "metadata": {},
     "output_type": "execute_result"
    }
   ],
   "source": [
    "x[0:5:2]"
   ]
  },
  {
   "cell_type": "code",
   "execution_count": 40,
   "id": "81939756-e5f8-4eef-bbcb-563acf5706f3",
   "metadata": {
    "tags": []
   },
   "outputs": [],
   "source": [
    "x=\"PW Skills\""
   ]
  },
  {
   "cell_type": "code",
   "execution_count": 42,
   "id": "8cdd9c88-02f7-4c35-815a-46ade24f13b7",
   "metadata": {
    "tags": []
   },
   "outputs": [
    {
     "data": {
      "text/plain": [
       "'Skills'"
      ]
     },
     "execution_count": 42,
     "metadata": {},
     "output_type": "execute_result"
    }
   ],
   "source": [
    "x[3:]"
   ]
  },
  {
   "cell_type": "code",
   "execution_count": 45,
   "id": "fa4975d4-7e29-45f0-9c50-c45b0b97e456",
   "metadata": {
    "tags": []
   },
   "outputs": [
    {
     "data": {
      "text/plain": [
       "'PW '"
      ]
     },
     "execution_count": 45,
     "metadata": {},
     "output_type": "execute_result"
    }
   ],
   "source": [
    "x[:3]"
   ]
  },
  {
   "cell_type": "code",
   "execution_count": 1,
   "id": "c8fe9b28-5785-4802-9905-cc375364f868",
   "metadata": {
    "tags": []
   },
   "outputs": [
    {
     "ename": "NameError",
     "evalue": "name 'x' is not defined",
     "output_type": "error",
     "traceback": [
      "\u001b[1;31m---------------------------------------------------------------------------\u001b[0m",
      "\u001b[1;31mNameError\u001b[0m                                 Traceback (most recent call last)",
      "Cell \u001b[1;32mIn[1], line 1\u001b[0m\n\u001b[1;32m----> 1\u001b[0m x[\u001b[38;5;241m2\u001b[39m]\u001b[38;5;241m=\u001b[39m\u001b[38;5;124m'\u001b[39m\u001b[38;5;124mA\u001b[39m\u001b[38;5;124m'\u001b[39m\n",
      "\u001b[1;31mNameError\u001b[0m: name 'x' is not defined"
     ]
    }
   ],
   "source": [
    "x[2]='A'"
   ]
  },
  {
   "cell_type": "code",
   "execution_count": null,
   "id": "9f1b1a69-6c33-44d2-9d98-c25eb86830b7",
   "metadata": {},
   "outputs": [],
   "source": []
  }
 ],
 "metadata": {
  "kernelspec": {
   "display_name": "Python 3 (ipykernel)",
   "language": "python",
   "name": "python3"
  },
  "language_info": {
   "codemirror_mode": {
    "name": "ipython",
    "version": 3
   },
   "file_extension": ".py",
   "mimetype": "text/x-python",
   "name": "python",
   "nbconvert_exporter": "python",
   "pygments_lexer": "ipython3",
   "version": "3.11.5"
  }
 },
 "nbformat": 4,
 "nbformat_minor": 5
}
