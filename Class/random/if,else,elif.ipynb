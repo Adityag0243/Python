{
 "cells": [
  {
   "cell_type": "code",
   "execution_count": 1,
   "id": "a4462aa4-6c5e-41c8-a332-73bebad87758",
   "metadata": {
    "tags": []
   },
   "outputs": [
    {
     "name": "stdout",
     "output_type": "stream",
     "text": [
      "helllllllllllloooooooooooooooooooo\n"
     ]
    }
   ],
   "source": [
    "a=10\n",
    "if a>5:\n",
    "    print(\"helllllllllllloooooooooooooooooooo\")\n",
    "else :\n",
    "    print(\"hmmmmmm\")\n"
   ]
  },
  {
   "cell_type": "code",
   "execution_count": 4,
   "id": "0454e845-12b5-484b-a591-10e9f6fbe782",
   "metadata": {
    "tags": []
   },
   "outputs": [
    {
     "name": "stdout",
     "output_type": "stream",
     "text": [
      "hmmmmmm\n"
     ]
    }
   ],
   "source": [
    "a=12\n",
    "if a<5:\n",
    "    print(\"helllllllllllloooooooooooooooooooo\")\n",
    "elif a<15 :\n",
    "    print(\"hmmmmmm\")\n",
    "else :\n",
    "    print(\"okkkkk\")"
   ]
  },
  {
   "cell_type": "code",
   "execution_count": 5,
   "id": "8740d3f8-f58b-4693-9a70-1b8a69820d51",
   "metadata": {
    "tags": []
   },
   "outputs": [
    {
     "name": "stdin",
     "output_type": "stream",
     "text": [
      " 3453\n"
     ]
    },
    {
     "name": "stdout",
     "output_type": "stream",
     "text": [
      "I can't buy it\n"
     ]
    }
   ],
   "source": [
    "price=int(input())\n",
    "if price>2000 :\n",
    "    print(\"I can't buy it\")\n",
    "else :\n",
    "    printf(\"May be I can buy it\")"
   ]
  },
  {
   "cell_type": "code",
   "execution_count": 8,
   "id": "bd21b589-2475-4bb0-bdf8-bfddb3715825",
   "metadata": {
    "tags": []
   },
   "outputs": [
    {
     "name": "stdin",
     "output_type": "stream",
     "text": [
      "Enter string in s:  Aditya\n"
     ]
    },
    {
     "name": "stdout",
     "output_type": "stream",
     "text": [
      "Aditya Gupta\n",
      "AdityaAditya\n"
     ]
    }
   ],
   "source": [
    "s=input(\"Enter string in s: \")\n",
    "if s==\"Aditya\" :\n",
    "    print(s+\" Gupta\")\n",
    "    print(s*2)"
   ]
  },
  {
   "cell_type": "code",
   "execution_count": 7,
   "id": "6ac2e19e-f859-4f32-bf9c-e9123050ca60",
   "metadata": {
    "tags": []
   },
   "outputs": [
    {
     "data": {
      "text/plain": [
       "'Aditya'"
      ]
     },
     "execution_count": 7,
     "metadata": {},
     "output_type": "execute_result"
    }
   ],
   "source": [
    "s"
   ]
  },
  {
   "cell_type": "code",
   "execution_count": 9,
   "id": "2c5c01ce-9363-42ff-8def-efba7f7b169b",
   "metadata": {
    "tags": []
   },
   "outputs": [
    {
     "name": "stdout",
     "output_type": "stream",
     "text": [
      "AAAAAAAAAAAa\n"
     ]
    }
   ],
   "source": [
    "a=15\n",
    "if a<10 :\n",
    "    print(\"less than 10\")\n",
    "elif a>10 and a<20 :\n",
    "    print(\"AAAAAAAAAAAa\")"
   ]
  },
  {
   "cell_type": "code",
   "execution_count": null,
   "id": "5814caab-dc75-4f69-99c6-5122571e1317",
   "metadata": {},
   "outputs": [],
   "source": []
  }
 ],
 "metadata": {
  "kernelspec": {
   "display_name": "Python 3 (ipykernel)",
   "language": "python",
   "name": "python3"
  },
  "language_info": {
   "codemirror_mode": {
    "name": "ipython",
    "version": 3
   },
   "file_extension": ".py",
   "mimetype": "text/x-python",
   "name": "python",
   "nbconvert_exporter": "python",
   "pygments_lexer": "ipython3",
   "version": "3.11.5"
  }
 },
 "nbformat": 4,
 "nbformat_minor": 5
}
