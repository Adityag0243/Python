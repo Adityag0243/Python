{
 "cells": [
  {
   "cell_type": "code",
   "execution_count": 2,
   "id": "0a72c0d2-d024-4fa7-9a74-8e987e4dbcf1",
   "metadata": {
    "tags": []
   },
   "outputs": [
    {
     "name": "stdout",
     "output_type": "stream",
     "text": [
      "hiii\n",
      "None\n"
     ]
    }
   ],
   "source": [
    "print(print(\"hiii\"))"
   ]
  },
  {
   "cell_type": "code",
   "execution_count": 4,
   "id": "6bfcabe8-1ea1-4937-9644-3e66ebe6c8bb",
   "metadata": {
    "tags": []
   },
   "outputs": [
    {
     "name": "stdout",
     "output_type": "stream",
     "text": [
      "hii\n",
      "hii\n",
      "hii\n",
      "hii\n"
     ]
    }
   ],
   "source": [
    "print(\"hii\")\n",
    "print(\"hii\")\n",
    "print(\"hii\")\n",
    "print(\"hii\")"
   ]
  },
  {
   "cell_type": "code",
   "execution_count": 7,
   "id": "e0b90033-0568-4b7d-8a09-37007a005238",
   "metadata": {
    "tags": []
   },
   "outputs": [
    {
     "name": "stdout",
     "output_type": "stream",
     "text": [
      "*\n",
      "**\n",
      "***\n",
      "****\n"
     ]
    }
   ],
   "source": [
    "print(\"*\")\n",
    "print(\"**\")\n",
    "print(\"***\")\n",
    "print(\"****\")"
   ]
  },
  {
   "cell_type": "code",
   "execution_count": 9,
   "id": "0707d4eb-a675-4ba1-9821-5cc231d5f9d7",
   "metadata": {
    "tags": []
   },
   "outputs": [
    {
     "name": "stdin",
     "output_type": "stream",
     "text": [
      " 1\n"
     ]
    },
    {
     "data": {
      "text/plain": [
       "'1'"
      ]
     },
     "execution_count": 9,
     "metadata": {},
     "output_type": "execute_result"
    }
   ],
   "source": [
    "input()"
   ]
  },
  {
   "cell_type": "code",
   "execution_count": 10,
   "id": "b94c4bb0-912d-4cf3-a76f-b452f09dccbd",
   "metadata": {
    "tags": []
   },
   "outputs": [
    {
     "name": "stdin",
     "output_type": "stream",
     "text": [
      "write name  adi\n"
     ]
    }
   ],
   "source": [
    "x=input(\"write name \")"
   ]
  },
  {
   "cell_type": "code",
   "execution_count": 11,
   "id": "48cbc5e3-7574-4a60-bde8-352b3c0a19ad",
   "metadata": {
    "tags": []
   },
   "outputs": [
    {
     "data": {
      "text/plain": [
       "'adi'"
      ]
     },
     "execution_count": 11,
     "metadata": {},
     "output_type": "execute_result"
    }
   ],
   "source": [
    "x"
   ]
  },
  {
   "cell_type": "markdown",
   "id": "70c21983-5fdc-43a9-8321-2247c9e74058",
   "metadata": {},
   "source": [
    "behaviour of input is string by default"
   ]
  },
  {
   "cell_type": "code",
   "execution_count": 16,
   "id": "48f3909b-50c6-42bf-953a-16a11b7b197e",
   "metadata": {
    "tags": []
   },
   "outputs": [
    {
     "name": "stdin",
     "output_type": "stream",
     "text": [
      "Enter the radius  5\n"
     ]
    },
    {
     "name": "stdout",
     "output_type": "stream",
     "text": [
      "Area of the circle is  78.5\n"
     ]
    }
   ],
   "source": [
    "r=float(input(\"Enter the radius \"))\n",
    "area=3.14*r*r\n",
    "print(\"Area of the circle is \" ,area)"
   ]
  },
  {
   "cell_type": "code",
   "execution_count": 17,
   "id": "101b5490-3f8c-41d5-9e7b-9230a6b88f30",
   "metadata": {
    "tags": []
   },
   "outputs": [
    {
     "name": "stdin",
     "output_type": "stream",
     "text": [
      "Enter the height of the triangle : 2\n",
      "Enter the base length of thr triangle : 3\n"
     ]
    },
    {
     "name": "stdout",
     "output_type": "stream",
     "text": [
      "Area of the triangle is  3.0\n"
     ]
    }
   ],
   "source": [
    "h=float(input(\"Enter the height of the triangle :\"))\n",
    "b=float(input(\"Enter the base length of thr triangle :\"))\n",
    "a=0.5*h*b\n",
    "print(\"Area of the triangle is \" , a)"
   ]
  },
  {
   "cell_type": "code",
   "execution_count": 19,
   "id": "2d15898a-b336-4122-bdf4-5bc5c8f13f9f",
   "metadata": {
    "tags": []
   },
   "outputs": [],
   "source": [
    "import math"
   ]
  },
  {
   "cell_type": "code",
   "execution_count": 27,
   "id": "c049fbc8-37ed-4c32-b812-6420f32516c3",
   "metadata": {
    "tags": []
   },
   "outputs": [
    {
     "name": "stdin",
     "output_type": "stream",
     "text": [
      "Enter coef. of x^2:  1\n",
      "Enter coef. of x:  1\n",
      "Enter constant c:  -2\n"
     ]
    },
    {
     "name": "stdout",
     "output_type": "stream",
     "text": [
      "root is :  1.0\n"
     ]
    }
   ],
   "source": [
    "a=int(input(\"Enter coef. of x^2: \"))\n",
    "b=int(input(\"Enter coef. of x: \"))\n",
    "c=int(input(\"Enter constant c: \"))\n",
    "s=math.sqrt(b*b-4*a*c)\n",
    "ans=(-b+s)/2*a\n",
    "\n",
    "print(\"root is : \",ans)"
   ]
  },
  {
   "cell_type": "code",
   "execution_count": 22,
   "id": "5e2a2f51-daf4-4e5c-b6e1-e33f6f67d90c",
   "metadata": {
    "tags": []
   },
   "outputs": [
    {
     "ename": "TypeError",
     "evalue": "unsupported operand type(s) for ^: 'int' and 'float'",
     "output_type": "error",
     "traceback": [
      "\u001b[1;31m---------------------------------------------------------------------------\u001b[0m",
      "\u001b[1;31mTypeError\u001b[0m                                 Traceback (most recent call last)",
      "Cell \u001b[1;32mIn[22], line 1\u001b[0m\n\u001b[1;32m----> 1\u001b[0m a\u001b[38;5;241m=\u001b[39m\u001b[38;5;241m3\u001b[39m\u001b[38;5;241m^\u001b[39m\u001b[38;5;241m1\u001b[39m\u001b[38;5;241m/\u001b[39m\u001b[38;5;241m2\u001b[39m\n",
      "\u001b[1;31mTypeError\u001b[0m: unsupported operand type(s) for ^: 'int' and 'float'"
     ]
    }
   ],
   "source": [
    "a=3^1/2"
   ]
  },
  {
   "cell_type": "code",
   "execution_count": 24,
   "id": "e0a711c8-83b6-4cc9-9118-281bfe6c5d85",
   "metadata": {
    "tags": []
   },
   "outputs": [
    {
     "ename": "SyntaxError",
     "evalue": "cannot assign to literal here. Maybe you meant '==' instead of '='? (3241191975.py, line 1)",
     "output_type": "error",
     "traceback": [
      "\u001b[1;36m  Cell \u001b[1;32mIn[24], line 1\u001b[1;36m\u001b[0m\n\u001b[1;33m    3=a*a\u001b[0m\n\u001b[1;37m    ^\u001b[0m\n\u001b[1;31mSyntaxError\u001b[0m\u001b[1;31m:\u001b[0m cannot assign to literal here. Maybe you meant '==' instead of '='?\n"
     ]
    }
   ],
   "source": [
    "3=a*a\n",
    "a"
   ]
  },
  {
   "cell_type": "code",
   "execution_count": 28,
   "id": "8aebb5ed-a341-4341-86a0-d66ca7350b26",
   "metadata": {
    "tags": []
   },
   "outputs": [],
   "source": [
    "a=1\n",
    "b=1\n",
    "c=1"
   ]
  },
  {
   "cell_type": "code",
   "execution_count": 29,
   "id": "8abd53f9-2997-4f1e-a1c2-a8e65b53da4e",
   "metadata": {
    "tags": []
   },
   "outputs": [],
   "source": [
    "a=5**2"
   ]
  },
  {
   "cell_type": "code",
   "execution_count": 30,
   "id": "b852e4ad-4b8d-4518-b484-9868643cff0f",
   "metadata": {
    "tags": []
   },
   "outputs": [
    {
     "data": {
      "text/plain": [
       "25"
      ]
     },
     "execution_count": 30,
     "metadata": {},
     "output_type": "execute_result"
    }
   ],
   "source": [
    "a"
   ]
  },
  {
   "cell_type": "code",
   "execution_count": 42,
   "id": "ba1de38a-d07b-4ce9-ac55-2c20b9a58981",
   "metadata": {
    "tags": []
   },
   "outputs": [],
   "source": [
    "x=\"hello\""
   ]
  },
  {
   "cell_type": "code",
   "execution_count": 33,
   "id": "578e4879-48d1-4182-a213-5a9ebc678f2e",
   "metadata": {
    "tags": []
   },
   "outputs": [
    {
     "data": {
      "text/plain": [
       "'olleh'"
      ]
     },
     "execution_count": 33,
     "metadata": {},
     "output_type": "execute_result"
    }
   ],
   "source": [
    "x[::-1]"
   ]
  },
  {
   "cell_type": "code",
   "execution_count": 35,
   "id": "6352ef74-fb50-4015-a0a7-9721c2810d0f",
   "metadata": {
    "tags": []
   },
   "outputs": [
    {
     "data": {
      "text/plain": [
       "'olleh'"
      ]
     },
     "execution_count": 35,
     "metadata": {},
     "output_type": "execute_result"
    }
   ],
   "source": [
    "x[-1::-1]"
   ]
  },
  {
   "cell_type": "code",
   "execution_count": 38,
   "id": "f4e84570-3fa2-42d4-8ebd-e0dfdc656694",
   "metadata": {
    "tags": []
   },
   "outputs": [
    {
     "data": {
      "text/plain": [
       "''"
      ]
     },
     "execution_count": 38,
     "metadata": {},
     "output_type": "execute_result"
    }
   ],
   "source": [
    "x[0:4:-1]"
   ]
  },
  {
   "cell_type": "code",
   "execution_count": 40,
   "id": "aa87ff14-16da-491e-a911-6dc473aacaf2",
   "metadata": {
    "tags": []
   },
   "outputs": [
    {
     "data": {
      "text/plain": [
       "'olle'"
      ]
     },
     "execution_count": 40,
     "metadata": {},
     "output_type": "execute_result"
    }
   ],
   "source": [
    "x[-1:-5:-1]"
   ]
  },
  {
   "cell_type": "code",
   "execution_count": 43,
   "id": "6165a57b-362b-4773-a38b-b3dba88f4ee5",
   "metadata": {
    "tags": []
   },
   "outputs": [
    {
     "data": {
      "text/plain": [
       "'olleh'"
      ]
     },
     "execution_count": 43,
     "metadata": {},
     "output_type": "execute_result"
    }
   ],
   "source": [
    "x[-1:-6:-1]"
   ]
  },
  {
   "cell_type": "code",
   "execution_count": 45,
   "id": "86170597-69fb-4a32-9a31-0acd138ba06b",
   "metadata": {
    "tags": []
   },
   "outputs": [
    {
     "data": {
      "text/plain": [
       "'hello'"
      ]
     },
     "execution_count": 45,
     "metadata": {},
     "output_type": "execute_result"
    }
   ],
   "source": [
    "x"
   ]
  },
  {
   "cell_type": "code",
   "execution_count": 59,
   "id": "31a38aa5-7623-44c2-b258-3d11dda43b79",
   "metadata": {
    "tags": []
   },
   "outputs": [],
   "source": [
    "y=\"pw ioi bangalore\""
   ]
  },
  {
   "cell_type": "code",
   "execution_count": 48,
   "id": "33005d0b-f2ff-4a50-970a-2420b75cb99e",
   "metadata": {
    "tags": []
   },
   "outputs": [
    {
     "data": {
      "text/plain": [
       "'banglore'"
      ]
     },
     "execution_count": 48,
     "metadata": {},
     "output_type": "execute_result"
    }
   ],
   "source": [
    "y[7::]"
   ]
  },
  {
   "cell_type": "code",
   "execution_count": 54,
   "id": "97144ce5-5a51-4485-a60d-8837d5c2b939",
   "metadata": {
    "tags": []
   },
   "outputs": [
    {
     "data": {
      "text/plain": [
       "'erolgnab '"
      ]
     },
     "execution_count": 54,
     "metadata": {},
     "output_type": "execute_result"
    }
   ],
   "source": [
    "y[-1:-10:-1]"
   ]
  },
  {
   "cell_type": "code",
   "execution_count": 63,
   "id": "10d80649-f1e8-4740-9c87-38a7964d716d",
   "metadata": {
    "tags": []
   },
   "outputs": [
    {
     "data": {
      "text/plain": [
       "'bangalore'"
      ]
     },
     "execution_count": 63,
     "metadata": {},
     "output_type": "execute_result"
    }
   ],
   "source": [
    "y[-9:]"
   ]
  },
  {
   "cell_type": "code",
   "execution_count": 64,
   "id": "f454b4e4-b778-4ce0-88d8-dc2f80603803",
   "metadata": {
    "tags": []
   },
   "outputs": [],
   "source": [
    "x='a'"
   ]
  },
  {
   "cell_type": "code",
   "execution_count": 66,
   "id": "db07dd5a-d96a-491e-a481-1abe68a27f01",
   "metadata": {
    "tags": []
   },
   "outputs": [
    {
     "data": {
      "text/plain": [
       "25"
      ]
     },
     "execution_count": 66,
     "metadata": {},
     "output_type": "execute_result"
    }
   ],
   "source": [
    "int(a)"
   ]
  },
  {
   "cell_type": "code",
   "execution_count": 68,
   "id": "19a64ce2-ecbb-4e66-a44a-1ff4056b05f8",
   "metadata": {
    "tags": []
   },
   "outputs": [
    {
     "data": {
      "text/plain": [
       "1"
      ]
     },
     "execution_count": 68,
     "metadata": {},
     "output_type": "execute_result"
    }
   ],
   "source": [
    "int(b)"
   ]
  },
  {
   "cell_type": "code",
   "execution_count": 70,
   "id": "fb07ee80-1a04-4080-897d-6113ee0f48d9",
   "metadata": {
    "tags": []
   },
   "outputs": [
    {
     "ename": "NameError",
     "evalue": "name 'z' is not defined",
     "output_type": "error",
     "traceback": [
      "\u001b[1;31m---------------------------------------------------------------------------\u001b[0m",
      "\u001b[1;31mNameError\u001b[0m                                 Traceback (most recent call last)",
      "Cell \u001b[1;32mIn[70], line 1\u001b[0m\n\u001b[1;32m----> 1\u001b[0m \u001b[38;5;28mint\u001b[39m(z)\n",
      "\u001b[1;31mNameError\u001b[0m: name 'z' is not defined"
     ]
    }
   ],
   "source": [
    "int(z)"
   ]
  },
  {
   "cell_type": "code",
   "execution_count": 73,
   "id": "523c688f-aaf3-4424-9c6e-47a9f76c704c",
   "metadata": {
    "tags": []
   },
   "outputs": [
    {
     "name": "stdout",
     "output_type": "stream",
     "text": [
      "97\n"
     ]
    }
   ],
   "source": [
    "print(ord('a'))"
   ]
  },
  {
   "cell_type": "code",
   "execution_count": 75,
   "id": "0059a8a0-a950-43bb-9d1e-74f56d0012b8",
   "metadata": {
    "tags": []
   },
   "outputs": [
    {
     "data": {
      "text/plain": [
       "3"
      ]
     },
     "execution_count": 75,
     "metadata": {},
     "output_type": "execute_result"
    }
   ],
   "source": [
    "15//4"
   ]
  },
  {
   "cell_type": "code",
   "execution_count": 77,
   "id": "f896c88c-a4db-49e2-884f-a0a95558989a",
   "metadata": {
    "tags": []
   },
   "outputs": [
    {
     "data": {
      "text/plain": [
       "8"
      ]
     },
     "execution_count": 77,
     "metadata": {},
     "output_type": "execute_result"
    }
   ],
   "source": [
    "2**3"
   ]
  },
  {
   "cell_type": "code",
   "execution_count": 81,
   "id": "4c5f2856-f82a-456d-a6bc-936072a8d07e",
   "metadata": {
    "tags": []
   },
   "outputs": [
    {
     "data": {
      "text/plain": [
       "16"
      ]
     },
     "execution_count": 81,
     "metadata": {},
     "output_type": "execute_result"
    }
   ],
   "source": [
    "2**3*2"
   ]
  },
  {
   "cell_type": "code",
   "execution_count": 80,
   "id": "eb4b4eae-2622-4e72-adc1-bcd97cb2901b",
   "metadata": {
    "tags": []
   },
   "outputs": [
    {
     "data": {
      "text/plain": [
       "4"
      ]
     },
     "execution_count": 80,
     "metadata": {},
     "output_type": "execute_result"
    }
   ],
   "source": [
    "2**2"
   ]
  },
  {
   "cell_type": "code",
   "execution_count": 86,
   "id": "8eeec120-772b-49e0-ba59-5e402512fe25",
   "metadata": {
    "tags": []
   },
   "outputs": [
    {
     "name": "stdout",
     "output_type": "stream",
     "text": [
      "a>b False\n",
      "a==b False\n",
      "a<b True\n",
      "a!=b True\n"
     ]
    }
   ],
   "source": [
    "a=\"BHOPU\"\n",
    "b=\"bhopu\"\n",
    "print(\"a>b\",a>b)\n",
    "print(\"a==b\",a==b)\n",
    "print(\"a<b\",a<b)\n",
    "print(\"a!=b\",a!=b)"
   ]
  },
  {
   "cell_type": "markdown",
   "id": "661e395b-f747-402a-8204-3a64bbee3cd7",
   "metadata": {},
   "source": [
    "cascading\n"
   ]
  },
  {
   "cell_type": "code",
   "execution_count": 96,
   "id": "1d58ba9a-9d82-47be-ab2c-3bc32afd1e82",
   "metadata": {
    "tags": []
   },
   "outputs": [],
   "source": [
    "a=1<2<3     #all statement mjust be true"
   ]
  },
  {
   "cell_type": "code",
   "execution_count": 97,
   "id": "62f70a5d-95ef-4f6c-bac7-6225ca3c7384",
   "metadata": {
    "tags": []
   },
   "outputs": [
    {
     "data": {
      "text/plain": [
       "True"
      ]
     },
     "execution_count": 97,
     "metadata": {},
     "output_type": "execute_result"
    }
   ],
   "source": [
    "a"
   ]
  },
  {
   "cell_type": "code",
   "execution_count": 91,
   "id": "6bd1023c-5fc3-4cff-b956-38736ac85333",
   "metadata": {
    "tags": []
   },
   "outputs": [],
   "source": [
    "a=5<6>4"
   ]
  },
  {
   "cell_type": "code",
   "execution_count": 92,
   "id": "641c41de-42a2-4c1e-a375-05cbeaf467aa",
   "metadata": {
    "tags": []
   },
   "outputs": [
    {
     "data": {
      "text/plain": [
       "True"
      ]
     },
     "execution_count": 92,
     "metadata": {},
     "output_type": "execute_result"
    }
   ],
   "source": [
    "a"
   ]
  },
  {
   "cell_type": "code",
   "execution_count": 94,
   "id": "cdcd6bbf-ee05-458d-b75f-e76aaeec9a52",
   "metadata": {
    "tags": []
   },
   "outputs": [],
   "source": [
    "a=(5<6)>4"
   ]
  },
  {
   "cell_type": "code",
   "execution_count": 95,
   "id": "e542c2e9-e39b-4a93-8e86-3a2fc8195703",
   "metadata": {
    "tags": []
   },
   "outputs": [
    {
     "data": {
      "text/plain": [
       "False"
      ]
     },
     "execution_count": 95,
     "metadata": {},
     "output_type": "execute_result"
    }
   ],
   "source": [
    "a"
   ]
  },
  {
   "cell_type": "code",
   "execution_count": 99,
   "id": "d38e4127-51eb-4596-bf08-734c743e6e61",
   "metadata": {
    "tags": []
   },
   "outputs": [
    {
     "name": "stdout",
     "output_type": "stream",
     "text": [
      "False\n"
     ]
    }
   ],
   "source": [
    "print(10==True)"
   ]
  },
  {
   "cell_type": "code",
   "execution_count": 101,
   "id": "ed0fada7-70e4-4bba-9067-a249dadc81e8",
   "metadata": {
    "tags": []
   },
   "outputs": [
    {
     "name": "stdout",
     "output_type": "stream",
     "text": [
      "False\n"
     ]
    }
   ],
   "source": [
    "print('A'==65)"
   ]
  },
  {
   "cell_type": "code",
   "execution_count": 103,
   "id": "5edfc86a-9fc5-4260-b617-9d7b3554e420",
   "metadata": {
    "tags": []
   },
   "outputs": [
    {
     "name": "stdout",
     "output_type": "stream",
     "text": [
      "True\n"
     ]
    }
   ],
   "source": [
    "print(ord('A')==65)"
   ]
  },
  {
   "cell_type": "code",
   "execution_count": 105,
   "id": "42a84eff-10c5-4889-880b-3d2bbc31d13c",
   "metadata": {
    "tags": []
   },
   "outputs": [
    {
     "name": "stdout",
     "output_type": "stream",
     "text": [
      "False\n"
     ]
    }
   ],
   "source": [
    "print('A'==65)"
   ]
  },
  {
   "cell_type": "code",
   "execution_count": 107,
   "id": "a0650d44-8673-4b9d-99da-9ca1b59ea102",
   "metadata": {
    "tags": []
   },
   "outputs": [
    {
     "name": "stdout",
     "output_type": "stream",
     "text": [
      "False\n"
     ]
    }
   ],
   "source": [
    "a=5\n",
    "b=6\n",
    "c=6\n",
    "print(a<b and b>c)"
   ]
  },
  {
   "cell_type": "code",
   "execution_count": 109,
   "id": "aaa4ac8b-4162-4885-b504-155c9bfc6a89",
   "metadata": {
    "tags": []
   },
   "outputs": [
    {
     "name": "stdout",
     "output_type": "stream",
     "text": [
      "True\n"
     ]
    }
   ],
   "source": [
    "a=5\n",
    "b=6\n",
    "c=6\n",
    "print(a<b and b==c)"
   ]
  },
  {
   "cell_type": "code",
   "execution_count": 111,
   "id": "0fc31a13-08bf-4b48-a93b-cd2471a88078",
   "metadata": {
    "tags": []
   },
   "outputs": [
    {
     "name": "stdout",
     "output_type": "stream",
     "text": [
      "True\n"
     ]
    }
   ],
   "source": [
    "a=5\n",
    "b=6\n",
    "c=6\n",
    "print(a<b or b>c)"
   ]
  },
  {
   "cell_type": "code",
   "execution_count": 122,
   "id": "b055104b-3e3a-4500-a644-8c8f2d93b28a",
   "metadata": {
    "tags": []
   },
   "outputs": [
    {
     "name": "stdout",
     "output_type": "stream",
     "text": [
      "True\n"
     ]
    }
   ],
   "source": [
    "a=10\n",
    "b=6\n",
    "c=6\n",
    "print((not a)==0)"
   ]
  },
  {
   "cell_type": "code",
   "execution_count": 125,
   "id": "bcd41e30-46fe-47d4-aee0-26d5d70bc9a8",
   "metadata": {
    "tags": []
   },
   "outputs": [],
   "source": [
    "a=5"
   ]
  },
  {
   "cell_type": "code",
   "execution_count": 126,
   "id": "ed082cb3-b5fc-48c1-9ba0-f30a09fdfb1b",
   "metadata": {
    "tags": []
   },
   "outputs": [
    {
     "data": {
      "text/plain": [
       "5"
      ]
     },
     "execution_count": 126,
     "metadata": {},
     "output_type": "execute_result"
    }
   ],
   "source": [
    "a"
   ]
  },
  {
   "cell_type": "markdown",
   "id": "758ba94d-c64c-4810-85c8-735dcc426401",
   "metadata": {},
   "source": [
    "none , 0 ,0.0 . \"\" are false"
   ]
  },
  {
   "cell_type": "code",
   "execution_count": 129,
   "id": "0e804305-d64e-4912-8754-3eb5e3b62fd7",
   "metadata": {
    "tags": []
   },
   "outputs": [
    {
     "name": "stdout",
     "output_type": "stream",
     "text": [
      "1\n"
     ]
    }
   ],
   "source": [
    "print(\"jagsdu\" and 1)"
   ]
  },
  {
   "cell_type": "code",
   "execution_count": 132,
   "id": "333d11e1-c8b6-4c73-b8d5-2be5422a2b98",
   "metadata": {
    "tags": []
   },
   "outputs": [
    {
     "data": {
      "text/plain": [
       "5"
      ]
     },
     "execution_count": 132,
     "metadata": {},
     "output_type": "execute_result"
    }
   ],
   "source": [
    "5 and 5           "
   ]
  },
  {
   "cell_type": "code",
   "execution_count": 133,
   "id": "010a65d7-d84c-47b1-b486-563fdb09b514",
   "metadata": {
    "tags": []
   },
   "outputs": [
    {
     "data": {
      "text/plain": [
       "6"
      ]
     },
     "execution_count": 133,
     "metadata": {},
     "output_type": "execute_result"
    }
   ],
   "source": [
    "5 and 6"
   ]
  },
  {
   "cell_type": "code",
   "execution_count": 135,
   "id": "108657fd-2257-4bd0-b541-9204b7e64d91",
   "metadata": {
    "tags": []
   },
   "outputs": [
    {
     "data": {
      "text/plain": [
       "0"
      ]
     },
     "execution_count": 135,
     "metadata": {},
     "output_type": "execute_result"
    }
   ],
   "source": [
    "0 and 5"
   ]
  },
  {
   "cell_type": "code",
   "execution_count": 137,
   "id": "2201f8cb-3a27-44b8-8de9-ea4655b303a5",
   "metadata": {
    "tags": []
   },
   "outputs": [
    {
     "data": {
      "text/plain": [
       "5"
      ]
     },
     "execution_count": 137,
     "metadata": {},
     "output_type": "execute_result"
    }
   ],
   "source": [
    "6 and 5"
   ]
  },
  {
   "cell_type": "code",
   "execution_count": 139,
   "id": "4d70c019-c991-4c11-9ebc-7c16929ab6d1",
   "metadata": {
    "tags": []
   },
   "outputs": [
    {
     "data": {
      "text/plain": [
       "0"
      ]
     },
     "execution_count": 139,
     "metadata": {},
     "output_type": "execute_result"
    }
   ],
   "source": [
    "5 and 0"
   ]
  },
  {
   "cell_type": "code",
   "execution_count": 141,
   "id": "402e84a1-f0b8-48fc-b637-782d9155fb3b",
   "metadata": {
    "tags": []
   },
   "outputs": [
    {
     "data": {
      "text/plain": [
       "0"
      ]
     },
     "execution_count": 141,
     "metadata": {},
     "output_type": "execute_result"
    }
   ],
   "source": [
    "9 and 5 and 7 and 0"
   ]
  },
  {
   "cell_type": "code",
   "execution_count": 143,
   "id": "aa75510f-238c-429c-90eb-b781dcdcd0db",
   "metadata": {
    "tags": []
   },
   "outputs": [
    {
     "data": {
      "text/plain": [
       "0"
      ]
     },
     "execution_count": 143,
     "metadata": {},
     "output_type": "execute_result"
    }
   ],
   "source": [
    "0 and 5 and 6 and 7"
   ]
  },
  {
   "cell_type": "code",
   "execution_count": 145,
   "id": "fb73fbb8-2515-45ff-b12b-338bd9acbd72",
   "metadata": {
    "tags": []
   },
   "outputs": [
    {
     "data": {
      "text/plain": [
       "4"
      ]
     },
     "execution_count": 145,
     "metadata": {},
     "output_type": "execute_result"
    }
   ],
   "source": [
    "5 and 6 and 4"
   ]
  },
  {
   "cell_type": "code",
   "execution_count": 147,
   "id": "d25300b5-dd5a-414a-a47f-a08ea8e5263f",
   "metadata": {
    "tags": []
   },
   "outputs": [
    {
     "data": {
      "text/plain": [
       "0"
      ]
     },
     "execution_count": 147,
     "metadata": {},
     "output_type": "execute_result"
    }
   ],
   "source": [
    "4 and 0 and 10"
   ]
  },
  {
   "cell_type": "code",
   "execution_count": 149,
   "id": "8861beea-6839-4aee-bed2-70f2937f1614",
   "metadata": {
    "tags": []
   },
   "outputs": [
    {
     "data": {
      "text/plain": [
       "5"
      ]
     },
     "execution_count": 149,
     "metadata": {},
     "output_type": "execute_result"
    }
   ],
   "source": [
    "5 or 6"
   ]
  },
  {
   "cell_type": "code",
   "execution_count": 151,
   "id": "fef00f11-9e09-4c15-bde2-2dd1dcebd430",
   "metadata": {
    "tags": []
   },
   "outputs": [
    {
     "data": {
      "text/plain": [
       "3"
      ]
     },
     "execution_count": 151,
     "metadata": {},
     "output_type": "execute_result"
    }
   ],
   "source": [
    "0 or 3"
   ]
  },
  {
   "cell_type": "code",
   "execution_count": 153,
   "id": "365ff83c-dcec-40c2-8cd1-b9486a4052cf",
   "metadata": {
    "tags": []
   },
   "outputs": [
    {
     "data": {
      "text/plain": [
       "2"
      ]
     },
     "execution_count": 153,
     "metadata": {},
     "output_type": "execute_result"
    }
   ],
   "source": [
    "3 and 2"
   ]
  },
  {
   "cell_type": "code",
   "execution_count": 155,
   "id": "726e1780-6dc7-4207-aa07-08725595a4ff",
   "metadata": {
    "tags": []
   },
   "outputs": [
    {
     "data": {
      "text/plain": [
       "5"
      ]
     },
     "execution_count": 155,
     "metadata": {},
     "output_type": "execute_result"
    }
   ],
   "source": [
    "5 or 3"
   ]
  },
  {
   "cell_type": "code",
   "execution_count": 157,
   "id": "eb10edfc-967a-40f7-83dd-4a22084c5c94",
   "metadata": {
    "tags": []
   },
   "outputs": [
    {
     "data": {
      "text/plain": [
       "5"
      ]
     },
     "execution_count": 157,
     "metadata": {},
     "output_type": "execute_result"
    }
   ],
   "source": [
    "0 or 5"
   ]
  },
  {
   "cell_type": "code",
   "execution_count": 160,
   "id": "26651180-2c84-4c9a-9d2e-191d73b8cccd",
   "metadata": {
    "tags": []
   },
   "outputs": [
    {
     "data": {
      "text/plain": [
       "False"
      ]
     },
     "execution_count": 160,
     "metadata": {},
     "output_type": "execute_result"
    }
   ],
   "source": [
    "0 or False"
   ]
  },
  {
   "cell_type": "code",
   "execution_count": 162,
   "id": "e036a8fd-6453-428a-a7ff-8b80fa80a5ad",
   "metadata": {
    "tags": []
   },
   "outputs": [
    {
     "data": {
      "text/plain": [
       "3"
      ]
     },
     "execution_count": 162,
     "metadata": {},
     "output_type": "execute_result"
    }
   ],
   "source": [
    "0 or 3 or 5"
   ]
  },
  {
   "cell_type": "code",
   "execution_count": 164,
   "id": "7ae3dde6-7f8b-4e20-ac4c-23d50db42429",
   "metadata": {
    "tags": []
   },
   "outputs": [],
   "source": [
    "x=y=z=10"
   ]
  },
  {
   "cell_type": "code",
   "execution_count": 166,
   "id": "a55cf1dd-1d09-48dd-adbc-ae5a663011fc",
   "metadata": {
    "tags": []
   },
   "outputs": [
    {
     "data": {
      "text/plain": [
       "(10, 10, 10)"
      ]
     },
     "execution_count": 166,
     "metadata": {},
     "output_type": "execute_result"
    }
   ],
   "source": [
    "x , y , z"
   ]
  },
  {
   "cell_type": "code",
   "execution_count": 168,
   "id": "2de77e1d-4e51-469c-b436-eec9ea0faaa7",
   "metadata": {
    "tags": []
   },
   "outputs": [],
   "source": [
    "l=[x,y/z]"
   ]
  },
  {
   "cell_type": "code",
   "execution_count": 169,
   "id": "f6b96850-5b17-4997-ae99-2d88480478b2",
   "metadata": {
    "tags": []
   },
   "outputs": [
    {
     "data": {
      "text/plain": [
       "[10, 1.0]"
      ]
     },
     "execution_count": 169,
     "metadata": {},
     "output_type": "execute_result"
    }
   ],
   "source": [
    "l"
   ]
  },
  {
   "cell_type": "code",
   "execution_count": 171,
   "id": "51c50ede-0534-4db6-9a01-d6679a6ca9ec",
   "metadata": {
    "tags": []
   },
   "outputs": [],
   "source": [
    "x,y,z=1,2,3"
   ]
  },
  {
   "cell_type": "code",
   "execution_count": 174,
   "id": "0c8a6082-e0d2-4442-b389-88e8af100db6",
   "metadata": {
    "tags": []
   },
   "outputs": [],
   "source": [
    "l=[x,y,z]"
   ]
  },
  {
   "cell_type": "code",
   "execution_count": 176,
   "id": "694a3c30-312d-42a8-81c2-59563b456922",
   "metadata": {
    "tags": []
   },
   "outputs": [
    {
     "data": {
      "text/plain": [
       "[1, 2, 3]"
      ]
     },
     "execution_count": 176,
     "metadata": {},
     "output_type": "execute_result"
    }
   ],
   "source": [
    "l"
   ]
  },
  {
   "cell_type": "code",
   "execution_count": 177,
   "id": "07997a8c-b1f4-44ff-953d-23a059792595",
   "metadata": {
    "tags": []
   },
   "outputs": [],
   "source": [
    "a=(10,20)"
   ]
  },
  {
   "cell_type": "code",
   "execution_count": 179,
   "id": "35e39cc0-fce0-4204-acda-80636d609209",
   "metadata": {
    "tags": []
   },
   "outputs": [
    {
     "data": {
      "text/plain": [
       "(10, 20)"
      ]
     },
     "execution_count": 179,
     "metadata": {},
     "output_type": "execute_result"
    }
   ],
   "source": [
    "a"
   ]
  },
  {
   "cell_type": "code",
   "execution_count": 181,
   "id": "fc6e75ab-7087-4c65-8375-d776ab24c662",
   "metadata": {
    "tags": []
   },
   "outputs": [],
   "source": [
    "x=1\n",
    "x+=3"
   ]
  },
  {
   "cell_type": "code",
   "execution_count": 183,
   "id": "71c29755-b163-4cb6-81c5-38d5c3925dab",
   "metadata": {
    "tags": []
   },
   "outputs": [
    {
     "data": {
      "text/plain": [
       "4"
      ]
     },
     "execution_count": 183,
     "metadata": {},
     "output_type": "execute_result"
    }
   ],
   "source": [
    "x"
   ]
  },
  {
   "cell_type": "code",
   "execution_count": 184,
   "id": "7505b597-b206-4e8a-807e-c15a392fa627",
   "metadata": {
    "tags": []
   },
   "outputs": [],
   "source": [
    "x=1\n"
   ]
  },
  {
   "cell_type": "code",
   "execution_count": 187,
   "id": "3118bfa4-f78f-4b51-9826-efc36e98a3b9",
   "metadata": {
    "tags": []
   },
   "outputs": [
    {
     "data": {
      "text/plain": [
       "2"
      ]
     },
     "execution_count": 187,
     "metadata": {},
     "output_type": "execute_result"
    }
   ],
   "source": [
    "(++x)+(++x)"
   ]
  },
  {
   "cell_type": "code",
   "execution_count": 189,
   "id": "60d863fb-1bbb-43e6-a420-7602ca0ffd1b",
   "metadata": {
    "tags": []
   },
   "outputs": [
    {
     "data": {
      "text/plain": [
       "1"
      ]
     },
     "execution_count": 189,
     "metadata": {},
     "output_type": "execute_result"
    }
   ],
   "source": [
    "x"
   ]
  },
  {
   "cell_type": "code",
   "execution_count": 190,
   "id": "c58a22d7-4bdc-420d-be6b-f1b63758b634",
   "metadata": {
    "tags": []
   },
   "outputs": [
    {
     "ename": "SyntaxError",
     "evalue": "invalid syntax (1015499630.py, line 1)",
     "output_type": "error",
     "traceback": [
      "\u001b[1;36m  Cell \u001b[1;32mIn[190], line 1\u001b[1;36m\u001b[0m\n\u001b[1;33m    x++\u001b[0m\n\u001b[1;37m       ^\u001b[0m\n\u001b[1;31mSyntaxError\u001b[0m\u001b[1;31m:\u001b[0m invalid syntax\n"
     ]
    }
   ],
   "source": [
    "x++"
   ]
  },
  {
   "cell_type": "code",
   "execution_count": 192,
   "id": "7becf061-14fc-43d9-9dde-5a427e947269",
   "metadata": {
    "tags": []
   },
   "outputs": [
    {
     "data": {
      "text/plain": [
       "1"
      ]
     },
     "execution_count": 192,
     "metadata": {},
     "output_type": "execute_result"
    }
   ],
   "source": [
    "3^2"
   ]
  },
  {
   "cell_type": "code",
   "execution_count": 4,
   "id": "7d8a9ca5-ae69-40be-8888-1f70f8d40b04",
   "metadata": {},
   "outputs": [],
   "source": [
    "a=[1,2,3]\n",
    "b={1,2,3}\n",
    "c=(1,2,3)\n",
    "d={1:2,3:4}"
   ]
  },
  {
   "cell_type": "code",
   "execution_count": 7,
   "id": "46aba369-3a7a-4af0-a923-a2eceabd67a5",
   "metadata": {
    "tags": []
   },
   "outputs": [
    {
     "ename": "TypeError",
     "evalue": "type() takes 1 or 3 arguments",
     "output_type": "error",
     "traceback": [
      "\u001b[1;31m---------------------------------------------------------------------------\u001b[0m",
      "\u001b[1;31mTypeError\u001b[0m                                 Traceback (most recent call last)",
      "Cell \u001b[1;32mIn[7], line 1\u001b[0m\n\u001b[1;32m----> 1\u001b[0m \u001b[38;5;28mtype\u001b[39m(a,b,c,d)\n",
      "\u001b[1;31mTypeError\u001b[0m: type() takes 1 or 3 arguments"
     ]
    }
   ],
   "source": [
    "type(a,b,c,d)"
   ]
  },
  {
   "cell_type": "code",
   "execution_count": 8,
   "id": "fca131f7-f271-4fa5-94fa-4d2760b9c0ce",
   "metadata": {
    "tags": []
   },
   "outputs": [
    {
     "data": {
      "text/plain": [
       "list"
      ]
     },
     "execution_count": 8,
     "metadata": {},
     "output_type": "execute_result"
    }
   ],
   "source": [
    "type(a)"
   ]
  },
  {
   "cell_type": "code",
   "execution_count": 9,
   "id": "aff7788e-854f-4479-b3dd-72772c636970",
   "metadata": {
    "tags": []
   },
   "outputs": [
    {
     "data": {
      "text/plain": [
       "dict"
      ]
     },
     "execution_count": 9,
     "metadata": {},
     "output_type": "execute_result"
    }
   ],
   "source": [
    "type(a)\n",
    "type(b)\n",
    "type(c)\n",
    "type(d)"
   ]
  }
 ],
 "metadata": {
  "kernelspec": {
   "display_name": "Python 3 (ipykernel)",
   "language": "python",
   "name": "python3"
  },
  "language_info": {
   "codemirror_mode": {
    "name": "ipython",
    "version": 3
   },
   "file_extension": ".py",
   "mimetype": "text/x-python",
   "name": "python",
   "nbconvert_exporter": "python",
   "pygments_lexer": "ipython3",
   "version": "3.11.5"
  }
 },
 "nbformat": 4,
 "nbformat_minor": 5
}
