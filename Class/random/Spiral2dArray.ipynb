{
 "cells": [
  {
   "cell_type": "code",
   "execution_count": 1,
   "id": "c5c9b902-7455-4996-876d-f94e905ca4e2",
   "metadata": {
    "tags": []
   },
   "outputs": [],
   "source": [
    "#spiral"
   ]
  },
  {
   "cell_type": "code",
   "execution_count": null,
   "id": "36f850f5-b8f9-435c-abee-8b64cae2c22e",
   "metadata": {
    "tags": []
   },
   "outputs": [],
   "source": [
    "n=int(input(\"Enter the number of row and column \"))\n",
    "m=list()\n"
   ]
  },
  {
   "cell_type": "code",
   "execution_count": null,
   "id": "db4bdd6d-2db2-40aa-840a-043c34226ea8",
   "metadata": {},
   "outputs": [],
   "source": []
  }
 ],
 "metadata": {
  "kernelspec": {
   "display_name": "Python 3 (ipykernel)",
   "language": "python",
   "name": "python3"
  },
  "language_info": {
   "codemirror_mode": {
    "name": "ipython",
    "version": 3
   },
   "file_extension": ".py",
   "mimetype": "text/x-python",
   "name": "python",
   "nbconvert_exporter": "python",
   "pygments_lexer": "ipython3",
   "version": "3.11.5"
  }
 },
 "nbformat": 4,
 "nbformat_minor": 5
}
