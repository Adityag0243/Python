{
 "cells": [
  {
   "cell_type": "code",
   "execution_count": 3,
   "id": "912c9c7b-5188-43ea-9f47-720d72b40ef7",
   "metadata": {
    "tags": []
   },
   "outputs": [],
   "source": [
    "# oooooooooooooooopppppppppps🤭😮"
   ]
  },
  {
   "cell_type": "code",
   "execution_count": 12,
   "id": "439c8486-fc8e-494c-9cd7-0ab369969812",
   "metadata": {
    "tags": []
   },
   "outputs": [
    {
     "name": "stdout",
     "output_type": "stream",
     "text": [
      "<__main__.Product object at 0x000001A049C28990>\n"
     ]
    }
   ],
   "source": [
    "class Product:\n",
    "    pass\n",
    "\n",
    "Product_name=Product()\n",
    "\n",
    "print(Product_name)"
   ]
  },
  {
   "cell_type": "code",
   "execution_count": 14,
   "id": "cf73efc6-3920-4202-9c00-5fb34dd34183",
   "metadata": {
    "tags": []
   },
   "outputs": [
    {
     "name": "stdout",
     "output_type": "stream",
     "text": [
      "Pen\n",
      "5\n"
     ]
    }
   ],
   "source": [
    "class Product1:\n",
    "    #initializer or constructure special method with which we can create object\n",
    "    \n",
    "    def __init__(self,name,price):        #object will be refernced by self \n",
    "        self.name=name\n",
    "        self.price=price\n",
    "per = Product1(\"Pen\",5)\n",
    "\n",
    "print(per.name)\n",
    "print(per.price)"
   ]
  },
  {
   "cell_type": "code",
   "execution_count": 22,
   "id": "2849b13d-4a5e-406d-84a1-477c6c6b9f30",
   "metadata": {
    "tags": []
   },
   "outputs": [
    {
     "name": "stdout",
     "output_type": "stream",
     "text": [
      "010001\n",
      "Python\n",
      "Cricket\n"
     ]
    }
   ],
   "source": [
    "class Student:\n",
    "    def __init__(self,enrl_id,subject,hobby):            # in a class __init__ method can come once\n",
    "        self.enrl_id=enrl_id\n",
    "        self.subject=subject\n",
    "        self.hobby=hobby\n",
    "std1=Student(\"010001\",\"Python\",\"Cricket\")\n",
    "\n",
    "print(std1.enrl_id)\n",
    "print(std1.subject)\n",
    "print(std1.hobby)"
   ]
  },
  {
   "cell_type": "code",
   "execution_count": 24,
   "id": "c6db4f94-7392-4b96-a1d0-1593c627401c",
   "metadata": {
    "tags": []
   },
   "outputs": [
    {
     "ename": "NameError",
     "evalue": "name 'enrl_idd' is not defined",
     "output_type": "error",
     "traceback": [
      "\u001b[1;31m---------------------------------------------------------------------------\u001b[0m",
      "\u001b[1;31mNameError\u001b[0m                                 Traceback (most recent call last)",
      "Cell \u001b[1;32mIn[24], line 10\u001b[0m\n\u001b[0;32m      8\u001b[0m         \u001b[38;5;28mself\u001b[39m\u001b[38;5;241m.\u001b[39msubjecccct\u001b[38;5;241m=\u001b[39msubjectt\n\u001b[0;32m      9\u001b[0m         \u001b[38;5;28mself\u001b[39m\u001b[38;5;241m.\u001b[39mhobbbby\u001b[38;5;241m=\u001b[39mhobbyy\n\u001b[1;32m---> 10\u001b[0m std1\u001b[38;5;241m=\u001b[39mStudent(\u001b[38;5;124m\"\u001b[39m\u001b[38;5;124m010001\u001b[39m\u001b[38;5;124m\"\u001b[39m,\u001b[38;5;124m\"\u001b[39m\u001b[38;5;124mPython\u001b[39m\u001b[38;5;124m\"\u001b[39m,\u001b[38;5;124m\"\u001b[39m\u001b[38;5;124mCricket\u001b[39m\u001b[38;5;124m\"\u001b[39m)\n\u001b[0;32m     12\u001b[0m \u001b[38;5;28mprint\u001b[39m(std1\u001b[38;5;241m.\u001b[39menrl_id)\n\u001b[0;32m     13\u001b[0m \u001b[38;5;28mprint\u001b[39m(std1\u001b[38;5;241m.\u001b[39msubject)\n",
      "Cell \u001b[1;32mIn[24], line 7\u001b[0m, in \u001b[0;36mStudent.__init__\u001b[1;34m(self, enrllll_id, subjecccct, hobbbby)\u001b[0m\n\u001b[0;32m      6\u001b[0m \u001b[38;5;28;01mdef\u001b[39;00m \u001b[38;5;21m__init__\u001b[39m(\u001b[38;5;28mself\u001b[39m,enrllll_id,subjecccct,hobbbby):            \u001b[38;5;66;03m# in a class __init__ method can come once\u001b[39;00m\n\u001b[1;32m----> 7\u001b[0m     \u001b[38;5;28mself\u001b[39m\u001b[38;5;241m.\u001b[39menrllll_id\u001b[38;5;241m=\u001b[39menrl_idd\n\u001b[0;32m      8\u001b[0m     \u001b[38;5;28mself\u001b[39m\u001b[38;5;241m.\u001b[39msubjecccct\u001b[38;5;241m=\u001b[39msubjectt\n\u001b[0;32m      9\u001b[0m     \u001b[38;5;28mself\u001b[39m\u001b[38;5;241m.\u001b[39mhobbbby\u001b[38;5;241m=\u001b[39mhobbyy\n",
      "\u001b[1;31mNameError\u001b[0m: name 'enrl_idd' is not defined"
     ]
    }
   ],
   "source": [
    "class Student:\n",
    "    def __init__(self,enrl_id,subject,hobby):            # in a class __init__ method can come once\n",
    "        self.enrl_id=enrl_id\n",
    "        self.subject=subject\n",
    "        self.hobby=hobby\n",
    "    def __init__(self,enrllll_id,subjecccct,hobbbby):            # in a class __init__ method can come once\n",
    "        self.enrllll_id=enrl_idd\n",
    "        self.subjecccct=subjectt\n",
    "        self.hobbbby=hobbyy\n",
    "std1=Student(\"010001\",\"Python\",\"Cricket\")\n",
    "\n",
    "print(std1.enrl_id)\n",
    "print(std1.subject)\n",
    "print(std1.hobby)"
   ]
  },
  {
   "cell_type": "code",
   "execution_count": 40,
   "id": "4390ee8d-1f04-4109-927d-72e26e6ddd67",
   "metadata": {
    "tags": []
   },
   "outputs": [
    {
     "ename": "IndentationError",
     "evalue": "expected an indented block after function definition on line 10 (4289702663.py, line 11)",
     "output_type": "error",
     "traceback": [
      "\u001b[1;36m  Cell \u001b[1;32mIn[40], line 11\u001b[1;36m\u001b[0m\n\u001b[1;33m    self.enrllll_id=enrllll_id\u001b[0m\n\u001b[1;37m    ^\u001b[0m\n\u001b[1;31mIndentationError\u001b[0m\u001b[1;31m:\u001b[0m expected an indented block after function definition on line 10\n"
     ]
    }
   ],
   "source": [
    "class Student:\n",
    "    def __init__(self,enrl_id,subject,hobby):            # in a class __init__ method can come once\n",
    "        self.enrl_id=enrl_id\n",
    "        self.subject=subject\n",
    "        self.hobby=hobby\n",
    "    def __init__(self,enrllll_id,subjecccct,hobbbby):            # in a class __init__ method can come once\n",
    "        self.enrllll_id=enrllll_id\n",
    "        self.subjecccct=subjecccct\n",
    "        self.hobbbby=hobbbby\n",
    "        def __init__(self,enrllll_id,subjecccct):            # in a class __init__ method can come once\n",
    "        self.enrllll_id=enrllll_id\n",
    "        self.subjecccct=subjecccct\n",
    "        # self.hobbbby=hobbbby\n",
    "std1=Student(\"010001\",\"Python\",\"Cricket\")\n",
    "\n",
    "# print(std1.enrl_idd)\n",
    "print(std1.subjecccct)\n",
    "# print(std1.hobbbby)"
   ]
  },
  {
   "cell_type": "code",
   "execution_count": 42,
   "id": "5f4dbc11-ac20-4d9d-ae8b-3f0789eeccfe",
   "metadata": {
    "tags": []
   },
   "outputs": [
    {
     "name": "stdout",
     "output_type": "stream",
     "text": [
      "010001\n",
      "Python\n",
      "Cricket\n"
     ]
    }
   ],
   "source": [
    "class Student:\n",
    "    def __init__(self,enrl_id,subject,hobby):            # in a class __init__ method can come once\n",
    "        self.enrl_id=enrl_id\n",
    "        self.subject=subject\n",
    "        self.hobby=hobby\n",
    "std1=Student(\"010001\",\"Python\",\"Cricket\")\n",
    "\n",
    "print(std1.enrl_id)\n",
    "print(std1.subject)\n",
    "print(std1.hobby)"
   ]
  },
  {
   "cell_type": "code",
   "execution_count": 43,
   "id": "4058a194-73ca-48ba-be2b-d266d0bd386d",
   "metadata": {
    "tags": []
   },
   "outputs": [],
   "source": [
    "std1.interest=\"CP\""
   ]
  },
  {
   "cell_type": "code",
   "execution_count": 44,
   "id": "cd5d63e7-fd6f-460b-ba12-3948976e6738",
   "metadata": {
    "tags": []
   },
   "outputs": [
    {
     "name": "stdout",
     "output_type": "stream",
     "text": [
      "CP\n"
     ]
    }
   ],
   "source": [
    "print(std1.interest)"
   ]
  },
  {
   "cell_type": "code",
   "execution_count": 48,
   "id": "b1a0e876-ad19-489c-a249-d0dd81e9c183",
   "metadata": {
    "tags": []
   },
   "outputs": [
    {
     "name": "stdout",
     "output_type": "stream",
     "text": [
      "010001\n",
      "CP\n",
      "hockey\n"
     ]
    }
   ],
   "source": [
    "#implicit constructure overloading \n",
    "class Student:\n",
    "    def __init__(self,enrl_id=\"000000\",subject=\"CP\",hobby=\"Cricket\"):            # in a class __init__ method can come once\n",
    "        self.enrl_id=enrl_id\n",
    "        self.subject=subject\n",
    "        self.hobby=hobby\n",
    "std1=Student(\"010001\",hobby=\"hockey\")\n",
    "\n",
    "print(std1.enrl_id)\n",
    "print(std1.subject)\n",
    "print(std1.hobby)"
   ]
  },
  {
   "cell_type": "code",
   "execution_count": 50,
   "id": "37d32c81-272a-4352-949c-560be1621bfa",
   "metadata": {
    "tags": []
   },
   "outputs": [
    {
     "name": "stdout",
     "output_type": "stream",
     "text": [
      "India Aditya 20\n"
     ]
    }
   ],
   "source": [
    "class Students:\n",
    "    country=\"India\"    #class property value should be initialize here none atleast, same for all object\n",
    "    \n",
    "    def __init__(self,name,age):\n",
    "        self.name=name\n",
    "        self.age=age\n",
    "std1=Students(\"Aditya\" , 20)\n",
    "print(std1.country , std1.name , std1.age)"
   ]
  },
  {
   "cell_type": "code",
   "execution_count": 58,
   "id": "3b164d1a-6f6b-4fe8-bda3-5a66f90e4553",
   "metadata": {
    "tags": []
   },
   "outputs": [
    {
     "name": "stdout",
     "output_type": "stream",
     "text": [
      "Aditya can dance\n"
     ]
    }
   ],
   "source": [
    "class Students:\n",
    "    def __init__(self , name, age):\n",
    "        self.name=name\n",
    "        self.age=age\n",
    "    def dance(self):\n",
    "        print(self.name +\" can dance\")\n",
    "        \n",
    "std1=Students(\"Aditya\",20)\n",
    "std1.dance()"
   ]
  },
  {
   "cell_type": "code",
   "execution_count": 61,
   "id": "cb81aa18-2905-4608-a1ce-6407763855f1",
   "metadata": {
    "tags": []
   },
   "outputs": [
    {
     "name": "stdout",
     "output_type": "stream",
     "text": [
      "Ferrari car is accelerating\n"
     ]
    }
   ],
   "source": [
    "class Car:\n",
    "    def __init__(self , brand, color):\n",
    "        self.brand=brand\n",
    "        self.color=color\n",
    "    def accelerate(self):\n",
    "        print(self.brand +\" car is accelerating\")\n",
    "        \n",
    "std1=Car(\"Ferrari\",\"Black\")\n",
    "std1.accelerate()"
   ]
  },
  {
   "cell_type": "code",
   "execution_count": 62,
   "id": "9ae454c6-568c-4746-a695-00d9af8616c6",
   "metadata": {
    "tags": []
   },
   "outputs": [
    {
     "data": {
      "text/plain": [
       "29"
      ]
     },
     "execution_count": 62,
     "metadata": {},
     "output_type": "execute_result"
    }
   ],
   "source": [
    "class Point:\n",
    "    def __init__(self,x,y,z):\n",
    "        self.x=x\n",
    "        self.y=y\n",
    "        self.z=z\n",
    "    def sqSum(self):\n",
    "        return(self.x**2+self.y**2+self.z**2)\n",
    "p1=Point(2,3,4)\n",
    "p1.sqSum()\n",
    "    "
   ]
  },
  {
   "cell_type": "code",
   "execution_count": 64,
   "id": "ef3cda7c-a3d5-4a53-ae3d-7981356bd933",
   "metadata": {
    "tags": []
   },
   "outputs": [
    {
     "data": {
      "text/plain": [
       "29"
      ]
     },
     "execution_count": 64,
     "metadata": {},
     "output_type": "execute_result"
    }
   ],
   "source": [
    "class Point:\n",
    "    def __init__(self,x,y,z):\n",
    "        self.x=x\n",
    "        self.y=y\n",
    "        self.z=z\n",
    "    def sqSum(self,x,y,z):\n",
    "        return(self.x**2+self.y**2+self.z**2)\n",
    "p1=Point(2,3,4)\n",
    "p1.sqSum(2,3,4)\n",
    "    "
   ]
  },
  {
   "cell_type": "code",
   "execution_count": 65,
   "id": "9c60dd9b-325d-48e3-9ae6-b258ae0fac4d",
   "metadata": {
    "tags": []
   },
   "outputs": [
    {
     "data": {
      "text/plain": [
       "29"
      ]
     },
     "execution_count": 65,
     "metadata": {},
     "output_type": "execute_result"
    }
   ],
   "source": [
    "class Point:\n",
    "    def __init__(self,x,y,z):\n",
    "        self.x=x\n",
    "        self.y=y\n",
    "        self.z=z\n",
    "    def sqSum(self,x,y,z):\n",
    "        return(x**2+y**2+z**2)\n",
    "p1=Point(2,3,4)\n",
    "p1.sqSum(2,3,4)\n",
    "    "
   ]
  },
  {
   "cell_type": "code",
   "execution_count": 66,
   "id": "2e3fc952-8f7b-47af-b027-07b4eb3cb323",
   "metadata": {
    "tags": []
   },
   "outputs": [
    {
     "ename": "TypeError",
     "evalue": "Point.sqSum() missing 2 required positional arguments: 'y' and 'z'",
     "output_type": "error",
     "traceback": [
      "\u001b[1;31m---------------------------------------------------------------------------\u001b[0m",
      "\u001b[1;31mTypeError\u001b[0m                                 Traceback (most recent call last)",
      "Cell \u001b[1;32mIn[66], line 9\u001b[0m\n\u001b[0;32m      7\u001b[0m         \u001b[38;5;28;01mreturn\u001b[39;00m(\u001b[38;5;28mself\u001b[39m\u001b[38;5;241m.\u001b[39mx\u001b[38;5;241m*\u001b[39m\u001b[38;5;241m*\u001b[39m\u001b[38;5;241m2\u001b[39m\u001b[38;5;241m+\u001b[39m\u001b[38;5;28mself\u001b[39m\u001b[38;5;241m.\u001b[39my\u001b[38;5;241m*\u001b[39m\u001b[38;5;241m*\u001b[39m\u001b[38;5;241m2\u001b[39m\u001b[38;5;241m+\u001b[39m\u001b[38;5;28mself\u001b[39m\u001b[38;5;241m.\u001b[39mz\u001b[38;5;241m*\u001b[39m\u001b[38;5;241m*\u001b[39m\u001b[38;5;241m2\u001b[39m)\n\u001b[0;32m      8\u001b[0m p1\u001b[38;5;241m=\u001b[39mPoint(\u001b[38;5;241m2\u001b[39m,\u001b[38;5;241m3\u001b[39m,\u001b[38;5;241m4\u001b[39m)\n\u001b[1;32m----> 9\u001b[0m p1\u001b[38;5;241m.\u001b[39msqSum()\n",
      "\u001b[1;31mTypeError\u001b[0m: Point.sqSum() missing 2 required positional arguments: 'y' and 'z'"
     ]
    }
   ],
   "source": [
    "class Point:\n",
    "    def __init__(self,x,y,z):\n",
    "        self.x=x\n",
    "        self.y=y\n",
    "        self.z=z\n",
    "    def sqSum(x,y,z):#yaha pe self nhi dia self x,y,z okay self.x,self.y,self.z ok yaha alag se slef likh bhi skte hai aur nhi bhi\n",
    "        return(self.x**2+self.y**2+self.z**2)\n",
    "p1=Point(2,3,4)\n",
    "p1.sqSum()\n",
    "    "
   ]
  },
  {
   "cell_type": "code",
   "execution_count": null,
   "id": "afcfe965-f5fe-4b6c-95f5-4d27952fbb4c",
   "metadata": {},
   "outputs": [],
   "source": []
  }
 ],
 "metadata": {
  "kernelspec": {
   "display_name": "Python 3 (ipykernel)",
   "language": "python",
   "name": "python3"
  },
  "language_info": {
   "codemirror_mode": {
    "name": "ipython",
    "version": 3
   },
   "file_extension": ".py",
   "mimetype": "text/x-python",
   "name": "python",
   "nbconvert_exporter": "python",
   "pygments_lexer": "ipython3",
   "version": "3.11.5"
  }
 },
 "nbformat": 4,
 "nbformat_minor": 5
}
