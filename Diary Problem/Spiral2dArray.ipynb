{
 "cells": [
  {
   "cell_type": "code",
   "execution_count": 4,
   "id": "eaab8523-81f9-41c5-9298-a9e37d0bea7f",
   "metadata": {},
   "outputs": [
    {
     "name": "stdin",
     "output_type": "stream",
     "text": [
      " 6\n"
     ]
    },
    {
     "data": {
      "text/plain": [
       "[[0, 0, 0, 0, 0, 0],\n",
       " [0, 0, 0, 0, 0, 0],\n",
       " [0, 0, 0, 0, 0, 0],\n",
       " [0, 0, 0, 0, 0, 0],\n",
       " [0, 0, 0, 0, 0, 0],\n",
       " [0, 0, 0, 0, 0, 0]]"
      ]
     },
     "execution_count": 4,
     "metadata": {},
     "output_type": "execute_result"
    }
   ],
   "source": [
    "n=int(input())\n",
    "\n",
    "l=list()\n",
    "l=[[0]*n]*n\n",
    "l"
   ]
  },
  {
   "cell_type": "code",
   "execution_count": null,
   "id": "53bfb4c6-cf96-46ef-9d11-205e4fcc50f1",
   "metadata": {
    "tags": []
   },
   "outputs": [],
   "source": [
    "n=int(input())\n",
    "\n",
    "l=list()\n",
    "l=[[0]*n]*n\n",
    "##print(l)\n",
    "row=n\n",
    "column=n\n",
    "count=1\n",
    "jump=0\n",
    "i=0;\n",
    "while(column>0 and row>0):\n",
    "    while(jump<column):\n",
    "        l[i][jump]=count\n",
    "        jump+=1\n",
    "        count+=1\n",
    "    row-=0\n",
    "    jump=0\n",
    "print(l)\n",
    "    \n",
    "        "
   ]
  },
  {
   "cell_type": "code",
   "execution_count": null,
   "id": "5f847619-34c3-45b7-8d59-b00be9293625",
   "metadata": {
    "tags": []
   },
   "outputs": [
    {
     "name": "stdin",
     "output_type": "stream",
     "text": [
      " 5\n"
     ]
    }
   ],
   "source": [
    "n=int(input())\n",
    "\n",
    "l=list()\n",
    "l=[[0]*n]*n\n",
    "##print(l)\n",
    "row=n\n",
    "column=n\n",
    "count=1\n",
    "jump=0\n",
    "i=0;\n",
    "while(column>0 and row>0):\n",
    "    while(jump<column):\n",
    "        l[i][jump]=count\n",
    "        jump+=1\n",
    "        count+=1\n",
    "    row-=0\n",
    "    jump=0\n",
    "print(l)\n",
    "    \n",
    "        "
   ]
  },
  {
   "cell_type": "code",
   "execution_count": null,
   "id": "2c570762-5c72-4946-b431-1c47b5768b58",
   "metadata": {},
   "outputs": [],
   "source": []
  }
 ],
 "metadata": {
  "kernelspec": {
   "display_name": "Python 3 (ipykernel)",
   "language": "python",
   "name": "python3"
  },
  "language_info": {
   "codemirror_mode": {
    "name": "ipython",
    "version": 3
   },
   "file_extension": ".py",
   "mimetype": "text/x-python",
   "name": "python",
   "nbconvert_exporter": "python",
   "pygments_lexer": "ipython3",
   "version": "3.11.5"
  }
 },
 "nbformat": 4,
 "nbformat_minor": 5
}
