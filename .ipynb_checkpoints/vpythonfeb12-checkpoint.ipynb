{
 "cells": [
  {
   "cell_type": "code",
   "execution_count": 4,
   "id": "a9ffa975-6b64-4bf7-aec7-32debe7d4ff5",
   "metadata": {
    "tags": []
   },
   "outputs": [
    {
     "name": "stdout",
     "output_type": "stream",
     "text": [
      "-5.551115123125783e-17\n"
     ]
    }
   ],
   "source": [
    "x=0.1\n",
    "y=0.3\n",
    "z=y-(3*x)\n",
    "print(z)"
   ]
  },
  {
   "cell_type": "code",
   "execution_count": 2,
   "id": "96897c14-56d2-4b45-a0a0-e61d631122bb",
   "metadata": {
    "tags": []
   },
   "outputs": [
    {
     "name": "stdout",
     "output_type": "stream",
     "text": [
      "0.0\n"
     ]
    }
   ],
   "source": [
    "x=0.25\n",
    "y=0.50\n",
    "print(y-2*x)"
   ]
  },
  {
   "cell_type": "markdown",
   "id": "e617a002-4c38-4a0d-9ae3-966f9dfde003",
   "metadata": {},
   "source": [
    "binary of 0.25 and 0.5 has exact value while 0.1 and 0.3 is approx value"
   ]
  },
  {
   "cell_type": "code",
   "execution_count": 7,
   "id": "d76aaeeb-1c64-4618-a758-e8a9e90933c0",
   "metadata": {
    "tags": []
   },
   "outputs": [],
   "source": [
    "matrix=[[0,0,0,0],[0,0,0,0],[0,0,0,0],[0,0,0,0]]"
   ]
  },
  {
   "cell_type": "code",
   "execution_count": 8,
   "id": "42106eb8-a178-400a-9418-246915ce487a",
   "metadata": {
    "tags": []
   },
   "outputs": [
    {
     "data": {
      "text/plain": [
       "[[0, 0, 0, 0], [0, 0, 0, 0], [0, 0, 0, 0], [0, 0, 0, 0]]"
      ]
     },
     "execution_count": 8,
     "metadata": {},
     "output_type": "execute_result"
    }
   ],
   "source": [
    "matrix"
   ]
  },
  {
   "cell_type": "code",
   "execution_count": 9,
   "id": "1828b325-878e-46df-93e6-fd648dc462fb",
   "metadata": {
    "tags": []
   },
   "outputs": [
    {
     "data": {
      "text/plain": [
       "[0, 0, 0, 0]"
      ]
     },
     "execution_count": 9,
     "metadata": {},
     "output_type": "execute_result"
    }
   ],
   "source": [
    "matrix[2]"
   ]
  },
  {
   "cell_type": "code",
   "execution_count": 18,
   "id": "623d4aa1-4b50-4755-a065-484021711511",
   "metadata": {
    "tags": []
   },
   "outputs": [
    {
     "name": "stdout",
     "output_type": "stream",
     "text": [
      "*       * \n",
      "* *   * * \n",
      "* * * * * \n",
      "* * * * * \n",
      "* * * * * \n"
     ]
    }
   ],
   "source": [
    "n=5\n",
    "a=0\n",
    "for i in range(0,5):\n",
    "    for j in range(0,5):\n",
    "        if(j<=a or j>=n-a-1):\n",
    "            print(\"*\",end=\" \")\n",
    "        else:\n",
    "            print(end=\"  \")\n",
    "    a+=1;\n",
    "    print(end=\"\\n\")"
   ]
  },
  {
   "cell_type": "code",
   "execution_count": 25,
   "id": "9206ae40-7386-402f-9eec-4e443a7a765f",
   "metadata": {
    "tags": []
   },
   "outputs": [
    {
     "name": "stdin",
     "output_type": "stream",
     "text": [
      "Enter row number for square matrix  8\n"
     ]
    },
    {
     "name": "stdout",
     "output_type": "stream",
     "text": [
      "\\******/\n",
      "*\\****/*\n",
      "**\\**/**\n",
      "***\\/***\n",
      "***/\\***\n",
      "**/**\\**\n",
      "*/****\\*\n",
      "/******\\\n"
     ]
    }
   ],
   "source": [
    "n=int(input(\"Enter row number for square matrix \"))\n",
    "for i in range(n):\n",
    "    for j in range(n):\n",
    "        if(i==j):\n",
    "            print(\"\\\\\",end=\"\")  \n",
    "        elif( i+j==n-1):\n",
    "            print(\"/\",end=\"\")\n",
    "        else:\n",
    "                  print(\"*\",end=\"\")\n",
    "    print(end=\"\\n\")"
   ]
  },
  {
   "cell_type": "code",
   "execution_count": null,
   "id": "8194a9aa-d9eb-4169-986f-c052accfe12f",
   "metadata": {},
   "outputs": [],
   "source": []
  }
 ],
 "metadata": {
  "kernelspec": {
   "display_name": "Python 3 (ipykernel)",
   "language": "python",
   "name": "python3"
  },
  "language_info": {
   "codemirror_mode": {
    "name": "ipython",
    "version": 3
   },
   "file_extension": ".py",
   "mimetype": "text/x-python",
   "name": "python",
   "nbconvert_exporter": "python",
   "pygments_lexer": "ipython3",
   "version": "3.11.5"
  }
 },
 "nbformat": 4,
 "nbformat_minor": 5
}
